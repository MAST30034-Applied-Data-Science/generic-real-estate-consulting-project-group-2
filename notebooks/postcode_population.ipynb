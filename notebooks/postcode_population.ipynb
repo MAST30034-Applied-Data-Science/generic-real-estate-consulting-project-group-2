{
 "cells": [
  {
   "cell_type": "code",
   "execution_count": 8,
   "metadata": {
    "collapsed": true
   },
   "outputs": [],
   "source": [
    "import pandas as pd\n",
    "import geopandas as gpd\n",
    "import json\n",
    "from shapely.geometry import Point"
   ]
  },
  {
   "cell_type": "code",
   "execution_count": 9,
   "outputs": [
    {
     "name": "stdout",
     "output_type": "stream",
     "text": [
      "25688079\n"
     ]
    }
   ],
   "source": [
    "## calculate population number in 2021\n",
    "population_data = pd.read_csv('../data/curated/SA2.csv')\n",
    "population_data = population_data[population_data['ASGS_2021: Region'] == '2: Victoria']\n",
    "region_population_2021 = population_data[population_data['TIME_PERIOD: Time Period'] == 2021]['OBS_VALUE'].sum()\n",
    "print(region_population_2021)\n",
    "\n"
   ],
   "metadata": {
    "collapsed": false,
    "pycharm": {
     "name": "#%%\n"
    }
   }
  },
  {
   "cell_type": "code",
   "execution_count": 10,
   "outputs": [],
   "source": [
    "# Reads in shape file downloaded from: https://discover.data.vic.gov.au/dataset/postcode-boundaries-polygon-vicmap-admin\n",
    "sf = gpd.read_file(\"../data/raw/rental_zones/POSTCODE_POLYGON.shp\")"
   ],
   "metadata": {
    "collapsed": false,
    "pycharm": {
     "name": "#%%\n"
    }
   }
  },
  {
   "cell_type": "code",
   "execution_count": 11,
   "outputs": [],
   "source": [
    "sf['geometry'] = sf['geometry'].to_crs(\"+proj=longlat +ellps=WGS84 +datum=WGS84 +no_defs\")\n",
    "\n"
   ],
   "metadata": {
    "collapsed": false,
    "pycharm": {
     "name": "#%%\n"
    }
   }
  },
  {
   "cell_type": "code",
   "execution_count": 12,
   "outputs": [],
   "source": [
    "f = open(\"../data/raw/scraped_rental.json\")\n",
    "rental_data = json.load(f)\n",
    "rental_df = pd.DataFrame.from_dict(rental_data, orient = 'index')"
   ],
   "metadata": {
    "collapsed": false,
    "pycharm": {
     "name": "#%%\n"
    }
   }
  },
  {
   "cell_type": "code",
   "execution_count": 13,
   "outputs": [],
   "source": [
    "# Makes all the coordinates scraped into (lattitude ,longitude)\n",
    "rental_df['coordinates'] = rental_df['coordinates'].apply(lambda x: list(reversed(x)))\n",
    "rental_df['coordinates'] = rental_df['coordinates'].apply(Point)"
   ],
   "metadata": {
    "collapsed": false,
    "pycharm": {
     "name": "#%%\n"
    }
   }
  },
  {
   "cell_type": "code",
   "execution_count": 14,
   "outputs": [],
   "source": [
    "#Creates geodataframe from the shapefile with postcodes\n",
    "postcode_sf = gpd.GeoDataFrame.from_file(\"../data/raw/rental_zones/POSTCODE_POLYGON.shp\")\n",
    "postcode_sf['geometry'] = postcode_sf['geometry'].to_crs(\"+proj=longlat +ellps=WGS84 +datum=WGS84 +no_defs\")"
   ],
   "metadata": {
    "collapsed": false,
    "pycharm": {
     "name": "#%%\n"
    }
   }
  },
  {
   "cell_type": "code",
   "execution_count": 15,
   "outputs": [],
   "source": [
    "# Creates geodataframe with points of rental properties\n",
    "rental_points = gpd.GeoDataFrame(rental_df,geometry='coordinates',crs = postcode_sf.crs)"
   ],
   "metadata": {
    "collapsed": false,
    "pycharm": {
     "name": "#%%\n"
    }
   }
  },
  {
   "cell_type": "code",
   "execution_count": 16,
   "outputs": [],
   "source": [
    "# Merges two geodataframes and checkes if properties are in postcode area\n",
    "pointInPolys = gpd.tools.sjoin(rental_points, postcode_sf, how='left')"
   ],
   "metadata": {
    "collapsed": false,
    "pycharm": {
     "name": "#%%\n"
    }
   }
  },
  {
   "cell_type": "code",
   "execution_count": 27,
   "outputs": [
    {
     "name": "stdout",
     "output_type": "stream",
     "text": [
      "          name  cost_text  coordinates  rooms  desc  index_right  PFI  PFI_CR  \\\n",
      "POSTCODE                                                                        \n",
      "3000        22         22           22     22    22           22   22      22   \n",
      "3002         6          6            6      6     6            6    6       6   \n",
      "3003         2          2            2      2     2            2    2       2   \n",
      "3004        16         16           16     16    16           16   16      16   \n",
      "3006        16         16           16     16    16           16   16      16   \n",
      "...        ...        ...          ...    ...   ...          ...  ...     ...   \n",
      "3939         2          2            2      2     2            2    2       2   \n",
      "3941         1          1            1      1     1            1    1       1   \n",
      "3942         1          1            1      1     1            1    1       1   \n",
      "3943         1          1            1      1     1            1    1       1   \n",
      "3944         4          4            4      4     4            4    4       4   \n",
      "\n",
      "          UFI  UFI_CR  UFI_OLD  POSTCODE_POPULATION  \n",
      "POSTCODE                                             \n",
      "3000       22      22       22         1.491129e+06  \n",
      "3002        6       6        6         4.066714e+05  \n",
      "3003        2       2        2         1.355571e+05  \n",
      "3004       16      16       16         1.084457e+06  \n",
      "3006       16      16       16         1.084457e+06  \n",
      "...       ...     ...      ...                  ...  \n",
      "3939        2       2        2         1.355571e+05  \n",
      "3941        1       1        1         6.777857e+04  \n",
      "3942        1       1        1         6.777857e+04  \n",
      "3943        1       1        1         6.777857e+04  \n",
      "3944        4       4        4         2.711143e+05  \n",
      "\n",
      "[85 rows x 12 columns]\n"
     ]
    }
   ],
   "source": [
    "# calculate population of postcode by ratio of rent info in every post code suburb\n",
    "rent_by_postcode = pointInPolys.groupby('POSTCODE').count()\n",
    "all = rent_by_postcode['name'].sum()\n",
    "ratio = rent_by_postcode['name'] / all\n",
    "rent_by_postcode['POSTCODE_POPULATION'] = ratio * region_population_2021\n",
    "rent_by_postcode['POSTCODE_POPULATION'].apply(lambda x: int(x))\n",
    "print(rent_by_postcode)"
   ],
   "metadata": {
    "collapsed": false,
    "pycharm": {
     "name": "#%%\n"
    }
   }
  }
 ],
 "metadata": {
  "kernelspec": {
   "display_name": "Python 3",
   "language": "python",
   "name": "python3"
  },
  "language_info": {
   "codemirror_mode": {
    "name": "ipython",
    "version": 2
   },
   "file_extension": ".py",
   "mimetype": "text/x-python",
   "name": "python",
   "nbconvert_exporter": "python",
   "pygments_lexer": "ipython2",
   "version": "2.7.6"
  }
 },
 "nbformat": 4,
 "nbformat_minor": 0
}