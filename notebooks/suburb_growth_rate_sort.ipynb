{
 "cells": [
  {
   "cell_type": "code",
   "execution_count": 3,
   "metadata": {
    "collapsed": true
   },
   "outputs": [
    {
     "name": "stdout",
     "output_type": "stream",
     "text": [
      "11111111111111\n"
     ]
    }
   ],
   "source": [
    "import pandas as pd\n",
    "import geopandas as gpd\n",
    "import json\n",
    "from shapely.geometry import Point"
   ]
  },
  {
   "cell_type": "code",
   "execution_count": 35,
   "outputs": [
    {
     "name": "stdout",
     "output_type": "stream",
     "text": [
      "                     Australian Bureau of Statistics Unnamed: 1 Unnamed: 2  \\\n",
      "0                          Regional population, 2021        NaN        NaN   \n",
      "1   Released at 11.30am (Canberra time) 26 July 2022        NaN        NaN   \n",
      "2  Table 1. Estimated resident population, Statis...        NaN        NaN   \n",
      "3                                                NaN        NaN        NaN   \n",
      "4                                                NaN        NaN        NaN   \n",
      "\n",
      "  Unnamed: 3 Unnamed: 4 Unnamed: 5 Unnamed: 6 Unnamed: 7 Unnamed: 8  \\\n",
      "0        NaN        NaN        NaN        NaN        NaN        NaN   \n",
      "1        NaN        NaN        NaN        NaN        NaN        NaN   \n",
      "2        NaN        NaN        NaN        NaN        NaN        NaN   \n",
      "3        NaN        NaN        NaN        NaN        NaN        NaN   \n",
      "4        NaN        NaN        NaN        NaN        NaN        NaN   \n",
      "\n",
      "  Unnamed: 9  ... Unnamed: 27 Unnamed: 28 Unnamed: 29 Unnamed: 30 Unnamed: 31  \\\n",
      "0        NaN  ...         NaN         NaN         NaN         NaN         NaN   \n",
      "1        NaN  ...         NaN         NaN         NaN         NaN         NaN   \n",
      "2        NaN  ...         NaN         NaN         NaN         NaN         NaN   \n",
      "3        NaN  ...         NaN         NaN         NaN         NaN         NaN   \n",
      "4        NaN  ...         NaN         NaN         NaN         NaN         NaN   \n",
      "\n",
      "  Unnamed: 32 Unnamed: 33 Unnamed: 34 Unnamed: 35 Unnamed: 36  \n",
      "0         NaN         NaN         NaN         NaN         NaN  \n",
      "1         NaN         NaN         NaN         NaN         NaN  \n",
      "2         NaN         NaN         NaN         NaN         NaN  \n",
      "3         NaN         NaN         NaN         NaN         NaN  \n",
      "4      Change         NaN         NaN         NaN         NaN  \n",
      "\n",
      "[5 rows x 37 columns]\n"
     ]
    }
   ],
   "source": [
    "save_path = '../data/raw/scraped_population.csv'\n",
    "# download the population data\n",
    "url = \"https://www.abs.gov.au/statistics/people/population/regional-population/2021/32180DS0001_2001-21.xlsx\"\n",
    "origin_data = pd.read_excel(url, sheet_name='Table 1')\n",
    "print(origin_data.head())\n"
   ],
   "metadata": {
    "collapsed": false,
    "pycharm": {
     "name": "#%%\n"
    }
   }
  },
  {
   "cell_type": "code",
   "execution_count": 36,
   "outputs": [
    {
     "name": "stdout",
     "output_type": "stream",
     "text": [
      "['S/T code', 'S/T name']\n",
      "         AREA   POSTCODE                   SUBURB 2010 POPULATION  \\\n",
      "651  Victoria  201011002                 Ballarat           12462   \n",
      "652  Victoria  201011005                Buninyong            6595   \n",
      "653  Victoria  201011006                Delacombe            5699   \n",
      "654  Victoria  201011007            Smythes Creek            3774   \n",
      "655  Victoria  201011008  Wendouree - Miners Rest           14104   \n",
      "\n",
      "    2011 POPULATION 2012 POPULATION 2013 POPULATION 2014 POPULATION  \\\n",
      "651           12365           12357           12352           12327   \n",
      "652            6725            6854            6984            7082   \n",
      "653            5838            6020            6267            6583   \n",
      "654            3819            3872            3914            3945   \n",
      "655           14473           14625           14707           14746   \n",
      "\n",
      "    2015 POPULATION 2016 POPULATION 2017 POPULATION 2018 POPULATION  \\\n",
      "651           12300           12301           12261           12237   \n",
      "652            7191            7311            7407            7413   \n",
      "653            6846            7195            7617            8174   \n",
      "654            3966            3990            4002            4040   \n",
      "655           14779           14826           14933           15056   \n",
      "\n",
      "    2019 POPULATION 2020 POPULATION 2021 POPULATION  \n",
      "651           12311           12183           12076  \n",
      "652            7452            7369            7232  \n",
      "653            8876            9736           10640  \n",
      "654            4109            4148            4213  \n",
      "655           15160           15242           15314  \n"
     ]
    }
   ],
   "source": [
    "data_index = ['S/T code', 'S/T name', ]\n",
    "print(data_index)\n",
    "victoria_data = origin_data[651: 1172]\n",
    "filter_data = victoria_data[['Unnamed: 1', 'Unnamed: 8', 'Unnamed: 9', 'Unnamed: 19', 'Unnamed: 20', 'Unnamed: 21', 'Unnamed: 22',\n",
    "                             'Unnamed: 23', 'Unnamed: 24', 'Unnamed: 25', 'Unnamed: 26', 'Unnamed: 27', 'Unnamed: 28', 'Unnamed: 29', 'Unnamed: 30']]\n",
    "columns = {\n",
    "    'Unnamed: 1': 'AREA',\n",
    "    'Unnamed: 8': 'POSTCODE',\n",
    "    'Unnamed: 9': 'SUBURB',\n",
    "    'Unnamed: 19': '2010 POPULATION',\n",
    "    'Unnamed: 20': '2011 POPULATION',\n",
    "    'Unnamed: 21': '2012 POPULATION',\n",
    "    'Unnamed: 22': '2013 POPULATION',\n",
    "    'Unnamed: 23': '2014 POPULATION',\n",
    "    'Unnamed: 24': '2015 POPULATION',\n",
    "    'Unnamed: 25': '2016 POPULATION',\n",
    "    'Unnamed: 26': '2017 POPULATION',\n",
    "    'Unnamed: 27': '2018 POPULATION',\n",
    "    'Unnamed: 28': '2019 POPULATION',\n",
    "    'Unnamed: 29': '2020 POPULATION',\n",
    "    'Unnamed: 30': '2021 POPULATION',\n",
    "           }\n",
    "filter_data = filter_data.rename(columns=columns)\n",
    "print(filter_data.head())\n",
    "filter_data.to_csv(save_path)"
   ],
   "metadata": {
    "collapsed": false,
    "pycharm": {
     "name": "#%%\n"
    }
   }
  },
  {
   "cell_type": "code",
   "execution_count": 83,
   "outputs": [
    {
     "name": "stdout",
     "output_type": "stream",
     "text": [
      "the first increase ratio of population in SA2 suburbs is:\n",
      "['Moorabbin Airport' 'Essendon Airport' 'Clyde North - South'\n",
      " 'Clyde North - North' 'Wollert' 'Craigieburn - North West'\n",
      " 'Cobblebank - Strathtulloh' 'Tarneit (West) - Mount Cottrell'\n",
      " 'Tarneit - North' 'Port Melbourne Industrial']\n"
     ]
    }
   ],
   "source": [
    "## read data and calculate increase ratio of population\n",
    "population_data = pd.read_csv(save_path)\n",
    "population_data['increase_ratio'] = population_data['2021 POPULATION'] / population_data['2010 POPULATION']\n",
    "sorted_data = population_data.sort_values(by='increase_ratio', ascending=False)\n",
    "first_10 = sorted_data['SUBURB'].head(10).values\n",
    "print(\"the first 10 increase ratio of population in SA2 suburbs is:\")\n",
    "print(first_10)\n",
    "\n",
    "\n",
    "\n",
    "\n"
   ],
   "metadata": {
    "collapsed": false,
    "pycharm": {
     "name": "#%%\n"
    }
   }
  }
 ],
 "metadata": {
  "kernelspec": {
   "display_name": "Python 3",
   "language": "python",
   "name": "python3"
  },
  "language_info": {
   "codemirror_mode": {
    "name": "ipython",
    "version": 2
   },
   "file_extension": ".py",
   "mimetype": "text/x-python",
   "name": "python",
   "nbconvert_exporter": "python",
   "pygments_lexer": "ipython2",
   "version": "2.7.6"
  }
 },
 "nbformat": 4,
 "nbformat_minor": 0
}