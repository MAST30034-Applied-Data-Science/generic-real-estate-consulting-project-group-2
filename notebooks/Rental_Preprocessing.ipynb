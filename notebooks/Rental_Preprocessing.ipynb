{
 "cells": [
  {
   "cell_type": "code",
   "execution_count": 256,
   "metadata": {},
   "outputs": [],
   "source": [
    "import json\n",
    "import pandas as pd"
   ]
  },
  {
   "cell_type": "code",
   "execution_count": 257,
   "metadata": {},
   "outputs": [],
   "source": [
    "f = open(\"../data/raw/domain_scraped_raw.json\")\n",
    "rental_data = json.load(f)\n",
    "\n",
    "rental_df = pd.DataFrame.from_dict(rental_data, orient = 'index')\n",
    "rental_df2 = pd.DataFrame.from_dict(rental_data, orient = 'index')\n",
    "rental_final_df= pd.DataFrame.from_dict(rental_data, orient = 'index')"
   ]
  },
  {
   "cell_type": "code",
   "execution_count": 258,
   "metadata": {},
   "outputs": [
    {
     "data": {
      "text/html": [
       "<div>\n",
       "<style scoped>\n",
       "    .dataframe tbody tr th:only-of-type {\n",
       "        vertical-align: middle;\n",
       "    }\n",
       "\n",
       "    .dataframe tbody tr th {\n",
       "        vertical-align: top;\n",
       "    }\n",
       "\n",
       "    .dataframe thead th {\n",
       "        text-align: right;\n",
       "    }\n",
       "</style>\n",
       "<table border=\"1\" class=\"dataframe\">\n",
       "  <thead>\n",
       "    <tr style=\"text-align: right;\">\n",
       "      <th></th>\n",
       "      <th>name</th>\n",
       "      <th>prop_type</th>\n",
       "      <th>cost_text</th>\n",
       "      <th>coordinates</th>\n",
       "      <th>rooms</th>\n",
       "      <th>add_feat</th>\n",
       "    </tr>\n",
       "  </thead>\n",
       "  <tbody>\n",
       "    <tr>\n",
       "      <th>https://www.domain.com.au/3309-18-hoff-boulevard-southbank-vic-3006-16086881</th>\n",
       "      <td>3309/18 Hoff Boulevard Southbank VIC 3006</td>\n",
       "      <td>Apartment / Unit / Flat</td>\n",
       "      <td>$650 per week</td>\n",
       "      <td>[-37.825817, 144.9640414]</td>\n",
       "      <td>[[2 Beds], [2 Baths], []]</td>\n",
       "      <td>[Built in wardrobes, Gym, Ducted Heating, Duct...</td>\n",
       "    </tr>\n",
       "    <tr>\n",
       "      <th>https://www.domain.com.au/5605-70-southbank-boulevard-southbank-vic-3006-14433279</th>\n",
       "      <td>5605/70 Southbank Boulevard Southbank VIC 3006</td>\n",
       "      <td>Apartment / Unit / Flat</td>\n",
       "      <td>$470 per week</td>\n",
       "      <td>[-37.8231931, 144.9639881]</td>\n",
       "      <td>[[1 Bed], [1 Bath], []]</td>\n",
       "      <td>[Gas, Internal Laundry, INSIDE, Gym, Intercom,...</td>\n",
       "    </tr>\n",
       "    <tr>\n",
       "      <th>https://www.domain.com.au/229-22-kavanagh-street-southbank-vic-3006-16087424</th>\n",
       "      <td>229/22 Kavanagh Street Southbank VIC 3006</td>\n",
       "      <td>Apartment / Unit / Flat</td>\n",
       "      <td>$420 per week - partially furnished</td>\n",
       "      <td>[-37.82284060000001, 144.9658569]</td>\n",
       "      <td>[[1 Bed], [1 Bath], [1 Parking]]</td>\n",
       "      <td>[Gym, Heating, Balcony  Deck, Furnished]</td>\n",
       "    </tr>\n",
       "    <tr>\n",
       "      <th>https://www.domain.com.au/1112-39-coventry-street-southbank-vic-3006-15517601</th>\n",
       "      <td>1112/39 Coventry Street Southbank VIC 3006</td>\n",
       "      <td>Apartment / Unit / Flat</td>\n",
       "      <td>$550 per week</td>\n",
       "      <td>[-37.8294033, 144.9692407]</td>\n",
       "      <td>[[2 Beds], [1 Bath], [1 Parking]]</td>\n",
       "      <td>[Built in wardrobes, Gas, Internal Laundry, Ai...</td>\n",
       "    </tr>\n",
       "    <tr>\n",
       "      <th>https://www.domain.com.au/1913-39-coventry-street-southbank-vic-3006-15308045</th>\n",
       "      <td>1913/39 Coventry Street Southbank VIC 3006</td>\n",
       "      <td>Apartment / Unit / Flat</td>\n",
       "      <td>$550 per week</td>\n",
       "      <td>[-37.8294033, 144.9692407]</td>\n",
       "      <td>[[2 Beds], [1 Bath], [1 Parking]]</td>\n",
       "      <td>[Air conditioning, Built in wardrobes, Gas, In...</td>\n",
       "    </tr>\n",
       "  </tbody>\n",
       "</table>\n",
       "</div>"
      ],
      "text/plain": [
       "                                                                                              name  \\\n",
       "https://www.domain.com.au/3309-18-hoff-boulevar...       3309/18 Hoff Boulevard Southbank VIC 3006   \n",
       "https://www.domain.com.au/5605-70-southbank-bou...  5605/70 Southbank Boulevard Southbank VIC 3006   \n",
       "https://www.domain.com.au/229-22-kavanagh-stree...       229/22 Kavanagh Street Southbank VIC 3006   \n",
       "https://www.domain.com.au/1112-39-coventry-stre...      1112/39 Coventry Street Southbank VIC 3006   \n",
       "https://www.domain.com.au/1913-39-coventry-stre...      1913/39 Coventry Street Southbank VIC 3006   \n",
       "\n",
       "                                                                  prop_type  \\\n",
       "https://www.domain.com.au/3309-18-hoff-boulevar...  Apartment / Unit / Flat   \n",
       "https://www.domain.com.au/5605-70-southbank-bou...  Apartment / Unit / Flat   \n",
       "https://www.domain.com.au/229-22-kavanagh-stree...  Apartment / Unit / Flat   \n",
       "https://www.domain.com.au/1112-39-coventry-stre...  Apartment / Unit / Flat   \n",
       "https://www.domain.com.au/1913-39-coventry-stre...  Apartment / Unit / Flat   \n",
       "\n",
       "                                                                              cost_text  \\\n",
       "https://www.domain.com.au/3309-18-hoff-boulevar...                        $650 per week   \n",
       "https://www.domain.com.au/5605-70-southbank-bou...                        $470 per week   \n",
       "https://www.domain.com.au/229-22-kavanagh-stree...  $420 per week - partially furnished   \n",
       "https://www.domain.com.au/1112-39-coventry-stre...                        $550 per week   \n",
       "https://www.domain.com.au/1913-39-coventry-stre...                        $550 per week   \n",
       "\n",
       "                                                                          coordinates  \\\n",
       "https://www.domain.com.au/3309-18-hoff-boulevar...          [-37.825817, 144.9640414]   \n",
       "https://www.domain.com.au/5605-70-southbank-bou...         [-37.8231931, 144.9639881]   \n",
       "https://www.domain.com.au/229-22-kavanagh-stree...  [-37.82284060000001, 144.9658569]   \n",
       "https://www.domain.com.au/1112-39-coventry-stre...         [-37.8294033, 144.9692407]   \n",
       "https://www.domain.com.au/1913-39-coventry-stre...         [-37.8294033, 144.9692407]   \n",
       "\n",
       "                                                                                rooms  \\\n",
       "https://www.domain.com.au/3309-18-hoff-boulevar...          [[2 Beds], [2 Baths], []]   \n",
       "https://www.domain.com.au/5605-70-southbank-bou...            [[1 Bed], [1 Bath], []]   \n",
       "https://www.domain.com.au/229-22-kavanagh-stree...   [[1 Bed], [1 Bath], [1 Parking]]   \n",
       "https://www.domain.com.au/1112-39-coventry-stre...  [[2 Beds], [1 Bath], [1 Parking]]   \n",
       "https://www.domain.com.au/1913-39-coventry-stre...  [[2 Beds], [1 Bath], [1 Parking]]   \n",
       "\n",
       "                                                                                             add_feat  \n",
       "https://www.domain.com.au/3309-18-hoff-boulevar...  [Built in wardrobes, Gym, Ducted Heating, Duct...  \n",
       "https://www.domain.com.au/5605-70-southbank-bou...  [Gas, Internal Laundry, INSIDE, Gym, Intercom,...  \n",
       "https://www.domain.com.au/229-22-kavanagh-stree...           [Gym, Heating, Balcony  Deck, Furnished]  \n",
       "https://www.domain.com.au/1112-39-coventry-stre...  [Built in wardrobes, Gas, Internal Laundry, Ai...  \n",
       "https://www.domain.com.au/1913-39-coventry-stre...  [Air conditioning, Built in wardrobes, Gas, In...  "
      ]
     },
     "execution_count": 258,
     "metadata": {},
     "output_type": "execute_result"
    }
   ],
   "source": [
    "rental_df.head()"
   ]
  },
  {
   "cell_type": "code",
   "execution_count": 259,
   "metadata": {},
   "outputs": [
    {
     "data": {
      "text/plain": [
       "Index(['name', 'prop_type', 'cost_text', 'coordinates', 'rooms', 'add_feat'], dtype='object')"
      ]
     },
     "execution_count": 259,
     "metadata": {},
     "output_type": "execute_result"
    }
   ],
   "source": [
    "rental_df.columns"
   ]
  },
  {
   "cell_type": "code",
   "execution_count": 260,
   "metadata": {},
   "outputs": [
    {
     "data": {
      "text/plain": [
       "(14679, 6)"
      ]
     },
     "execution_count": 260,
     "metadata": {},
     "output_type": "execute_result"
    }
   ],
   "source": [
    "# forgot to get type \n",
    "rental_df.shape"
   ]
  },
  {
   "cell_type": "markdown",
   "metadata": {},
   "source": [
    "# Process the Cost of Rent to a standard unit (By per week)"
   ]
  },
  {
   "cell_type": "code",
   "execution_count": 261,
   "metadata": {},
   "outputs": [],
   "source": [
    "import regex"
   ]
  },
  {
   "cell_type": "code",
   "execution_count": 262,
   "metadata": {},
   "outputs": [
    {
     "name": "stderr",
     "output_type": "stream",
     "text": [
      "/tmp/ipykernel_1133/325004005.py:4: FutureWarning: The default value of regex will change from True to False in a future version.\n",
      "  rental_df['cost_text'] = rental_df['cost_text'].str.replace('\\d+', '').str.replace('$', '').str.lower().str.replace('[^A-Za-z0-9.,]+', '')\n",
      "/tmp/ipykernel_1133/325004005.py:4: FutureWarning: The default value of regex will change from True to False in a future version. In addition, single character regular expressions will *not* be treated as literal strings when regex=True.\n",
      "  rental_df['cost_text'] = rental_df['cost_text'].str.replace('\\d+', '').str.replace('$', '').str.lower().str.replace('[^A-Za-z0-9.,]+', '')\n"
     ]
    }
   ],
   "source": [
    "# Now to fix the formatting of the cost to be X amount per week \n",
    "# Firstly want to remove all numbers to see possible strings that we could use regex for:\n",
    "#rental_df['cost_text'] = rental_df['cost_text'].str.replace('\\d+', '').str.replace('$', '').str.lower().str.replace('[^A-Za-z0-9.,]+', '')\n",
    "rental_df['cost_text'] = rental_df['cost_text'].str.replace('\\d+', '').str.replace('$', '').str.lower().str.replace('[^A-Za-z0-9.,]+', '')\n"
   ]
  },
  {
   "cell_type": "code",
   "execution_count": 263,
   "metadata": {},
   "outputs": [
    {
     "data": {
      "text/html": [
       "<div>\n",
       "<style scoped>\n",
       "    .dataframe tbody tr th:only-of-type {\n",
       "        vertical-align: middle;\n",
       "    }\n",
       "\n",
       "    .dataframe tbody tr th {\n",
       "        vertical-align: top;\n",
       "    }\n",
       "\n",
       "    .dataframe thead th {\n",
       "        text-align: right;\n",
       "    }\n",
       "</style>\n",
       "<table border=\"1\" class=\"dataframe\">\n",
       "  <thead>\n",
       "    <tr style=\"text-align: right;\">\n",
       "      <th></th>\n",
       "      <th>name</th>\n",
       "      <th>prop_type</th>\n",
       "      <th>cost_text</th>\n",
       "      <th>coordinates</th>\n",
       "      <th>rooms</th>\n",
       "      <th>add_feat</th>\n",
       "    </tr>\n",
       "  </thead>\n",
       "  <tbody>\n",
       "    <tr>\n",
       "      <th>https://www.domain.com.au/3309-18-hoff-boulevard-southbank-vic-3006-16086881</th>\n",
       "      <td>3309/18 Hoff Boulevard Southbank VIC 3006</td>\n",
       "      <td>Apartment / Unit / Flat</td>\n",
       "      <td>perweek</td>\n",
       "      <td>[-37.825817, 144.9640414]</td>\n",
       "      <td>[[2 Beds], [2 Baths], []]</td>\n",
       "      <td>[Built in wardrobes, Gym, Ducted Heating, Duct...</td>\n",
       "    </tr>\n",
       "    <tr>\n",
       "      <th>https://www.domain.com.au/5605-70-southbank-boulevard-southbank-vic-3006-14433279</th>\n",
       "      <td>5605/70 Southbank Boulevard Southbank VIC 3006</td>\n",
       "      <td>Apartment / Unit / Flat</td>\n",
       "      <td>perweek</td>\n",
       "      <td>[-37.8231931, 144.9639881]</td>\n",
       "      <td>[[1 Bed], [1 Bath], []]</td>\n",
       "      <td>[Gas, Internal Laundry, INSIDE, Gym, Intercom,...</td>\n",
       "    </tr>\n",
       "    <tr>\n",
       "      <th>https://www.domain.com.au/229-22-kavanagh-street-southbank-vic-3006-16087424</th>\n",
       "      <td>229/22 Kavanagh Street Southbank VIC 3006</td>\n",
       "      <td>Apartment / Unit / Flat</td>\n",
       "      <td>perweekpartiallyfurnished</td>\n",
       "      <td>[-37.82284060000001, 144.9658569]</td>\n",
       "      <td>[[1 Bed], [1 Bath], [1 Parking]]</td>\n",
       "      <td>[Gym, Heating, Balcony  Deck, Furnished]</td>\n",
       "    </tr>\n",
       "    <tr>\n",
       "      <th>https://www.domain.com.au/1112-39-coventry-street-southbank-vic-3006-15517601</th>\n",
       "      <td>1112/39 Coventry Street Southbank VIC 3006</td>\n",
       "      <td>Apartment / Unit / Flat</td>\n",
       "      <td>perweek</td>\n",
       "      <td>[-37.8294033, 144.9692407]</td>\n",
       "      <td>[[2 Beds], [1 Bath], [1 Parking]]</td>\n",
       "      <td>[Built in wardrobes, Gas, Internal Laundry, Ai...</td>\n",
       "    </tr>\n",
       "    <tr>\n",
       "      <th>https://www.domain.com.au/1913-39-coventry-street-southbank-vic-3006-15308045</th>\n",
       "      <td>1913/39 Coventry Street Southbank VIC 3006</td>\n",
       "      <td>Apartment / Unit / Flat</td>\n",
       "      <td>perweek</td>\n",
       "      <td>[-37.8294033, 144.9692407]</td>\n",
       "      <td>[[2 Beds], [1 Bath], [1 Parking]]</td>\n",
       "      <td>[Air conditioning, Built in wardrobes, Gas, In...</td>\n",
       "    </tr>\n",
       "  </tbody>\n",
       "</table>\n",
       "</div>"
      ],
      "text/plain": [
       "                                                                                              name  \\\n",
       "https://www.domain.com.au/3309-18-hoff-boulevar...       3309/18 Hoff Boulevard Southbank VIC 3006   \n",
       "https://www.domain.com.au/5605-70-southbank-bou...  5605/70 Southbank Boulevard Southbank VIC 3006   \n",
       "https://www.domain.com.au/229-22-kavanagh-stree...       229/22 Kavanagh Street Southbank VIC 3006   \n",
       "https://www.domain.com.au/1112-39-coventry-stre...      1112/39 Coventry Street Southbank VIC 3006   \n",
       "https://www.domain.com.au/1913-39-coventry-stre...      1913/39 Coventry Street Southbank VIC 3006   \n",
       "\n",
       "                                                                  prop_type  \\\n",
       "https://www.domain.com.au/3309-18-hoff-boulevar...  Apartment / Unit / Flat   \n",
       "https://www.domain.com.au/5605-70-southbank-bou...  Apartment / Unit / Flat   \n",
       "https://www.domain.com.au/229-22-kavanagh-stree...  Apartment / Unit / Flat   \n",
       "https://www.domain.com.au/1112-39-coventry-stre...  Apartment / Unit / Flat   \n",
       "https://www.domain.com.au/1913-39-coventry-stre...  Apartment / Unit / Flat   \n",
       "\n",
       "                                                                    cost_text  \\\n",
       "https://www.domain.com.au/3309-18-hoff-boulevar...                    perweek   \n",
       "https://www.domain.com.au/5605-70-southbank-bou...                    perweek   \n",
       "https://www.domain.com.au/229-22-kavanagh-stree...  perweekpartiallyfurnished   \n",
       "https://www.domain.com.au/1112-39-coventry-stre...                    perweek   \n",
       "https://www.domain.com.au/1913-39-coventry-stre...                    perweek   \n",
       "\n",
       "                                                                          coordinates  \\\n",
       "https://www.domain.com.au/3309-18-hoff-boulevar...          [-37.825817, 144.9640414]   \n",
       "https://www.domain.com.au/5605-70-southbank-bou...         [-37.8231931, 144.9639881]   \n",
       "https://www.domain.com.au/229-22-kavanagh-stree...  [-37.82284060000001, 144.9658569]   \n",
       "https://www.domain.com.au/1112-39-coventry-stre...         [-37.8294033, 144.9692407]   \n",
       "https://www.domain.com.au/1913-39-coventry-stre...         [-37.8294033, 144.9692407]   \n",
       "\n",
       "                                                                                rooms  \\\n",
       "https://www.domain.com.au/3309-18-hoff-boulevar...          [[2 Beds], [2 Baths], []]   \n",
       "https://www.domain.com.au/5605-70-southbank-bou...            [[1 Bed], [1 Bath], []]   \n",
       "https://www.domain.com.au/229-22-kavanagh-stree...   [[1 Bed], [1 Bath], [1 Parking]]   \n",
       "https://www.domain.com.au/1112-39-coventry-stre...  [[2 Beds], [1 Bath], [1 Parking]]   \n",
       "https://www.domain.com.au/1913-39-coventry-stre...  [[2 Beds], [1 Bath], [1 Parking]]   \n",
       "\n",
       "                                                                                             add_feat  \n",
       "https://www.domain.com.au/3309-18-hoff-boulevar...  [Built in wardrobes, Gym, Ducted Heating, Duct...  \n",
       "https://www.domain.com.au/5605-70-southbank-bou...  [Gas, Internal Laundry, INSIDE, Gym, Intercom,...  \n",
       "https://www.domain.com.au/229-22-kavanagh-stree...           [Gym, Heating, Balcony  Deck, Furnished]  \n",
       "https://www.domain.com.au/1112-39-coventry-stre...  [Built in wardrobes, Gas, Internal Laundry, Ai...  \n",
       "https://www.domain.com.au/1913-39-coventry-stre...  [Air conditioning, Built in wardrobes, Gas, In...  "
      ]
     },
     "execution_count": 263,
     "metadata": {},
     "output_type": "execute_result"
    }
   ],
   "source": [
    "rental_df.head()"
   ]
  },
  {
   "cell_type": "code",
   "execution_count": 264,
   "metadata": {},
   "outputs": [],
   "source": [
    "# Now check for possible strings:\n",
    "possible_str = rental_df['cost_text'].value_counts()"
   ]
  },
  {
   "cell_type": "code",
   "execution_count": 265,
   "metadata": {},
   "outputs": [],
   "source": [
    "#pd.set_option(\"display.max_rows\", None)"
   ]
  },
  {
   "cell_type": "code",
   "execution_count": 266,
   "metadata": {},
   "outputs": [
    {
     "data": {
      "text/plain": [
       "perweek                4645\n",
       "                       3152\n",
       ".                      1958\n",
       "pw                      941\n",
       ".perweek                840\n",
       "                       ... \n",
       "pwpercalendarmonth        1\n",
       "breathtakingviewspw       1\n",
       "largetownhouse            1\n",
       "percalendarweek           1\n",
       "percalendarmonth          1\n",
       "Name: cost_text, Length: 368, dtype: int64"
      ]
     },
     "execution_count": 266,
     "metadata": {},
     "output_type": "execute_result"
    }
   ],
   "source": [
    "possible_str"
   ]
  },
  {
   "cell_type": "code",
   "execution_count": 267,
   "metadata": {},
   "outputs": [],
   "source": [
    "# From this we can see that most of the listings are by per week with very few being based off month\n",
    "# for now just take the ones which dont have monthly"
   ]
  },
  {
   "cell_type": "code",
   "execution_count": 268,
   "metadata": {},
   "outputs": [
    {
     "name": "stderr",
     "output_type": "stream",
     "text": [
      "/tmp/ipykernel_1133/1537556796.py:3: FutureWarning: The default value of regex will change from True to False in a future version.\n",
      "  rental_df2['cost_text'] = rental_df2['cost_text'].str.replace('\\d+', '').str.replace('$', '').str.lower().str.replace('[^A-Za-z0-9.-/]+', '')\n",
      "/tmp/ipykernel_1133/1537556796.py:3: FutureWarning: The default value of regex will change from True to False in a future version. In addition, single character regular expressions will *not* be treated as literal strings when regex=True.\n",
      "  rental_df2['cost_text'] = rental_df2['cost_text'].str.replace('\\d+', '').str.replace('$', '').str.lower().str.replace('[^A-Za-z0-9.-/]+', '')\n"
     ]
    }
   ],
   "source": [
    "# remove the ones with pcm  and per month\n",
    "# these will be the ones with a slash or space inbetween the digits, so we filter these out\n",
    "rental_df2['cost_text'] = rental_df2['cost_text'].str.replace('\\d+', '').str.replace('$', '').str.lower().str.replace('[^A-Za-z0-9.-/]+', '')\n"
   ]
  },
  {
   "cell_type": "code",
   "execution_count": 269,
   "metadata": {},
   "outputs": [
    {
     "data": {
      "text/plain": [
       "14679"
      ]
     },
     "execution_count": 269,
     "metadata": {},
     "output_type": "execute_result"
    }
   ],
   "source": [
    "len(rental_df2)"
   ]
  },
  {
   "cell_type": "code",
   "execution_count": 270,
   "metadata": {},
   "outputs": [],
   "source": [
    "rental_df2 = rental_df2[~rental_df2['cost_text'].str.contains(' ')]\n",
    "rental_df2 = rental_df2[~rental_df2['cost_text'].str.contains('/|-')]\n",
    "rental_df2 = rental_df2[~rental_df2['cost_text'].str.contains('pcm|month|p.w|..')]"
   ]
  },
  {
   "cell_type": "code",
   "execution_count": 271,
   "metadata": {},
   "outputs": [
    {
     "data": {
      "text/plain": [
       "     3217\n",
       ".    2113\n",
       "Name: cost_text, dtype: int64"
      ]
     },
     "execution_count": 271,
     "metadata": {},
     "output_type": "execute_result"
    }
   ],
   "source": [
    "rental_df2['cost_text'].value_counts()"
   ]
  },
  {
   "cell_type": "code",
   "execution_count": 272,
   "metadata": {},
   "outputs": [
    {
     "data": {
      "text/plain": [
       "5330"
      ]
     },
     "execution_count": 272,
     "metadata": {},
     "output_type": "execute_result"
    }
   ],
   "source": [
    "len(rental_df2)"
   ]
  },
  {
   "cell_type": "code",
   "execution_count": 273,
   "metadata": {},
   "outputs": [
    {
     "data": {
      "text/html": [
       "<div>\n",
       "<style scoped>\n",
       "    .dataframe tbody tr th:only-of-type {\n",
       "        vertical-align: middle;\n",
       "    }\n",
       "\n",
       "    .dataframe tbody tr th {\n",
       "        vertical-align: top;\n",
       "    }\n",
       "\n",
       "    .dataframe thead th {\n",
       "        text-align: right;\n",
       "    }\n",
       "</style>\n",
       "<table border=\"1\" class=\"dataframe\">\n",
       "  <thead>\n",
       "    <tr style=\"text-align: right;\">\n",
       "      <th></th>\n",
       "      <th>name</th>\n",
       "      <th>prop_type</th>\n",
       "      <th>cost_text</th>\n",
       "      <th>coordinates</th>\n",
       "      <th>rooms</th>\n",
       "      <th>add_feat</th>\n",
       "    </tr>\n",
       "  </thead>\n",
       "  <tbody>\n",
       "    <tr>\n",
       "      <th>https://www.domain.com.au/817-39-coventry-street-southbank-vic-3006-10766251</th>\n",
       "      <td>817/39 Coventry Street Southbank VIC 3006</td>\n",
       "      <td>Apartment / Unit / Flat</td>\n",
       "      <td></td>\n",
       "      <td>[-37.8294033, 144.9692407]</td>\n",
       "      <td>[[2 Beds], [1 Bath], []]</td>\n",
       "      <td>[Air conditioning, Built in wardrobes, Furnish...</td>\n",
       "    </tr>\n",
       "    <tr>\n",
       "      <th>https://www.domain.com.au/1505-39-coventry-street-southbank-vic-3006-16098319</th>\n",
       "      <td>1505/39 Coventry Street Southbank VIC 3006</td>\n",
       "      <td>Apartment / Unit / Flat</td>\n",
       "      <td></td>\n",
       "      <td>[-37.8294033, 144.9692407]</td>\n",
       "      <td>[[2 Beds], [2 Baths], [1 Parking]]</td>\n",
       "      <td>[Internal Laundry, INSIDE, Gym, Intercom, Buil...</td>\n",
       "    </tr>\n",
       "    <tr>\n",
       "      <th>https://www.domain.com.au/3306-151-city-road-southbank-vic-3006-16100837</th>\n",
       "      <td>3306/151 City Road Southbank VIC 3006</td>\n",
       "      <td>Apartment / Unit / Flat</td>\n",
       "      <td>.</td>\n",
       "      <td>[-37.8236674, 144.9631638]</td>\n",
       "      <td>[[2 Beds], [2 Baths], [1 Parking]]</td>\n",
       "      <td>[Gas, Internal Laundry, Heating, Secure Parkin...</td>\n",
       "    </tr>\n",
       "    <tr>\n",
       "      <th>https://www.domain.com.au/168-100-kavanagh-street-southbank-vic-3006-16100841</th>\n",
       "      <td>168/100 Kavanagh Street Southbank VIC 3006</td>\n",
       "      <td>Apartment / Unit / Flat</td>\n",
       "      <td>.</td>\n",
       "      <td>[-37.8251485, 144.9627575]</td>\n",
       "      <td>[[1 Bed], [1 Bath], [1 Parking]]</td>\n",
       "      <td>[Gas, Internal Laundry, Intercom, Secure Parki...</td>\n",
       "    </tr>\n",
       "    <tr>\n",
       "      <th>https://www.domain.com.au/1412-151-city-road-southbank-vic-3006-16100836</th>\n",
       "      <td>1412/151 City Road Southbank VIC 3006</td>\n",
       "      <td>Apartment / Unit / Flat</td>\n",
       "      <td>.</td>\n",
       "      <td>[-37.8236674, 144.9631638]</td>\n",
       "      <td>[[2 Beds], [2 Baths], [1 Parking]]</td>\n",
       "      <td>[Gas, Internal Laundry, Secure Parking, Gym, H...</td>\n",
       "    </tr>\n",
       "  </tbody>\n",
       "</table>\n",
       "</div>"
      ],
      "text/plain": [
       "                                                                                          name  \\\n",
       "https://www.domain.com.au/817-39-coventry-stree...   817/39 Coventry Street Southbank VIC 3006   \n",
       "https://www.domain.com.au/1505-39-coventry-stre...  1505/39 Coventry Street Southbank VIC 3006   \n",
       "https://www.domain.com.au/3306-151-city-road-so...       3306/151 City Road Southbank VIC 3006   \n",
       "https://www.domain.com.au/168-100-kavanagh-stre...  168/100 Kavanagh Street Southbank VIC 3006   \n",
       "https://www.domain.com.au/1412-151-city-road-so...       1412/151 City Road Southbank VIC 3006   \n",
       "\n",
       "                                                                  prop_type  \\\n",
       "https://www.domain.com.au/817-39-coventry-stree...  Apartment / Unit / Flat   \n",
       "https://www.domain.com.au/1505-39-coventry-stre...  Apartment / Unit / Flat   \n",
       "https://www.domain.com.au/3306-151-city-road-so...  Apartment / Unit / Flat   \n",
       "https://www.domain.com.au/168-100-kavanagh-stre...  Apartment / Unit / Flat   \n",
       "https://www.domain.com.au/1412-151-city-road-so...  Apartment / Unit / Flat   \n",
       "\n",
       "                                                   cost_text  \\\n",
       "https://www.domain.com.au/817-39-coventry-stree...             \n",
       "https://www.domain.com.au/1505-39-coventry-stre...             \n",
       "https://www.domain.com.au/3306-151-city-road-so...         .   \n",
       "https://www.domain.com.au/168-100-kavanagh-stre...         .   \n",
       "https://www.domain.com.au/1412-151-city-road-so...         .   \n",
       "\n",
       "                                                                   coordinates  \\\n",
       "https://www.domain.com.au/817-39-coventry-stree...  [-37.8294033, 144.9692407]   \n",
       "https://www.domain.com.au/1505-39-coventry-stre...  [-37.8294033, 144.9692407]   \n",
       "https://www.domain.com.au/3306-151-city-road-so...  [-37.8236674, 144.9631638]   \n",
       "https://www.domain.com.au/168-100-kavanagh-stre...  [-37.8251485, 144.9627575]   \n",
       "https://www.domain.com.au/1412-151-city-road-so...  [-37.8236674, 144.9631638]   \n",
       "\n",
       "                                                                                 rooms  \\\n",
       "https://www.domain.com.au/817-39-coventry-stree...            [[2 Beds], [1 Bath], []]   \n",
       "https://www.domain.com.au/1505-39-coventry-stre...  [[2 Beds], [2 Baths], [1 Parking]]   \n",
       "https://www.domain.com.au/3306-151-city-road-so...  [[2 Beds], [2 Baths], [1 Parking]]   \n",
       "https://www.domain.com.au/168-100-kavanagh-stre...    [[1 Bed], [1 Bath], [1 Parking]]   \n",
       "https://www.domain.com.au/1412-151-city-road-so...  [[2 Beds], [2 Baths], [1 Parking]]   \n",
       "\n",
       "                                                                                             add_feat  \n",
       "https://www.domain.com.au/817-39-coventry-stree...  [Air conditioning, Built in wardrobes, Furnish...  \n",
       "https://www.domain.com.au/1505-39-coventry-stre...  [Internal Laundry, INSIDE, Gym, Intercom, Buil...  \n",
       "https://www.domain.com.au/3306-151-city-road-so...  [Gas, Internal Laundry, Heating, Secure Parkin...  \n",
       "https://www.domain.com.au/168-100-kavanagh-stre...  [Gas, Internal Laundry, Intercom, Secure Parki...  \n",
       "https://www.domain.com.au/1412-151-city-road-so...  [Gas, Internal Laundry, Secure Parking, Gym, H...  "
      ]
     },
     "execution_count": 273,
     "metadata": {},
     "output_type": "execute_result"
    }
   ],
   "source": [
    "# now that we have removed the rows with those units we save the ones we want and create a csv for later use:\n",
    "rental_df2.head()"
   ]
  },
  {
   "cell_type": "code",
   "execution_count": 274,
   "metadata": {},
   "outputs": [],
   "source": [
    "keep = rental_df2['name'].tolist()"
   ]
  },
  {
   "cell_type": "code",
   "execution_count": 275,
   "metadata": {},
   "outputs": [
    {
     "data": {
      "text/plain": [
       "5330"
      ]
     },
     "execution_count": 275,
     "metadata": {},
     "output_type": "execute_result"
    }
   ],
   "source": [
    "len(keep)"
   ]
  },
  {
   "cell_type": "code",
   "execution_count": 276,
   "metadata": {},
   "outputs": [],
   "source": [
    "rental_final_df = rental_final_df[rental_final_df['name'].isin(keep)]"
   ]
  },
  {
   "cell_type": "code",
   "execution_count": 277,
   "metadata": {},
   "outputs": [
    {
     "name": "stderr",
     "output_type": "stream",
     "text": [
      "/tmp/ipykernel_1133/717401521.py:2: FutureWarning: The default value of regex will change from True to False in a future version. In addition, single character regular expressions will *not* be treated as literal strings when regex=True.\n",
      "  rental_final_df['cost_text'] = rental_final_df['cost_text'].str.replace('$', '').str.lower().str.replace('[^0-9.]+', '')\n",
      "/tmp/ipykernel_1133/717401521.py:2: FutureWarning: The default value of regex will change from True to False in a future version.\n",
      "  rental_final_df['cost_text'] = rental_final_df['cost_text'].str.replace('$', '').str.lower().str.replace('[^0-9.]+', '')\n"
     ]
    }
   ],
   "source": [
    "# now we once again process the prices, this time to just be numbers and punctuation\n",
    "rental_final_df['cost_text'] = rental_final_df['cost_text'].str.replace('$', '').str.lower().str.replace('[^0-9.]+', '')"
   ]
  },
  {
   "cell_type": "code",
   "execution_count": 278,
   "metadata": {},
   "outputs": [],
   "source": [
    "import numpy as np"
   ]
  },
  {
   "cell_type": "code",
   "execution_count": 279,
   "metadata": {},
   "outputs": [],
   "source": [
    "# should be fine now other than some which have empty prices we now remove these:\n",
    "rental_final_df['cost_text'].replace('', np.nan, inplace=True)"
   ]
  },
  {
   "cell_type": "code",
   "execution_count": 280,
   "metadata": {},
   "outputs": [],
   "source": [
    "rental_final_df.dropna(subset = ['cost_text'], inplace=True)"
   ]
  },
  {
   "cell_type": "code",
   "execution_count": 281,
   "metadata": {},
   "outputs": [],
   "source": [
    "remove = rental_final_df[rental_final_df['cost_text'] == '.']\n"
   ]
  },
  {
   "cell_type": "code",
   "execution_count": 282,
   "metadata": {},
   "outputs": [],
   "source": [
    "rental_final_df = rental_final_df[~rental_final_df['name'].isin(remove['name'])]"
   ]
  },
  {
   "cell_type": "code",
   "execution_count": 283,
   "metadata": {},
   "outputs": [],
   "source": [
    "#rental_final_df  = rental_final_df.reset_index()"
   ]
  },
  {
   "cell_type": "code",
   "execution_count": 284,
   "metadata": {},
   "outputs": [
    {
     "data": {
      "text/html": [
       "<div>\n",
       "<style scoped>\n",
       "    .dataframe tbody tr th:only-of-type {\n",
       "        vertical-align: middle;\n",
       "    }\n",
       "\n",
       "    .dataframe tbody tr th {\n",
       "        vertical-align: top;\n",
       "    }\n",
       "\n",
       "    .dataframe thead th {\n",
       "        text-align: right;\n",
       "    }\n",
       "</style>\n",
       "<table border=\"1\" class=\"dataframe\">\n",
       "  <thead>\n",
       "    <tr style=\"text-align: right;\">\n",
       "      <th></th>\n",
       "      <th>name</th>\n",
       "      <th>prop_type</th>\n",
       "      <th>cost_text</th>\n",
       "      <th>coordinates</th>\n",
       "      <th>rooms</th>\n",
       "      <th>add_feat</th>\n",
       "    </tr>\n",
       "  </thead>\n",
       "  <tbody>\n",
       "    <tr>\n",
       "      <th>https://www.domain.com.au/817-39-coventry-street-southbank-vic-3006-10766251</th>\n",
       "      <td>817/39 Coventry Street Southbank VIC 3006</td>\n",
       "      <td>Apartment / Unit / Flat</td>\n",
       "      <td>460</td>\n",
       "      <td>[-37.8294033, 144.9692407]</td>\n",
       "      <td>[[2 Beds], [1 Bath], []]</td>\n",
       "      <td>[Air conditioning, Built in wardrobes, Furnish...</td>\n",
       "    </tr>\n",
       "    <tr>\n",
       "      <th>https://www.domain.com.au/1505-39-coventry-street-southbank-vic-3006-16098319</th>\n",
       "      <td>1505/39 Coventry Street Southbank VIC 3006</td>\n",
       "      <td>Apartment / Unit / Flat</td>\n",
       "      <td>650</td>\n",
       "      <td>[-37.8294033, 144.9692407]</td>\n",
       "      <td>[[2 Beds], [2 Baths], [1 Parking]]</td>\n",
       "      <td>[Internal Laundry, INSIDE, Gym, Intercom, Buil...</td>\n",
       "    </tr>\n",
       "    <tr>\n",
       "      <th>https://www.domain.com.au/3306-151-city-road-southbank-vic-3006-16100837</th>\n",
       "      <td>3306/151 City Road Southbank VIC 3006</td>\n",
       "      <td>Apartment / Unit / Flat</td>\n",
       "      <td>610.00</td>\n",
       "      <td>[-37.8236674, 144.9631638]</td>\n",
       "      <td>[[2 Beds], [2 Baths], [1 Parking]]</td>\n",
       "      <td>[Gas, Internal Laundry, Heating, Secure Parkin...</td>\n",
       "    </tr>\n",
       "    <tr>\n",
       "      <th>https://www.domain.com.au/168-100-kavanagh-street-southbank-vic-3006-16100841</th>\n",
       "      <td>168/100 Kavanagh Street Southbank VIC 3006</td>\n",
       "      <td>Apartment / Unit / Flat</td>\n",
       "      <td>480.00</td>\n",
       "      <td>[-37.8251485, 144.9627575]</td>\n",
       "      <td>[[1 Bed], [1 Bath], [1 Parking]]</td>\n",
       "      <td>[Gas, Internal Laundry, Intercom, Secure Parki...</td>\n",
       "    </tr>\n",
       "    <tr>\n",
       "      <th>https://www.domain.com.au/1412-151-city-road-southbank-vic-3006-16100836</th>\n",
       "      <td>1412/151 City Road Southbank VIC 3006</td>\n",
       "      <td>Apartment / Unit / Flat</td>\n",
       "      <td>620.00</td>\n",
       "      <td>[-37.8236674, 144.9631638]</td>\n",
       "      <td>[[2 Beds], [2 Baths], [1 Parking]]</td>\n",
       "      <td>[Gas, Internal Laundry, Secure Parking, Gym, H...</td>\n",
       "    </tr>\n",
       "  </tbody>\n",
       "</table>\n",
       "</div>"
      ],
      "text/plain": [
       "                                                                                          name  \\\n",
       "https://www.domain.com.au/817-39-coventry-stree...   817/39 Coventry Street Southbank VIC 3006   \n",
       "https://www.domain.com.au/1505-39-coventry-stre...  1505/39 Coventry Street Southbank VIC 3006   \n",
       "https://www.domain.com.au/3306-151-city-road-so...       3306/151 City Road Southbank VIC 3006   \n",
       "https://www.domain.com.au/168-100-kavanagh-stre...  168/100 Kavanagh Street Southbank VIC 3006   \n",
       "https://www.domain.com.au/1412-151-city-road-so...       1412/151 City Road Southbank VIC 3006   \n",
       "\n",
       "                                                                  prop_type  \\\n",
       "https://www.domain.com.au/817-39-coventry-stree...  Apartment / Unit / Flat   \n",
       "https://www.domain.com.au/1505-39-coventry-stre...  Apartment / Unit / Flat   \n",
       "https://www.domain.com.au/3306-151-city-road-so...  Apartment / Unit / Flat   \n",
       "https://www.domain.com.au/168-100-kavanagh-stre...  Apartment / Unit / Flat   \n",
       "https://www.domain.com.au/1412-151-city-road-so...  Apartment / Unit / Flat   \n",
       "\n",
       "                                                   cost_text  \\\n",
       "https://www.domain.com.au/817-39-coventry-stree...       460   \n",
       "https://www.domain.com.au/1505-39-coventry-stre...       650   \n",
       "https://www.domain.com.au/3306-151-city-road-so...    610.00   \n",
       "https://www.domain.com.au/168-100-kavanagh-stre...    480.00   \n",
       "https://www.domain.com.au/1412-151-city-road-so...    620.00   \n",
       "\n",
       "                                                                   coordinates  \\\n",
       "https://www.domain.com.au/817-39-coventry-stree...  [-37.8294033, 144.9692407]   \n",
       "https://www.domain.com.au/1505-39-coventry-stre...  [-37.8294033, 144.9692407]   \n",
       "https://www.domain.com.au/3306-151-city-road-so...  [-37.8236674, 144.9631638]   \n",
       "https://www.domain.com.au/168-100-kavanagh-stre...  [-37.8251485, 144.9627575]   \n",
       "https://www.domain.com.au/1412-151-city-road-so...  [-37.8236674, 144.9631638]   \n",
       "\n",
       "                                                                                 rooms  \\\n",
       "https://www.domain.com.au/817-39-coventry-stree...            [[2 Beds], [1 Bath], []]   \n",
       "https://www.domain.com.au/1505-39-coventry-stre...  [[2 Beds], [2 Baths], [1 Parking]]   \n",
       "https://www.domain.com.au/3306-151-city-road-so...  [[2 Beds], [2 Baths], [1 Parking]]   \n",
       "https://www.domain.com.au/168-100-kavanagh-stre...    [[1 Bed], [1 Bath], [1 Parking]]   \n",
       "https://www.domain.com.au/1412-151-city-road-so...  [[2 Beds], [2 Baths], [1 Parking]]   \n",
       "\n",
       "                                                                                             add_feat  \n",
       "https://www.domain.com.au/817-39-coventry-stree...  [Air conditioning, Built in wardrobes, Furnish...  \n",
       "https://www.domain.com.au/1505-39-coventry-stre...  [Internal Laundry, INSIDE, Gym, Intercom, Buil...  \n",
       "https://www.domain.com.au/3306-151-city-road-so...  [Gas, Internal Laundry, Heating, Secure Parkin...  \n",
       "https://www.domain.com.au/168-100-kavanagh-stre...  [Gas, Internal Laundry, Intercom, Secure Parki...  \n",
       "https://www.domain.com.au/1412-151-city-road-so...  [Gas, Internal Laundry, Secure Parking, Gym, H...  "
      ]
     },
     "execution_count": 284,
     "metadata": {},
     "output_type": "execute_result"
    }
   ],
   "source": [
    "rental_final_df.head()"
   ]
  },
  {
   "cell_type": "code",
   "execution_count": null,
   "metadata": {},
   "outputs": [],
   "source": []
  },
  {
   "cell_type": "code",
   "execution_count": 285,
   "metadata": {},
   "outputs": [],
   "source": [
    "rental_final_df.to_csv(\"../data/curated/base_rental.csv\", index = False)"
   ]
  },
  {
   "cell_type": "code",
   "execution_count": null,
   "metadata": {},
   "outputs": [],
   "source": []
  },
  {
   "cell_type": "markdown",
   "metadata": {},
   "source": [
    "# Process the Rooms available"
   ]
  },
  {
   "cell_type": "code",
   "execution_count": 286,
   "metadata": {},
   "outputs": [],
   "source": [
    "room_list = rental_final_df['rooms'].tolist()"
   ]
  },
  {
   "cell_type": "code",
   "execution_count": 287,
   "metadata": {},
   "outputs": [
    {
     "data": {
      "text/plain": [
       "pandas.core.series.Series"
      ]
     },
     "execution_count": 287,
     "metadata": {},
     "output_type": "execute_result"
    }
   ],
   "source": [
    "type(rental_final_df['rooms'])"
   ]
  },
  {
   "cell_type": "code",
   "execution_count": 288,
   "metadata": {},
   "outputs": [
    {
     "data": {
      "text/plain": [
       "https://www.domain.com.au/817-39-coventry-street-southbank-vic-3006-10766251               [[2 Beds], [1 Bath], []]\n",
       "https://www.domain.com.au/1505-39-coventry-street-southbank-vic-3006-16098319    [[2 Beds], [2 Baths], [1 Parking]]\n",
       "https://www.domain.com.au/3306-151-city-road-southbank-vic-3006-16100837         [[2 Beds], [2 Baths], [1 Parking]]\n",
       "https://www.domain.com.au/168-100-kavanagh-street-southbank-vic-3006-16100841      [[1 Bed], [1 Bath], [1 Parking]]\n",
       "https://www.domain.com.au/1412-151-city-road-southbank-vic-3006-16100836         [[2 Beds], [2 Baths], [1 Parking]]\n",
       "Name: rooms, dtype: object"
      ]
     },
     "execution_count": 288,
     "metadata": {},
     "output_type": "execute_result"
    }
   ],
   "source": [
    "rental_final_df['rooms'].head()"
   ]
  },
  {
   "cell_type": "code",
   "execution_count": 289,
   "metadata": {},
   "outputs": [
    {
     "ename": "ValueError",
     "evalue": "3 columns passed, passed data had 4 columns",
     "output_type": "error",
     "traceback": [
      "\u001b[0;31m---------------------------------------------------------------------------\u001b[0m",
      "\u001b[0;31mAssertionError\u001b[0m                            Traceback (most recent call last)",
      "File \u001b[0;32m~/.local/lib/python3.8/site-packages/pandas/core/internals/construction.py:982\u001b[0m, in \u001b[0;36m_finalize_columns_and_data\u001b[0;34m(content, columns, dtype)\u001b[0m\n\u001b[1;32m    981\u001b[0m \u001b[39mtry\u001b[39;00m:\n\u001b[0;32m--> 982\u001b[0m     columns \u001b[39m=\u001b[39m _validate_or_indexify_columns(contents, columns)\n\u001b[1;32m    983\u001b[0m \u001b[39mexcept\u001b[39;00m \u001b[39mAssertionError\u001b[39;00m \u001b[39mas\u001b[39;00m err:\n\u001b[1;32m    984\u001b[0m     \u001b[39m# GH#26429 do not raise user-facing AssertionError\u001b[39;00m\n",
      "File \u001b[0;32m~/.local/lib/python3.8/site-packages/pandas/core/internals/construction.py:1030\u001b[0m, in \u001b[0;36m_validate_or_indexify_columns\u001b[0;34m(content, columns)\u001b[0m\n\u001b[1;32m   1028\u001b[0m \u001b[39mif\u001b[39;00m \u001b[39mnot\u001b[39;00m is_mi_list \u001b[39mand\u001b[39;00m \u001b[39mlen\u001b[39m(columns) \u001b[39m!=\u001b[39m \u001b[39mlen\u001b[39m(content):  \u001b[39m# pragma: no cover\u001b[39;00m\n\u001b[1;32m   1029\u001b[0m     \u001b[39m# caller's responsibility to check for this...\u001b[39;00m\n\u001b[0;32m-> 1030\u001b[0m     \u001b[39mraise\u001b[39;00m \u001b[39mAssertionError\u001b[39;00m(\n\u001b[1;32m   1031\u001b[0m         \u001b[39mf\u001b[39m\u001b[39m\"\u001b[39m\u001b[39m{\u001b[39;00m\u001b[39mlen\u001b[39m(columns)\u001b[39m}\u001b[39;00m\u001b[39m columns passed, passed data had \u001b[39m\u001b[39m\"\u001b[39m\n\u001b[1;32m   1032\u001b[0m         \u001b[39mf\u001b[39m\u001b[39m\"\u001b[39m\u001b[39m{\u001b[39;00m\u001b[39mlen\u001b[39m(content)\u001b[39m}\u001b[39;00m\u001b[39m columns\u001b[39m\u001b[39m\"\u001b[39m\n\u001b[1;32m   1033\u001b[0m     )\n\u001b[1;32m   1034\u001b[0m \u001b[39melif\u001b[39;00m is_mi_list:\n\u001b[1;32m   1035\u001b[0m \n\u001b[1;32m   1036\u001b[0m     \u001b[39m# check if nested list column, length of each sub-list should be equal\u001b[39;00m\n",
      "\u001b[0;31mAssertionError\u001b[0m: 3 columns passed, passed data had 4 columns",
      "\nThe above exception was the direct cause of the following exception:\n",
      "\u001b[0;31mValueError\u001b[0m                                Traceback (most recent call last)",
      "\u001b[1;32m/mnt/c/Users/relax/Documents/2022/sem 2/applied data science/Assignment_2/generic-real-estate-consulting-project-group-2/notebooks/Rental_Preprocessing.ipynb Cell 37\u001b[0m in \u001b[0;36m<cell line: 1>\u001b[0;34m()\u001b[0m\n\u001b[0;32m----> <a href='vscode-notebook-cell://wsl%2Bubuntu-20.04/mnt/c/Users/relax/Documents/2022/sem%202/applied%20data%20science/Assignment_2/generic-real-estate-consulting-project-group-2/notebooks/Rental_Preprocessing.ipynb#X51sdnNjb2RlLXJlbW90ZQ%3D%3D?line=0'>1</a>\u001b[0m rooms_df \u001b[39m=\u001b[39m pd\u001b[39m.\u001b[39;49mDataFrame(room_list,columns \u001b[39m=\u001b[39;49m [\u001b[39m'\u001b[39;49m\u001b[39mBeds\u001b[39;49m\u001b[39m'\u001b[39;49m,\u001b[39m'\u001b[39;49m\u001b[39mBaths\u001b[39;49m\u001b[39m'\u001b[39;49m,\u001b[39m'\u001b[39;49m\u001b[39mParking\u001b[39;49m\u001b[39m'\u001b[39;49m])\n",
      "File \u001b[0;32m~/.local/lib/python3.8/site-packages/pandas/core/frame.py:721\u001b[0m, in \u001b[0;36mDataFrame.__init__\u001b[0;34m(self, data, index, columns, dtype, copy)\u001b[0m\n\u001b[1;32m    716\u001b[0m     \u001b[39mif\u001b[39;00m columns \u001b[39mis\u001b[39;00m \u001b[39mnot\u001b[39;00m \u001b[39mNone\u001b[39;00m:\n\u001b[1;32m    717\u001b[0m         \u001b[39m# error: Argument 1 to \"ensure_index\" has incompatible type\u001b[39;00m\n\u001b[1;32m    718\u001b[0m         \u001b[39m# \"Collection[Any]\"; expected \"Union[Union[Union[ExtensionArray,\u001b[39;00m\n\u001b[1;32m    719\u001b[0m         \u001b[39m# ndarray], Index, Series], Sequence[Any]]\"\u001b[39;00m\n\u001b[1;32m    720\u001b[0m         columns \u001b[39m=\u001b[39m ensure_index(columns)  \u001b[39m# type: ignore[arg-type]\u001b[39;00m\n\u001b[0;32m--> 721\u001b[0m     arrays, columns, index \u001b[39m=\u001b[39m nested_data_to_arrays(\n\u001b[1;32m    722\u001b[0m         \u001b[39m# error: Argument 3 to \"nested_data_to_arrays\" has incompatible\u001b[39;49;00m\n\u001b[1;32m    723\u001b[0m         \u001b[39m# type \"Optional[Collection[Any]]\"; expected \"Optional[Index]\"\u001b[39;49;00m\n\u001b[1;32m    724\u001b[0m         data,\n\u001b[1;32m    725\u001b[0m         columns,\n\u001b[1;32m    726\u001b[0m         index,  \u001b[39m# type: ignore[arg-type]\u001b[39;49;00m\n\u001b[1;32m    727\u001b[0m         dtype,\n\u001b[1;32m    728\u001b[0m     )\n\u001b[1;32m    729\u001b[0m     mgr \u001b[39m=\u001b[39m arrays_to_mgr(\n\u001b[1;32m    730\u001b[0m         arrays,\n\u001b[1;32m    731\u001b[0m         columns,\n\u001b[0;32m   (...)\u001b[0m\n\u001b[1;32m    734\u001b[0m         typ\u001b[39m=\u001b[39mmanager,\n\u001b[1;32m    735\u001b[0m     )\n\u001b[1;32m    736\u001b[0m \u001b[39melse\u001b[39;00m:\n",
      "File \u001b[0;32m~/.local/lib/python3.8/site-packages/pandas/core/internals/construction.py:519\u001b[0m, in \u001b[0;36mnested_data_to_arrays\u001b[0;34m(data, columns, index, dtype)\u001b[0m\n\u001b[1;32m    516\u001b[0m \u001b[39mif\u001b[39;00m is_named_tuple(data[\u001b[39m0\u001b[39m]) \u001b[39mand\u001b[39;00m columns \u001b[39mis\u001b[39;00m \u001b[39mNone\u001b[39;00m:\n\u001b[1;32m    517\u001b[0m     columns \u001b[39m=\u001b[39m ensure_index(data[\u001b[39m0\u001b[39m]\u001b[39m.\u001b[39m_fields)\n\u001b[0;32m--> 519\u001b[0m arrays, columns \u001b[39m=\u001b[39m to_arrays(data, columns, dtype\u001b[39m=\u001b[39;49mdtype)\n\u001b[1;32m    520\u001b[0m columns \u001b[39m=\u001b[39m ensure_index(columns)\n\u001b[1;32m    522\u001b[0m \u001b[39mif\u001b[39;00m index \u001b[39mis\u001b[39;00m \u001b[39mNone\u001b[39;00m:\n",
      "File \u001b[0;32m~/.local/lib/python3.8/site-packages/pandas/core/internals/construction.py:883\u001b[0m, in \u001b[0;36mto_arrays\u001b[0;34m(data, columns, dtype)\u001b[0m\n\u001b[1;32m    880\u001b[0m     data \u001b[39m=\u001b[39m [\u001b[39mtuple\u001b[39m(x) \u001b[39mfor\u001b[39;00m x \u001b[39min\u001b[39;00m data]\n\u001b[1;32m    881\u001b[0m     arr \u001b[39m=\u001b[39m _list_to_arrays(data)\n\u001b[0;32m--> 883\u001b[0m content, columns \u001b[39m=\u001b[39m _finalize_columns_and_data(arr, columns, dtype)\n\u001b[1;32m    884\u001b[0m \u001b[39mreturn\u001b[39;00m content, columns\n",
      "File \u001b[0;32m~/.local/lib/python3.8/site-packages/pandas/core/internals/construction.py:985\u001b[0m, in \u001b[0;36m_finalize_columns_and_data\u001b[0;34m(content, columns, dtype)\u001b[0m\n\u001b[1;32m    982\u001b[0m     columns \u001b[39m=\u001b[39m _validate_or_indexify_columns(contents, columns)\n\u001b[1;32m    983\u001b[0m \u001b[39mexcept\u001b[39;00m \u001b[39mAssertionError\u001b[39;00m \u001b[39mas\u001b[39;00m err:\n\u001b[1;32m    984\u001b[0m     \u001b[39m# GH#26429 do not raise user-facing AssertionError\u001b[39;00m\n\u001b[0;32m--> 985\u001b[0m     \u001b[39mraise\u001b[39;00m \u001b[39mValueError\u001b[39;00m(err) \u001b[39mfrom\u001b[39;00m \u001b[39merr\u001b[39;00m\n\u001b[1;32m    987\u001b[0m \u001b[39mif\u001b[39;00m \u001b[39mlen\u001b[39m(contents) \u001b[39mand\u001b[39;00m contents[\u001b[39m0\u001b[39m]\u001b[39m.\u001b[39mdtype \u001b[39m==\u001b[39m np\u001b[39m.\u001b[39mobject_:\n\u001b[1;32m    988\u001b[0m     contents \u001b[39m=\u001b[39m _convert_object_array(contents, dtype\u001b[39m=\u001b[39mdtype)\n",
      "\u001b[0;31mValueError\u001b[0m: 3 columns passed, passed data had 4 columns"
     ]
    }
   ],
   "source": [
    "rooms_df = pd.DataFrame(room_list,columns = ['Beds','Baths','Parking'])"
   ]
  },
  {
   "cell_type": "code",
   "execution_count": null,
   "metadata": {},
   "outputs": [
    {
     "ename": "NameError",
     "evalue": "name 'rooms_df' is not defined",
     "output_type": "error",
     "traceback": [
      "\u001b[0;31m---------------------------------------------------------------------------\u001b[0m",
      "\u001b[0;31mNameError\u001b[0m                                 Traceback (most recent call last)",
      "\u001b[1;32m/mnt/c/Users/relax/Documents/2022/sem 2/applied data science/Assignment_2/generic-real-estate-consulting-project-group-2/notebooks/Rental_Preprocessing.ipynb Cell 38\u001b[0m in \u001b[0;36m<cell line: 1>\u001b[0;34m()\u001b[0m\n\u001b[0;32m----> <a href='vscode-notebook-cell://wsl%2Bubuntu-20.04/mnt/c/Users/relax/Documents/2022/sem%202/applied%20data%20science/Assignment_2/generic-real-estate-consulting-project-group-2/notebooks/Rental_Preprocessing.ipynb#X52sdnNjb2RlLXJlbW90ZQ%3D%3D?line=0'>1</a>\u001b[0m rooms_df\u001b[39m.\u001b[39mhead()\n",
      "\u001b[0;31mNameError\u001b[0m: name 'rooms_df' is not defined"
     ]
    }
   ],
   "source": [
    "rooms_df.head()"
   ]
  },
  {
   "cell_type": "code",
   "execution_count": null,
   "metadata": {},
   "outputs": [],
   "source": []
  },
  {
   "cell_type": "code",
   "execution_count": null,
   "metadata": {},
   "outputs": [],
   "source": []
  },
  {
   "cell_type": "markdown",
   "metadata": {},
   "source": [
    "# Process Additional features\n"
   ]
  },
  {
   "cell_type": "code",
   "execution_count": 290,
   "metadata": {},
   "outputs": [],
   "source": [
    "import ast"
   ]
  },
  {
   "cell_type": "code",
   "execution_count": 291,
   "metadata": {},
   "outputs": [],
   "source": [
    "# change all to lower case so can get matches\n",
    "\n",
    "rental_final_df['add_feat'] = rental_final_df['add_feat'].apply(lambda x: [w.lower() for w in x])\n"
   ]
  },
  {
   "cell_type": "code",
   "execution_count": 292,
   "metadata": {},
   "outputs": [
    {
     "data": {
      "text/html": [
       "<div>\n",
       "<style scoped>\n",
       "    .dataframe tbody tr th:only-of-type {\n",
       "        vertical-align: middle;\n",
       "    }\n",
       "\n",
       "    .dataframe tbody tr th {\n",
       "        vertical-align: top;\n",
       "    }\n",
       "\n",
       "    .dataframe thead th {\n",
       "        text-align: right;\n",
       "    }\n",
       "</style>\n",
       "<table border=\"1\" class=\"dataframe\">\n",
       "  <thead>\n",
       "    <tr style=\"text-align: right;\">\n",
       "      <th></th>\n",
       "      <th>name</th>\n",
       "      <th>prop_type</th>\n",
       "      <th>cost_text</th>\n",
       "      <th>coordinates</th>\n",
       "      <th>rooms</th>\n",
       "      <th>add_feat</th>\n",
       "    </tr>\n",
       "  </thead>\n",
       "  <tbody>\n",
       "    <tr>\n",
       "      <th>https://www.domain.com.au/817-39-coventry-street-southbank-vic-3006-10766251</th>\n",
       "      <td>817/39 Coventry Street Southbank VIC 3006</td>\n",
       "      <td>Apartment / Unit / Flat</td>\n",
       "      <td>460</td>\n",
       "      <td>[-37.8294033, 144.9692407]</td>\n",
       "      <td>[[2 Beds], [1 Bath], []]</td>\n",
       "      <td>[air conditioning, built in wardrobes, furnish...</td>\n",
       "    </tr>\n",
       "    <tr>\n",
       "      <th>https://www.domain.com.au/1505-39-coventry-street-southbank-vic-3006-16098319</th>\n",
       "      <td>1505/39 Coventry Street Southbank VIC 3006</td>\n",
       "      <td>Apartment / Unit / Flat</td>\n",
       "      <td>650</td>\n",
       "      <td>[-37.8294033, 144.9692407]</td>\n",
       "      <td>[[2 Beds], [2 Baths], [1 Parking]]</td>\n",
       "      <td>[internal laundry, inside, gym, intercom, buil...</td>\n",
       "    </tr>\n",
       "    <tr>\n",
       "      <th>https://www.domain.com.au/3306-151-city-road-southbank-vic-3006-16100837</th>\n",
       "      <td>3306/151 City Road Southbank VIC 3006</td>\n",
       "      <td>Apartment / Unit / Flat</td>\n",
       "      <td>610.00</td>\n",
       "      <td>[-37.8236674, 144.9631638]</td>\n",
       "      <td>[[2 Beds], [2 Baths], [1 Parking]]</td>\n",
       "      <td>[gas, internal laundry, heating, secure parkin...</td>\n",
       "    </tr>\n",
       "    <tr>\n",
       "      <th>https://www.domain.com.au/168-100-kavanagh-street-southbank-vic-3006-16100841</th>\n",
       "      <td>168/100 Kavanagh Street Southbank VIC 3006</td>\n",
       "      <td>Apartment / Unit / Flat</td>\n",
       "      <td>480.00</td>\n",
       "      <td>[-37.8251485, 144.9627575]</td>\n",
       "      <td>[[1 Bed], [1 Bath], [1 Parking]]</td>\n",
       "      <td>[gas, internal laundry, intercom, secure parki...</td>\n",
       "    </tr>\n",
       "    <tr>\n",
       "      <th>https://www.domain.com.au/1412-151-city-road-southbank-vic-3006-16100836</th>\n",
       "      <td>1412/151 City Road Southbank VIC 3006</td>\n",
       "      <td>Apartment / Unit / Flat</td>\n",
       "      <td>620.00</td>\n",
       "      <td>[-37.8236674, 144.9631638]</td>\n",
       "      <td>[[2 Beds], [2 Baths], [1 Parking]]</td>\n",
       "      <td>[gas, internal laundry, secure parking, gym, h...</td>\n",
       "    </tr>\n",
       "  </tbody>\n",
       "</table>\n",
       "</div>"
      ],
      "text/plain": [
       "                                                                                          name  \\\n",
       "https://www.domain.com.au/817-39-coventry-stree...   817/39 Coventry Street Southbank VIC 3006   \n",
       "https://www.domain.com.au/1505-39-coventry-stre...  1505/39 Coventry Street Southbank VIC 3006   \n",
       "https://www.domain.com.au/3306-151-city-road-so...       3306/151 City Road Southbank VIC 3006   \n",
       "https://www.domain.com.au/168-100-kavanagh-stre...  168/100 Kavanagh Street Southbank VIC 3006   \n",
       "https://www.domain.com.au/1412-151-city-road-so...       1412/151 City Road Southbank VIC 3006   \n",
       "\n",
       "                                                                  prop_type  \\\n",
       "https://www.domain.com.au/817-39-coventry-stree...  Apartment / Unit / Flat   \n",
       "https://www.domain.com.au/1505-39-coventry-stre...  Apartment / Unit / Flat   \n",
       "https://www.domain.com.au/3306-151-city-road-so...  Apartment / Unit / Flat   \n",
       "https://www.domain.com.au/168-100-kavanagh-stre...  Apartment / Unit / Flat   \n",
       "https://www.domain.com.au/1412-151-city-road-so...  Apartment / Unit / Flat   \n",
       "\n",
       "                                                   cost_text  \\\n",
       "https://www.domain.com.au/817-39-coventry-stree...       460   \n",
       "https://www.domain.com.au/1505-39-coventry-stre...       650   \n",
       "https://www.domain.com.au/3306-151-city-road-so...    610.00   \n",
       "https://www.domain.com.au/168-100-kavanagh-stre...    480.00   \n",
       "https://www.domain.com.au/1412-151-city-road-so...    620.00   \n",
       "\n",
       "                                                                   coordinates  \\\n",
       "https://www.domain.com.au/817-39-coventry-stree...  [-37.8294033, 144.9692407]   \n",
       "https://www.domain.com.au/1505-39-coventry-stre...  [-37.8294033, 144.9692407]   \n",
       "https://www.domain.com.au/3306-151-city-road-so...  [-37.8236674, 144.9631638]   \n",
       "https://www.domain.com.au/168-100-kavanagh-stre...  [-37.8251485, 144.9627575]   \n",
       "https://www.domain.com.au/1412-151-city-road-so...  [-37.8236674, 144.9631638]   \n",
       "\n",
       "                                                                                 rooms  \\\n",
       "https://www.domain.com.au/817-39-coventry-stree...            [[2 Beds], [1 Bath], []]   \n",
       "https://www.domain.com.au/1505-39-coventry-stre...  [[2 Beds], [2 Baths], [1 Parking]]   \n",
       "https://www.domain.com.au/3306-151-city-road-so...  [[2 Beds], [2 Baths], [1 Parking]]   \n",
       "https://www.domain.com.au/168-100-kavanagh-stre...    [[1 Bed], [1 Bath], [1 Parking]]   \n",
       "https://www.domain.com.au/1412-151-city-road-so...  [[2 Beds], [2 Baths], [1 Parking]]   \n",
       "\n",
       "                                                                                             add_feat  \n",
       "https://www.domain.com.au/817-39-coventry-stree...  [air conditioning, built in wardrobes, furnish...  \n",
       "https://www.domain.com.au/1505-39-coventry-stre...  [internal laundry, inside, gym, intercom, buil...  \n",
       "https://www.domain.com.au/3306-151-city-road-so...  [gas, internal laundry, heating, secure parkin...  \n",
       "https://www.domain.com.au/168-100-kavanagh-stre...  [gas, internal laundry, intercom, secure parki...  \n",
       "https://www.domain.com.au/1412-151-city-road-so...  [gas, internal laundry, secure parking, gym, h...  "
      ]
     },
     "execution_count": 292,
     "metadata": {},
     "output_type": "execute_result"
    }
   ],
   "source": [
    "rental_final_df.head()"
   ]
  },
  {
   "cell_type": "code",
   "execution_count": 293,
   "metadata": {},
   "outputs": [],
   "source": [
    "out = rental_final_df['add_feat'].explode().value_counts().index[:25].tolist()\n"
   ]
  },
  {
   "cell_type": "code",
   "execution_count": 294,
   "metadata": {},
   "outputs": [],
   "source": [
    "#out"
   ]
  },
  {
   "cell_type": "code",
   "execution_count": 295,
   "metadata": {},
   "outputs": [],
   "source": [
    "# now we want to only keep these these top 25, this is probably not the best way to find the most important features for pricing\n",
    "# not sure this is the cleanest code\n",
    "rental_final_df['add_feat'] = rental_final_df['add_feat'].apply(lambda x: [v for v in x if v in out])"
   ]
  },
  {
   "cell_type": "code",
   "execution_count": 296,
   "metadata": {},
   "outputs": [
    {
     "data": {
      "text/html": [
       "<div>\n",
       "<style scoped>\n",
       "    .dataframe tbody tr th:only-of-type {\n",
       "        vertical-align: middle;\n",
       "    }\n",
       "\n",
       "    .dataframe tbody tr th {\n",
       "        vertical-align: top;\n",
       "    }\n",
       "\n",
       "    .dataframe thead th {\n",
       "        text-align: right;\n",
       "    }\n",
       "</style>\n",
       "<table border=\"1\" class=\"dataframe\">\n",
       "  <thead>\n",
       "    <tr style=\"text-align: right;\">\n",
       "      <th></th>\n",
       "      <th>name</th>\n",
       "      <th>prop_type</th>\n",
       "      <th>cost_text</th>\n",
       "      <th>coordinates</th>\n",
       "      <th>rooms</th>\n",
       "      <th>add_feat</th>\n",
       "    </tr>\n",
       "  </thead>\n",
       "  <tbody>\n",
       "    <tr>\n",
       "      <th>https://www.domain.com.au/817-39-coventry-street-southbank-vic-3006-10766251</th>\n",
       "      <td>817/39 Coventry Street Southbank VIC 3006</td>\n",
       "      <td>Apartment / Unit / Flat</td>\n",
       "      <td>460</td>\n",
       "      <td>[-37.8294033, 144.9692407]</td>\n",
       "      <td>[[2 Beds], [1 Bath], []]</td>\n",
       "      <td>[air conditioning, built in wardrobes, dishwas...</td>\n",
       "    </tr>\n",
       "    <tr>\n",
       "      <th>https://www.domain.com.au/1505-39-coventry-street-southbank-vic-3006-16098319</th>\n",
       "      <td>1505/39 Coventry Street Southbank VIC 3006</td>\n",
       "      <td>Apartment / Unit / Flat</td>\n",
       "      <td>650</td>\n",
       "      <td>[-37.8294033, 144.9692407]</td>\n",
       "      <td>[[2 Beds], [2 Baths], [1 Parking]]</td>\n",
       "      <td>[internal laundry, inside, gym, intercom, buil...</td>\n",
       "    </tr>\n",
       "    <tr>\n",
       "      <th>https://www.domain.com.au/3306-151-city-road-southbank-vic-3006-16100837</th>\n",
       "      <td>3306/151 City Road Southbank VIC 3006</td>\n",
       "      <td>Apartment / Unit / Flat</td>\n",
       "      <td>610.00</td>\n",
       "      <td>[-37.8236674, 144.9631638]</td>\n",
       "      <td>[[2 Beds], [2 Baths], [1 Parking]]</td>\n",
       "      <td>[gas, internal laundry, heating, secure parkin...</td>\n",
       "    </tr>\n",
       "    <tr>\n",
       "      <th>https://www.domain.com.au/168-100-kavanagh-street-southbank-vic-3006-16100841</th>\n",
       "      <td>168/100 Kavanagh Street Southbank VIC 3006</td>\n",
       "      <td>Apartment / Unit / Flat</td>\n",
       "      <td>480.00</td>\n",
       "      <td>[-37.8251485, 144.9627575]</td>\n",
       "      <td>[[1 Bed], [1 Bath], [1 Parking]]</td>\n",
       "      <td>[gas, internal laundry, intercom, secure parki...</td>\n",
       "    </tr>\n",
       "    <tr>\n",
       "      <th>https://www.domain.com.au/1412-151-city-road-southbank-vic-3006-16100836</th>\n",
       "      <td>1412/151 City Road Southbank VIC 3006</td>\n",
       "      <td>Apartment / Unit / Flat</td>\n",
       "      <td>620.00</td>\n",
       "      <td>[-37.8236674, 144.9631638]</td>\n",
       "      <td>[[2 Beds], [2 Baths], [1 Parking]]</td>\n",
       "      <td>[gas, internal laundry, secure parking, gym, h...</td>\n",
       "    </tr>\n",
       "  </tbody>\n",
       "</table>\n",
       "</div>"
      ],
      "text/plain": [
       "                                                                                          name  \\\n",
       "https://www.domain.com.au/817-39-coventry-stree...   817/39 Coventry Street Southbank VIC 3006   \n",
       "https://www.domain.com.au/1505-39-coventry-stre...  1505/39 Coventry Street Southbank VIC 3006   \n",
       "https://www.domain.com.au/3306-151-city-road-so...       3306/151 City Road Southbank VIC 3006   \n",
       "https://www.domain.com.au/168-100-kavanagh-stre...  168/100 Kavanagh Street Southbank VIC 3006   \n",
       "https://www.domain.com.au/1412-151-city-road-so...       1412/151 City Road Southbank VIC 3006   \n",
       "\n",
       "                                                                  prop_type  \\\n",
       "https://www.domain.com.au/817-39-coventry-stree...  Apartment / Unit / Flat   \n",
       "https://www.domain.com.au/1505-39-coventry-stre...  Apartment / Unit / Flat   \n",
       "https://www.domain.com.au/3306-151-city-road-so...  Apartment / Unit / Flat   \n",
       "https://www.domain.com.au/168-100-kavanagh-stre...  Apartment / Unit / Flat   \n",
       "https://www.domain.com.au/1412-151-city-road-so...  Apartment / Unit / Flat   \n",
       "\n",
       "                                                   cost_text  \\\n",
       "https://www.domain.com.au/817-39-coventry-stree...       460   \n",
       "https://www.domain.com.au/1505-39-coventry-stre...       650   \n",
       "https://www.domain.com.au/3306-151-city-road-so...    610.00   \n",
       "https://www.domain.com.au/168-100-kavanagh-stre...    480.00   \n",
       "https://www.domain.com.au/1412-151-city-road-so...    620.00   \n",
       "\n",
       "                                                                   coordinates  \\\n",
       "https://www.domain.com.au/817-39-coventry-stree...  [-37.8294033, 144.9692407]   \n",
       "https://www.domain.com.au/1505-39-coventry-stre...  [-37.8294033, 144.9692407]   \n",
       "https://www.domain.com.au/3306-151-city-road-so...  [-37.8236674, 144.9631638]   \n",
       "https://www.domain.com.au/168-100-kavanagh-stre...  [-37.8251485, 144.9627575]   \n",
       "https://www.domain.com.au/1412-151-city-road-so...  [-37.8236674, 144.9631638]   \n",
       "\n",
       "                                                                                 rooms  \\\n",
       "https://www.domain.com.au/817-39-coventry-stree...            [[2 Beds], [1 Bath], []]   \n",
       "https://www.domain.com.au/1505-39-coventry-stre...  [[2 Beds], [2 Baths], [1 Parking]]   \n",
       "https://www.domain.com.au/3306-151-city-road-so...  [[2 Beds], [2 Baths], [1 Parking]]   \n",
       "https://www.domain.com.au/168-100-kavanagh-stre...    [[1 Bed], [1 Bath], [1 Parking]]   \n",
       "https://www.domain.com.au/1412-151-city-road-so...  [[2 Beds], [2 Baths], [1 Parking]]   \n",
       "\n",
       "                                                                                             add_feat  \n",
       "https://www.domain.com.au/817-39-coventry-stree...  [air conditioning, built in wardrobes, dishwas...  \n",
       "https://www.domain.com.au/1505-39-coventry-stre...  [internal laundry, inside, gym, intercom, buil...  \n",
       "https://www.domain.com.au/3306-151-city-road-so...  [gas, internal laundry, heating, secure parkin...  \n",
       "https://www.domain.com.au/168-100-kavanagh-stre...  [gas, internal laundry, intercom, secure parki...  \n",
       "https://www.domain.com.au/1412-151-city-road-so...  [gas, internal laundry, secure parking, gym, h...  "
      ]
     },
     "execution_count": 296,
     "metadata": {},
     "output_type": "execute_result"
    }
   ],
   "source": [
    "rental_final_df.head()"
   ]
  },
  {
   "cell_type": "code",
   "execution_count": 297,
   "metadata": {},
   "outputs": [
    {
     "data": {
      "text/plain": [
       "25"
      ]
     },
     "execution_count": 297,
     "metadata": {},
     "output_type": "execute_result"
    }
   ],
   "source": [
    "rental_final_df['add_feat'].explode().value_counts().count()\n"
   ]
  },
  {
   "cell_type": "code",
   "execution_count": 298,
   "metadata": {},
   "outputs": [
    {
     "name": "stderr",
     "output_type": "stream",
     "text": [
      "/tmp/ipykernel_1133/848817753.py:3: FutureWarning: The default dtype for empty Series will be 'object' instead of 'float64' in a future version. Specify a dtype explicitly to silence this warning.\n",
      "  test = pd.get_dummies(rental_final_df['add_feat'].apply(pd.Series).stack()).sum(level=0)\n",
      "/tmp/ipykernel_1133/848817753.py:3: FutureWarning: Using the level keyword in DataFrame and Series aggregations is deprecated and will be removed in a future version. Use groupby instead. df.sum(level=1) should use df.groupby(level=1).sum().\n",
      "  test = pd.get_dummies(rental_final_df['add_feat'].apply(pd.Series).stack()).sum(level=0)\n"
     ]
    }
   ],
   "source": [
    "# Will need to create columns for each room and add_featr? \n",
    "#https://stackoverflow.com/questions/29034928/pandas-convert-a-column-of-list-to-dummies\n",
    "test = pd.get_dummies(rental_final_df['add_feat'].apply(pd.Series).stack()).sum(level=0)"
   ]
  },
  {
   "cell_type": "code",
   "execution_count": 299,
   "metadata": {},
   "outputs": [],
   "source": [
    "rental_final_df = rental_final_df.join(test)"
   ]
  },
  {
   "cell_type": "code",
   "execution_count": 300,
   "metadata": {},
   "outputs": [
    {
     "data": {
      "text/html": [
       "<div>\n",
       "<style scoped>\n",
       "    .dataframe tbody tr th:only-of-type {\n",
       "        vertical-align: middle;\n",
       "    }\n",
       "\n",
       "    .dataframe tbody tr th {\n",
       "        vertical-align: top;\n",
       "    }\n",
       "\n",
       "    .dataframe thead th {\n",
       "        text-align: right;\n",
       "    }\n",
       "</style>\n",
       "<table border=\"1\" class=\"dataframe\">\n",
       "  <thead>\n",
       "    <tr style=\"text-align: right;\">\n",
       "      <th></th>\n",
       "      <th>name</th>\n",
       "      <th>prop_type</th>\n",
       "      <th>cost_text</th>\n",
       "      <th>coordinates</th>\n",
       "      <th>rooms</th>\n",
       "      <th>add_feat</th>\n",
       "      <th>air conditioning</th>\n",
       "      <th>balcony  deck</th>\n",
       "      <th>bath</th>\n",
       "      <th>broadband internet access</th>\n",
       "      <th>...</th>\n",
       "      <th>intercom</th>\n",
       "      <th>internal laundry</th>\n",
       "      <th>no extra features listed</th>\n",
       "      <th>outdoor entertainment area</th>\n",
       "      <th>remote garage</th>\n",
       "      <th>secure parking</th>\n",
       "      <th>shed</th>\n",
       "      <th>split system air con</th>\n",
       "      <th>split system heating</th>\n",
       "      <th>study</th>\n",
       "    </tr>\n",
       "  </thead>\n",
       "  <tbody>\n",
       "    <tr>\n",
       "      <th>https://www.domain.com.au/817-39-coventry-street-southbank-vic-3006-10766251</th>\n",
       "      <td>817/39 Coventry Street Southbank VIC 3006</td>\n",
       "      <td>Apartment / Unit / Flat</td>\n",
       "      <td>460</td>\n",
       "      <td>[-37.8294033, 144.9692407]</td>\n",
       "      <td>[[2 Beds], [1 Bath], []]</td>\n",
       "      <td>[air conditioning, built in wardrobes, dishwas...</td>\n",
       "      <td>1.0</td>\n",
       "      <td>1.0</td>\n",
       "      <td>0.0</td>\n",
       "      <td>0.0</td>\n",
       "      <td>...</td>\n",
       "      <td>0.0</td>\n",
       "      <td>0.0</td>\n",
       "      <td>0.0</td>\n",
       "      <td>0.0</td>\n",
       "      <td>0.0</td>\n",
       "      <td>0.0</td>\n",
       "      <td>0.0</td>\n",
       "      <td>0.0</td>\n",
       "      <td>0.0</td>\n",
       "      <td>0.0</td>\n",
       "    </tr>\n",
       "    <tr>\n",
       "      <th>https://www.domain.com.au/1505-39-coventry-street-southbank-vic-3006-16098319</th>\n",
       "      <td>1505/39 Coventry Street Southbank VIC 3006</td>\n",
       "      <td>Apartment / Unit / Flat</td>\n",
       "      <td>650</td>\n",
       "      <td>[-37.8294033, 144.9692407]</td>\n",
       "      <td>[[2 Beds], [2 Baths], [1 Parking]]</td>\n",
       "      <td>[internal laundry, inside, gym, intercom, buil...</td>\n",
       "      <td>0.0</td>\n",
       "      <td>0.0</td>\n",
       "      <td>0.0</td>\n",
       "      <td>0.0</td>\n",
       "      <td>...</td>\n",
       "      <td>1.0</td>\n",
       "      <td>1.0</td>\n",
       "      <td>0.0</td>\n",
       "      <td>0.0</td>\n",
       "      <td>0.0</td>\n",
       "      <td>1.0</td>\n",
       "      <td>0.0</td>\n",
       "      <td>0.0</td>\n",
       "      <td>1.0</td>\n",
       "      <td>0.0</td>\n",
       "    </tr>\n",
       "    <tr>\n",
       "      <th>https://www.domain.com.au/3306-151-city-road-southbank-vic-3006-16100837</th>\n",
       "      <td>3306/151 City Road Southbank VIC 3006</td>\n",
       "      <td>Apartment / Unit / Flat</td>\n",
       "      <td>610.00</td>\n",
       "      <td>[-37.8236674, 144.9631638]</td>\n",
       "      <td>[[2 Beds], [2 Baths], [1 Parking]]</td>\n",
       "      <td>[gas, internal laundry, heating, secure parkin...</td>\n",
       "      <td>1.0</td>\n",
       "      <td>1.0</td>\n",
       "      <td>0.0</td>\n",
       "      <td>0.0</td>\n",
       "      <td>...</td>\n",
       "      <td>1.0</td>\n",
       "      <td>1.0</td>\n",
       "      <td>0.0</td>\n",
       "      <td>0.0</td>\n",
       "      <td>0.0</td>\n",
       "      <td>1.0</td>\n",
       "      <td>0.0</td>\n",
       "      <td>0.0</td>\n",
       "      <td>0.0</td>\n",
       "      <td>0.0</td>\n",
       "    </tr>\n",
       "    <tr>\n",
       "      <th>https://www.domain.com.au/168-100-kavanagh-street-southbank-vic-3006-16100841</th>\n",
       "      <td>168/100 Kavanagh Street Southbank VIC 3006</td>\n",
       "      <td>Apartment / Unit / Flat</td>\n",
       "      <td>480.00</td>\n",
       "      <td>[-37.8251485, 144.9627575]</td>\n",
       "      <td>[[1 Bed], [1 Bath], [1 Parking]]</td>\n",
       "      <td>[gas, internal laundry, intercom, secure parki...</td>\n",
       "      <td>1.0</td>\n",
       "      <td>1.0</td>\n",
       "      <td>0.0</td>\n",
       "      <td>0.0</td>\n",
       "      <td>...</td>\n",
       "      <td>1.0</td>\n",
       "      <td>1.0</td>\n",
       "      <td>0.0</td>\n",
       "      <td>0.0</td>\n",
       "      <td>0.0</td>\n",
       "      <td>1.0</td>\n",
       "      <td>0.0</td>\n",
       "      <td>0.0</td>\n",
       "      <td>0.0</td>\n",
       "      <td>0.0</td>\n",
       "    </tr>\n",
       "    <tr>\n",
       "      <th>https://www.domain.com.au/1412-151-city-road-southbank-vic-3006-16100836</th>\n",
       "      <td>1412/151 City Road Southbank VIC 3006</td>\n",
       "      <td>Apartment / Unit / Flat</td>\n",
       "      <td>620.00</td>\n",
       "      <td>[-37.8236674, 144.9631638]</td>\n",
       "      <td>[[2 Beds], [2 Baths], [1 Parking]]</td>\n",
       "      <td>[gas, internal laundry, secure parking, gym, h...</td>\n",
       "      <td>1.0</td>\n",
       "      <td>1.0</td>\n",
       "      <td>0.0</td>\n",
       "      <td>0.0</td>\n",
       "      <td>...</td>\n",
       "      <td>1.0</td>\n",
       "      <td>1.0</td>\n",
       "      <td>0.0</td>\n",
       "      <td>0.0</td>\n",
       "      <td>0.0</td>\n",
       "      <td>1.0</td>\n",
       "      <td>0.0</td>\n",
       "      <td>0.0</td>\n",
       "      <td>0.0</td>\n",
       "      <td>1.0</td>\n",
       "    </tr>\n",
       "  </tbody>\n",
       "</table>\n",
       "<p>5 rows × 31 columns</p>\n",
       "</div>"
      ],
      "text/plain": [
       "                                                                                          name  \\\n",
       "https://www.domain.com.au/817-39-coventry-stree...   817/39 Coventry Street Southbank VIC 3006   \n",
       "https://www.domain.com.au/1505-39-coventry-stre...  1505/39 Coventry Street Southbank VIC 3006   \n",
       "https://www.domain.com.au/3306-151-city-road-so...       3306/151 City Road Southbank VIC 3006   \n",
       "https://www.domain.com.au/168-100-kavanagh-stre...  168/100 Kavanagh Street Southbank VIC 3006   \n",
       "https://www.domain.com.au/1412-151-city-road-so...       1412/151 City Road Southbank VIC 3006   \n",
       "\n",
       "                                                                  prop_type  \\\n",
       "https://www.domain.com.au/817-39-coventry-stree...  Apartment / Unit / Flat   \n",
       "https://www.domain.com.au/1505-39-coventry-stre...  Apartment / Unit / Flat   \n",
       "https://www.domain.com.au/3306-151-city-road-so...  Apartment / Unit / Flat   \n",
       "https://www.domain.com.au/168-100-kavanagh-stre...  Apartment / Unit / Flat   \n",
       "https://www.domain.com.au/1412-151-city-road-so...  Apartment / Unit / Flat   \n",
       "\n",
       "                                                   cost_text  \\\n",
       "https://www.domain.com.au/817-39-coventry-stree...       460   \n",
       "https://www.domain.com.au/1505-39-coventry-stre...       650   \n",
       "https://www.domain.com.au/3306-151-city-road-so...    610.00   \n",
       "https://www.domain.com.au/168-100-kavanagh-stre...    480.00   \n",
       "https://www.domain.com.au/1412-151-city-road-so...    620.00   \n",
       "\n",
       "                                                                   coordinates  \\\n",
       "https://www.domain.com.au/817-39-coventry-stree...  [-37.8294033, 144.9692407]   \n",
       "https://www.domain.com.au/1505-39-coventry-stre...  [-37.8294033, 144.9692407]   \n",
       "https://www.domain.com.au/3306-151-city-road-so...  [-37.8236674, 144.9631638]   \n",
       "https://www.domain.com.au/168-100-kavanagh-stre...  [-37.8251485, 144.9627575]   \n",
       "https://www.domain.com.au/1412-151-city-road-so...  [-37.8236674, 144.9631638]   \n",
       "\n",
       "                                                                                 rooms  \\\n",
       "https://www.domain.com.au/817-39-coventry-stree...            [[2 Beds], [1 Bath], []]   \n",
       "https://www.domain.com.au/1505-39-coventry-stre...  [[2 Beds], [2 Baths], [1 Parking]]   \n",
       "https://www.domain.com.au/3306-151-city-road-so...  [[2 Beds], [2 Baths], [1 Parking]]   \n",
       "https://www.domain.com.au/168-100-kavanagh-stre...    [[1 Bed], [1 Bath], [1 Parking]]   \n",
       "https://www.domain.com.au/1412-151-city-road-so...  [[2 Beds], [2 Baths], [1 Parking]]   \n",
       "\n",
       "                                                                                             add_feat  \\\n",
       "https://www.domain.com.au/817-39-coventry-stree...  [air conditioning, built in wardrobes, dishwas...   \n",
       "https://www.domain.com.au/1505-39-coventry-stre...  [internal laundry, inside, gym, intercom, buil...   \n",
       "https://www.domain.com.au/3306-151-city-road-so...  [gas, internal laundry, heating, secure parkin...   \n",
       "https://www.domain.com.au/168-100-kavanagh-stre...  [gas, internal laundry, intercom, secure parki...   \n",
       "https://www.domain.com.au/1412-151-city-road-so...  [gas, internal laundry, secure parking, gym, h...   \n",
       "\n",
       "                                                    air conditioning  \\\n",
       "https://www.domain.com.au/817-39-coventry-stree...               1.0   \n",
       "https://www.domain.com.au/1505-39-coventry-stre...               0.0   \n",
       "https://www.domain.com.au/3306-151-city-road-so...               1.0   \n",
       "https://www.domain.com.au/168-100-kavanagh-stre...               1.0   \n",
       "https://www.domain.com.au/1412-151-city-road-so...               1.0   \n",
       "\n",
       "                                                    balcony  deck  bath  \\\n",
       "https://www.domain.com.au/817-39-coventry-stree...            1.0   0.0   \n",
       "https://www.domain.com.au/1505-39-coventry-stre...            0.0   0.0   \n",
       "https://www.domain.com.au/3306-151-city-road-so...            1.0   0.0   \n",
       "https://www.domain.com.au/168-100-kavanagh-stre...            1.0   0.0   \n",
       "https://www.domain.com.au/1412-151-city-road-so...            1.0   0.0   \n",
       "\n",
       "                                                    broadband internet access  \\\n",
       "https://www.domain.com.au/817-39-coventry-stree...                        0.0   \n",
       "https://www.domain.com.au/1505-39-coventry-stre...                        0.0   \n",
       "https://www.domain.com.au/3306-151-city-road-so...                        0.0   \n",
       "https://www.domain.com.au/168-100-kavanagh-stre...                        0.0   \n",
       "https://www.domain.com.au/1412-151-city-road-so...                        0.0   \n",
       "\n",
       "                                                    ...  intercom  \\\n",
       "https://www.domain.com.au/817-39-coventry-stree...  ...       0.0   \n",
       "https://www.domain.com.au/1505-39-coventry-stre...  ...       1.0   \n",
       "https://www.domain.com.au/3306-151-city-road-so...  ...       1.0   \n",
       "https://www.domain.com.au/168-100-kavanagh-stre...  ...       1.0   \n",
       "https://www.domain.com.au/1412-151-city-road-so...  ...       1.0   \n",
       "\n",
       "                                                    internal laundry  \\\n",
       "https://www.domain.com.au/817-39-coventry-stree...               0.0   \n",
       "https://www.domain.com.au/1505-39-coventry-stre...               1.0   \n",
       "https://www.domain.com.au/3306-151-city-road-so...               1.0   \n",
       "https://www.domain.com.au/168-100-kavanagh-stre...               1.0   \n",
       "https://www.domain.com.au/1412-151-city-road-so...               1.0   \n",
       "\n",
       "                                                    no extra features listed  \\\n",
       "https://www.domain.com.au/817-39-coventry-stree...                       0.0   \n",
       "https://www.domain.com.au/1505-39-coventry-stre...                       0.0   \n",
       "https://www.domain.com.au/3306-151-city-road-so...                       0.0   \n",
       "https://www.domain.com.au/168-100-kavanagh-stre...                       0.0   \n",
       "https://www.domain.com.au/1412-151-city-road-so...                       0.0   \n",
       "\n",
       "                                                    outdoor entertainment area  \\\n",
       "https://www.domain.com.au/817-39-coventry-stree...                         0.0   \n",
       "https://www.domain.com.au/1505-39-coventry-stre...                         0.0   \n",
       "https://www.domain.com.au/3306-151-city-road-so...                         0.0   \n",
       "https://www.domain.com.au/168-100-kavanagh-stre...                         0.0   \n",
       "https://www.domain.com.au/1412-151-city-road-so...                         0.0   \n",
       "\n",
       "                                                    remote garage  \\\n",
       "https://www.domain.com.au/817-39-coventry-stree...            0.0   \n",
       "https://www.domain.com.au/1505-39-coventry-stre...            0.0   \n",
       "https://www.domain.com.au/3306-151-city-road-so...            0.0   \n",
       "https://www.domain.com.au/168-100-kavanagh-stre...            0.0   \n",
       "https://www.domain.com.au/1412-151-city-road-so...            0.0   \n",
       "\n",
       "                                                    secure parking  shed  \\\n",
       "https://www.domain.com.au/817-39-coventry-stree...             0.0   0.0   \n",
       "https://www.domain.com.au/1505-39-coventry-stre...             1.0   0.0   \n",
       "https://www.domain.com.au/3306-151-city-road-so...             1.0   0.0   \n",
       "https://www.domain.com.au/168-100-kavanagh-stre...             1.0   0.0   \n",
       "https://www.domain.com.au/1412-151-city-road-so...             1.0   0.0   \n",
       "\n",
       "                                                    split system air con  \\\n",
       "https://www.domain.com.au/817-39-coventry-stree...                   0.0   \n",
       "https://www.domain.com.au/1505-39-coventry-stre...                   0.0   \n",
       "https://www.domain.com.au/3306-151-city-road-so...                   0.0   \n",
       "https://www.domain.com.au/168-100-kavanagh-stre...                   0.0   \n",
       "https://www.domain.com.au/1412-151-city-road-so...                   0.0   \n",
       "\n",
       "                                                    split system heating  \\\n",
       "https://www.domain.com.au/817-39-coventry-stree...                   0.0   \n",
       "https://www.domain.com.au/1505-39-coventry-stre...                   1.0   \n",
       "https://www.domain.com.au/3306-151-city-road-so...                   0.0   \n",
       "https://www.domain.com.au/168-100-kavanagh-stre...                   0.0   \n",
       "https://www.domain.com.au/1412-151-city-road-so...                   0.0   \n",
       "\n",
       "                                                    study  \n",
       "https://www.domain.com.au/817-39-coventry-stree...    0.0  \n",
       "https://www.domain.com.au/1505-39-coventry-stre...    0.0  \n",
       "https://www.domain.com.au/3306-151-city-road-so...    0.0  \n",
       "https://www.domain.com.au/168-100-kavanagh-stre...    0.0  \n",
       "https://www.domain.com.au/1412-151-city-road-so...    1.0  \n",
       "\n",
       "[5 rows x 31 columns]"
      ]
     },
     "execution_count": 300,
     "metadata": {},
     "output_type": "execute_result"
    }
   ],
   "source": [
    "rental_final_df.head()"
   ]
  },
  {
   "cell_type": "code",
   "execution_count": 301,
   "metadata": {},
   "outputs": [],
   "source": [
    "rental_final_df.to_csv(\"../data/curated/internal_rental.csv\", index = False)"
   ]
  },
  {
   "cell_type": "code",
   "execution_count": null,
   "metadata": {},
   "outputs": [],
   "source": []
  },
  {
   "cell_type": "code",
   "execution_count": null,
   "metadata": {},
   "outputs": [],
   "source": []
  }
 ],
 "metadata": {
  "kernelspec": {
   "display_name": "Python 3.8.10 64-bit",
   "language": "python",
   "name": "python3"
  },
  "language_info": {
   "codemirror_mode": {
    "name": "ipython",
    "version": 3
   },
   "file_extension": ".py",
   "mimetype": "text/x-python",
   "name": "python",
   "nbconvert_exporter": "python",
   "pygments_lexer": "ipython3",
   "version": "3.8.10"
  },
  "orig_nbformat": 4,
  "vscode": {
   "interpreter": {
    "hash": "916dbcbb3f70747c44a77c7bcd40155683ae19c65e1c03b4aa3499c5328201f1"
   }
  }
 },
 "nbformat": 4,
 "nbformat_minor": 2
}
