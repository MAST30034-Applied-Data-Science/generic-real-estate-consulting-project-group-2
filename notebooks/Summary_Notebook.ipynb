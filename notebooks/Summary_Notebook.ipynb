{
 "cells": [
  {
   "cell_type": "code",
   "execution_count": 4,
   "metadata": {},
   "outputs": [],
   "source": [
    "import pandas as pd\n",
    "import glob\n",
    "from IPython.display import Image\n",
    "rental_df = pd.read_csv(\"../data/curated/proximity_calc_final.csv\", index_col=False)\n",
    "ranked_suburbs = pd.read_csv(\"../data/curated/livability_suburbs_ranked\")"
   ]
  },
  {
   "cell_type": "markdown",
   "metadata": {},
   "source": [
    "# Approach"
   ]
  },
  {
   "cell_type": "markdown",
   "metadata": {},
   "source": [
    "Main Data collection from:\n",
    "- Scraping domain website \n",
    "- Data ordered from Australian Bureau of Statistics (ABS) as well as Victorian Government (vicgov)"
   ]
  },
  {
   "cell_type": "markdown",
   "metadata": {},
   "source": [
    "One of our key goals was to determine what factors / features affect the rental price of properties throughout the state.\n",
    "We decided to split these features into internal and external factors as we believed it would be benefitial to see how both features within a house such as kitchen appliances and fetures surrounding the house such as school proximity, would affect the price."
   ]
  },
  {
   "cell_type": "markdown",
   "metadata": {},
   "source": [
    "### Internal Features"
   ]
  },
  {
   "cell_type": "markdown",
   "metadata": {},
   "source": [
    "For internal features, in addition to the basic rental information such as: Number of bedrooms, bathrooms and parking, we took a look at the additional listing features which were scraped from the website \"domain.com\". \n",
    "- These features ranged from thigns such as walk-in wardrobes to airconditioners to balconies and so on.\n",
    "- From these features, we took the top 25 most common ones and tried to see which affected the price the most. This is due to the gradual decrease in less frequent features, more would be done if we found that the top 25 was found to be very significant."
   ]
  },
  {
   "cell_type": "markdown",
   "metadata": {},
   "source": [
    "Here is the list of these top 25 most common additional features in descending order of number of appearances"
   ]
  },
  {
   "cell_type": "markdown",
   "metadata": {},
   "source": [
    "- built in wardrobes         \n",
    "- heating                     \n",
    "- secure parking              \n",
    "- dishwasher                 \n",
    "- internal laundry            \n",
    "- air conditioning            \n",
    "- gas                         \n",
    "- balcony  deck               \n",
    "- no extra features listed    \n",
    "- bath                        \n",
    "- floorboards                 \n",
    "- intercom                    \n",
    "- fully fenced                \n",
    "- study                       \n",
    "- shed                        \n",
    "- close to shops               \n",
    "- ensuite                      \n",
    "- close to transport           \n",
    "- close to schools             \n",
    "- ducted heating             \n",
    "- furnished                   \n",
    "- split system heating         \n",
    "- remote garage               \n",
    "- pets allowed                 \n",
    "- garden  courtyard            "
   ]
  },
  {
   "cell_type": "markdown",
   "metadata": {},
   "source": [
    "### External Features"
   ]
  },
  {
   "cell_type": "markdown",
   "metadata": {},
   "source": [
    "As for external features, using the location data collected from ABS, vicgov and other third party sources like QGIS, we calculated the number of amenities within various proximities (2, 5, 10, 15) km to have a better understanding of which proximity would be more important. We calculated these counts for amenities we researched and also beleived were important when considering a rental property's value: Schools, recreational facilities, shopping centres, hospitals and train stations. As well as the distance to the CBD as many people travel there for work"
   ]
  },
  {
   "cell_type": "markdown",
   "metadata": {},
   "source": [
    "After calculations, we fitted a basic XGBOOST model, which tried to predict the price of a rental by combining the estimations of a set of weaker models (Amazon AWS). This allowed us to find the importance of features to the rental price."
   ]
  },
  {
   "cell_type": "code",
   "execution_count": 7,
   "metadata": {},
   "outputs": [
    {
     "data": {
      "text/html": [
       "<img src=\"../plots/feat_import_external.png\"/>"
      ],
      "text/plain": [
       "<IPython.core.display.Image object>"
      ]
     },
     "execution_count": 7,
     "metadata": {},
     "output_type": "execute_result"
    }
   ],
   "source": [
    "img = '../plots/feat_import_external.png'\n",
    "Image(url=img)"
   ]
  },
  {
   "cell_type": "markdown",
   "metadata": {},
   "source": [
    "- We can see that both internal and external features play a part in predicting the price of a rental property. \n",
    "- The most important internal being: the number of bathrooms, the number of bedrooms and whether or not the rental property is furnished. \n",
    "    -  Other additional features such as air-conditioning, dishwashers and heaters were not among the top 10 most important features contributing to the price prediction. It was thought that such features, would be much higher priority, especially for Victoria where it can be quite extreme in both hot and cold.\n",
    "- External features that matter the most for rental price are: number of shopping centre, schools and recreational centres within various proximity \n",
    "    - This is quite suprising as shopping centres and schools seem to be vastly more important than the distance to the CBD, which is unexpected due to the originally hypothesised importance for travelling distance for working purposes."
   ]
  },
  {
   "cell_type": "markdown",
   "metadata": {},
   "source": [
    "### Choice of Granularity"
   ]
  },
  {
   "cell_type": "markdown",
   "metadata": {},
   "source": [
    "We chose to use suburbs within postcodes over SA2 regions as they are more widely known and understood compared to SA2 which is a complex grouping based on multiple criteras. Suburbs are also significantly more likely to be listed on any rental property website."
   ]
  },
  {
   "cell_type": "markdown",
   "metadata": {},
   "source": [
    "### Analyzing the affordability and livability of suburbs"
   ]
  },
  {
   "cell_type": "markdown",
   "metadata": {},
   "source": [
    "Another component which we believed plays a huge role in determining whether a person wants to rent a property is how affordable it is.\n",
    "In order to quantify this we decided to follow a metric mentioned by the (ABS) of dividing rent by income. The threshold that they used for determining of a property was \"affordable\" was 30%."
   ]
  },
  {
   "cell_type": "markdown",
   "metadata": {},
   "source": [
    "It is noted that this metric has its limitations for higher income households as they are more capable of spending a larger percentage of their income on rent and still not be in financial stress\n"
   ]
  },
  {
   "cell_type": "code",
   "execution_count": 12,
   "metadata": {},
   "outputs": [
    {
     "data": {
      "text/html": [
       "<div>\n",
       "<style scoped>\n",
       "    .dataframe tbody tr th:only-of-type {\n",
       "        vertical-align: middle;\n",
       "    }\n",
       "\n",
       "    .dataframe tbody tr th {\n",
       "        vertical-align: top;\n",
       "    }\n",
       "\n",
       "    .dataframe thead th {\n",
       "        text-align: right;\n",
       "    }\n",
       "</style>\n",
       "<table border=\"1\" class=\"dataframe\">\n",
       "  <thead>\n",
       "    <tr style=\"text-align: right;\">\n",
       "      <th></th>\n",
       "      <th>Unnamed: 0</th>\n",
       "      <th>SAL_NAME21</th>\n",
       "      <th>POSTCODE</th>\n",
       "      <th>cost_text</th>\n",
       "      <th>no_prop_scraped</th>\n",
       "      <th>train_prox_2km</th>\n",
       "      <th>school_prox_2_min</th>\n",
       "      <th>recre_prox_2_min</th>\n",
       "      <th>shopping_prox_2_min</th>\n",
       "      <th>hosp_closest</th>\n",
       "      <th>median income</th>\n",
       "      <th>affordability</th>\n",
       "      <th>train_score</th>\n",
       "      <th>school_score</th>\n",
       "      <th>recre_score</th>\n",
       "      <th>hosp_score</th>\n",
       "      <th>afford_score</th>\n",
       "      <th>Total_Score</th>\n",
       "    </tr>\n",
       "  </thead>\n",
       "  <tbody>\n",
       "    <tr>\n",
       "      <th>102</th>\n",
       "      <td>413</td>\n",
       "      <td>Macleod (Vic.)</td>\n",
       "      <td>3085</td>\n",
       "      <td>225.0</td>\n",
       "      <td>41</td>\n",
       "      <td>0.0</td>\n",
       "      <td>0.0</td>\n",
       "      <td>0.0</td>\n",
       "      <td>7.0</td>\n",
       "      <td>5.250</td>\n",
       "      <td>54252</td>\n",
       "      <td>0.215660</td>\n",
       "      <td>1</td>\n",
       "      <td>1</td>\n",
       "      <td>1</td>\n",
       "      <td>5</td>\n",
       "      <td>5</td>\n",
       "      <td>13</td>\n",
       "    </tr>\n",
       "    <tr>\n",
       "      <th>63</th>\n",
       "      <td>144</td>\n",
       "      <td>Caulfield East</td>\n",
       "      <td>3145</td>\n",
       "      <td>305.0</td>\n",
       "      <td>16</td>\n",
       "      <td>1.0</td>\n",
       "      <td>0.0</td>\n",
       "      <td>4.0</td>\n",
       "      <td>7.0</td>\n",
       "      <td>3.160</td>\n",
       "      <td>56871</td>\n",
       "      <td>0.278877</td>\n",
       "      <td>1</td>\n",
       "      <td>1</td>\n",
       "      <td>2</td>\n",
       "      <td>5</td>\n",
       "      <td>5</td>\n",
       "      <td>14</td>\n",
       "    </tr>\n",
       "    <tr>\n",
       "      <th>61</th>\n",
       "      <td>267</td>\n",
       "      <td>Flora Hill</td>\n",
       "      <td>3550</td>\n",
       "      <td>260.0</td>\n",
       "      <td>14</td>\n",
       "      <td>1.0</td>\n",
       "      <td>1.0</td>\n",
       "      <td>1.0</td>\n",
       "      <td>7.0</td>\n",
       "      <td>3.935</td>\n",
       "      <td>45529</td>\n",
       "      <td>0.296954</td>\n",
       "      <td>1</td>\n",
       "      <td>2</td>\n",
       "      <td>1</td>\n",
       "      <td>5</td>\n",
       "      <td>5</td>\n",
       "      <td>14</td>\n",
       "    </tr>\n",
       "    <tr>\n",
       "      <th>81</th>\n",
       "      <td>606</td>\n",
       "      <td>South Kingsville</td>\n",
       "      <td>3015</td>\n",
       "      <td>385.0</td>\n",
       "      <td>9</td>\n",
       "      <td>0.0</td>\n",
       "      <td>0.0</td>\n",
       "      <td>2.0</td>\n",
       "      <td>7.0</td>\n",
       "      <td>6.380</td>\n",
       "      <td>67405</td>\n",
       "      <td>0.297011</td>\n",
       "      <td>1</td>\n",
       "      <td>1</td>\n",
       "      <td>1</td>\n",
       "      <td>5</td>\n",
       "      <td>5</td>\n",
       "      <td>13</td>\n",
       "    </tr>\n",
       "    <tr>\n",
       "      <th>93</th>\n",
       "      <td>486</td>\n",
       "      <td>Myrtleford</td>\n",
       "      <td>3737</td>\n",
       "      <td>250.0</td>\n",
       "      <td>17</td>\n",
       "      <td>0.0</td>\n",
       "      <td>1.0</td>\n",
       "      <td>5.0</td>\n",
       "      <td>7.0</td>\n",
       "      <td>31.240</td>\n",
       "      <td>41646</td>\n",
       "      <td>0.312155</td>\n",
       "      <td>1</td>\n",
       "      <td>2</td>\n",
       "      <td>2</td>\n",
       "      <td>4</td>\n",
       "      <td>4</td>\n",
       "      <td>13</td>\n",
       "    </tr>\n",
       "  </tbody>\n",
       "</table>\n",
       "</div>"
      ],
      "text/plain": [
       "     Unnamed: 0        SAL_NAME21  POSTCODE  cost_text  no_prop_scraped  \\\n",
       "102         413    Macleod (Vic.)      3085      225.0               41   \n",
       "63          144    Caulfield East      3145      305.0               16   \n",
       "61          267        Flora Hill      3550      260.0               14   \n",
       "81          606  South Kingsville      3015      385.0                9   \n",
       "93          486        Myrtleford      3737      250.0               17   \n",
       "\n",
       "     train_prox_2km  school_prox_2_min  recre_prox_2_min  shopping_prox_2_min  \\\n",
       "102             0.0                0.0               0.0                  7.0   \n",
       "63              1.0                0.0               4.0                  7.0   \n",
       "61              1.0                1.0               1.0                  7.0   \n",
       "81              0.0                0.0               2.0                  7.0   \n",
       "93              0.0                1.0               5.0                  7.0   \n",
       "\n",
       "     hosp_closest  median income  affordability  train_score  school_score  \\\n",
       "102         5.250          54252       0.215660            1             1   \n",
       "63          3.160          56871       0.278877            1             1   \n",
       "61          3.935          45529       0.296954            1             2   \n",
       "81          6.380          67405       0.297011            1             1   \n",
       "93         31.240          41646       0.312155            1             2   \n",
       "\n",
       "     recre_score  hosp_score  afford_score  Total_Score  \n",
       "102            1           5             5           13  \n",
       "63             2           5             5           14  \n",
       "61             1           5             5           14  \n",
       "81             1           5             5           13  \n",
       "93             2           4             4           13  "
      ]
     },
     "execution_count": 12,
     "metadata": {},
     "output_type": "execute_result"
    }
   ],
   "source": [
    "ranked_suburbs.sort_values('affordability').head(5)"
   ]
  },
  {
   "cell_type": "markdown",
   "metadata": {},
   "source": [
    "In media, we often hear about how Melbourne is the most liveable city, well, we wanted to take a look at how liveable the suburbs were, as this likely also pays a significant part in how people determine where to rent."
   ]
  },
  {
   "cell_type": "markdown",
   "metadata": {},
   "source": [
    "Our approach for this was to re-use those number of amenities within a proximity calculations and get the median for their suburbs. These amenities were decided after researching and finding that the main factors that contribute to liveability are: stability, healthscare, culture and environment, education and infrastructure (Economist Intelligist Unit). We believed that the amenities we have included reasonably cover these factor."
   ]
  },
  {
   "cell_type": "markdown",
   "metadata": {},
   "source": [
    "- After calculating median proximities and affordability we put them into a number of 1-5 based off how their number range compared to the rest of the suburbs in the state. \n",
    "- 1 being lowest and 5 being highest. \n",
    "- Then totalling this to a livability score out of 25:"
   ]
  },
  {
   "cell_type": "code",
   "execution_count": 25,
   "metadata": {},
   "outputs": [
    {
     "data": {
      "text/html": [
       "<div>\n",
       "<style scoped>\n",
       "    .dataframe tbody tr th:only-of-type {\n",
       "        vertical-align: middle;\n",
       "    }\n",
       "\n",
       "    .dataframe tbody tr th {\n",
       "        vertical-align: top;\n",
       "    }\n",
       "\n",
       "    .dataframe thead th {\n",
       "        text-align: right;\n",
       "    }\n",
       "</style>\n",
       "<table border=\"1\" class=\"dataframe\">\n",
       "  <thead>\n",
       "    <tr style=\"text-align: right;\">\n",
       "      <th></th>\n",
       "      <th>Unnamed: 0</th>\n",
       "      <th>SAL_NAME21</th>\n",
       "      <th>POSTCODE</th>\n",
       "      <th>cost_text</th>\n",
       "      <th>no_prop_scraped</th>\n",
       "      <th>train_prox_2km</th>\n",
       "      <th>school_prox_2_min</th>\n",
       "      <th>recre_prox_2_min</th>\n",
       "      <th>shopping_prox_2_min</th>\n",
       "      <th>hosp_closest</th>\n",
       "      <th>median income</th>\n",
       "      <th>affordability</th>\n",
       "      <th>train_score</th>\n",
       "      <th>school_score</th>\n",
       "      <th>recre_score</th>\n",
       "      <th>hosp_score</th>\n",
       "      <th>afford_score</th>\n",
       "      <th>Total_Score</th>\n",
       "    </tr>\n",
       "  </thead>\n",
       "  <tbody>\n",
       "    <tr>\n",
       "      <th>0</th>\n",
       "      <td>311</td>\n",
       "      <td>Hawthorn (Vic.)</td>\n",
       "      <td>3122</td>\n",
       "      <td>450.0</td>\n",
       "      <td>143</td>\n",
       "      <td>3.0</td>\n",
       "      <td>4.0</td>\n",
       "      <td>7.0</td>\n",
       "      <td>7.0</td>\n",
       "      <td>4.250</td>\n",
       "      <td>61024</td>\n",
       "      <td>0.383456</td>\n",
       "      <td>3</td>\n",
       "      <td>5</td>\n",
       "      <td>3</td>\n",
       "      <td>5</td>\n",
       "      <td>3</td>\n",
       "      <td>19</td>\n",
       "    </tr>\n",
       "    <tr>\n",
       "      <th>1</th>\n",
       "      <td>312</td>\n",
       "      <td>Hawthorn East</td>\n",
       "      <td>3123</td>\n",
       "      <td>490.0</td>\n",
       "      <td>91</td>\n",
       "      <td>3.0</td>\n",
       "      <td>3.0</td>\n",
       "      <td>9.0</td>\n",
       "      <td>7.0</td>\n",
       "      <td>5.420</td>\n",
       "      <td>61518</td>\n",
       "      <td>0.414188</td>\n",
       "      <td>3</td>\n",
       "      <td>4</td>\n",
       "      <td>4</td>\n",
       "      <td>5</td>\n",
       "      <td>3</td>\n",
       "      <td>19</td>\n",
       "    </tr>\n",
       "    <tr>\n",
       "      <th>2</th>\n",
       "      <td>286</td>\n",
       "      <td>Glen Iris (Vic.)</td>\n",
       "      <td>3123</td>\n",
       "      <td>430.0</td>\n",
       "      <td>81</td>\n",
       "      <td>2.0</td>\n",
       "      <td>4.0</td>\n",
       "      <td>6.0</td>\n",
       "      <td>7.0</td>\n",
       "      <td>4.830</td>\n",
       "      <td>61518</td>\n",
       "      <td>0.363471</td>\n",
       "      <td>2</td>\n",
       "      <td>5</td>\n",
       "      <td>3</td>\n",
       "      <td>5</td>\n",
       "      <td>3</td>\n",
       "      <td>18</td>\n",
       "    </tr>\n",
       "    <tr>\n",
       "      <th>3</th>\n",
       "      <td>264</td>\n",
       "      <td>Fitzroy North</td>\n",
       "      <td>3068</td>\n",
       "      <td>550.0</td>\n",
       "      <td>46</td>\n",
       "      <td>3.0</td>\n",
       "      <td>2.0</td>\n",
       "      <td>8.0</td>\n",
       "      <td>7.0</td>\n",
       "      <td>3.355</td>\n",
       "      <td>63406</td>\n",
       "      <td>0.451061</td>\n",
       "      <td>3</td>\n",
       "      <td>3</td>\n",
       "      <td>4</td>\n",
       "      <td>5</td>\n",
       "      <td>3</td>\n",
       "      <td>18</td>\n",
       "    </tr>\n",
       "    <tr>\n",
       "      <th>4</th>\n",
       "      <td>609</td>\n",
       "      <td>South Yarra</td>\n",
       "      <td>3141</td>\n",
       "      <td>530.0</td>\n",
       "      <td>211</td>\n",
       "      <td>3.0</td>\n",
       "      <td>2.0</td>\n",
       "      <td>8.0</td>\n",
       "      <td>7.0</td>\n",
       "      <td>3.340</td>\n",
       "      <td>65707</td>\n",
       "      <td>0.419438</td>\n",
       "      <td>3</td>\n",
       "      <td>3</td>\n",
       "      <td>4</td>\n",
       "      <td>5</td>\n",
       "      <td>3</td>\n",
       "      <td>18</td>\n",
       "    </tr>\n",
       "    <tr>\n",
       "      <th>9</th>\n",
       "      <td>36</td>\n",
       "      <td>Balaclava (Vic.)</td>\n",
       "      <td>3183</td>\n",
       "      <td>537.5</td>\n",
       "      <td>38</td>\n",
       "      <td>3.0</td>\n",
       "      <td>3.5</td>\n",
       "      <td>3.0</td>\n",
       "      <td>7.0</td>\n",
       "      <td>3.295</td>\n",
       "      <td>56561</td>\n",
       "      <td>0.494157</td>\n",
       "      <td>3</td>\n",
       "      <td>4</td>\n",
       "      <td>2</td>\n",
       "      <td>5</td>\n",
       "      <td>3</td>\n",
       "      <td>17</td>\n",
       "    </tr>\n",
       "    <tr>\n",
       "      <th>11</th>\n",
       "      <td>618</td>\n",
       "      <td>St Kilda East</td>\n",
       "      <td>3183</td>\n",
       "      <td>490.0</td>\n",
       "      <td>82</td>\n",
       "      <td>2.0</td>\n",
       "      <td>4.5</td>\n",
       "      <td>5.0</td>\n",
       "      <td>7.0</td>\n",
       "      <td>3.185</td>\n",
       "      <td>56561</td>\n",
       "      <td>0.450487</td>\n",
       "      <td>2</td>\n",
       "      <td>5</td>\n",
       "      <td>2</td>\n",
       "      <td>5</td>\n",
       "      <td>3</td>\n",
       "      <td>17</td>\n",
       "    </tr>\n",
       "    <tr>\n",
       "      <th>10</th>\n",
       "      <td>688</td>\n",
       "      <td>Watsonia</td>\n",
       "      <td>3088</td>\n",
       "      <td>475.0</td>\n",
       "      <td>9</td>\n",
       "      <td>1.0</td>\n",
       "      <td>2.0</td>\n",
       "      <td>11.0</td>\n",
       "      <td>7.0</td>\n",
       "      <td>7.630</td>\n",
       "      <td>54240</td>\n",
       "      <td>0.455383</td>\n",
       "      <td>1</td>\n",
       "      <td>3</td>\n",
       "      <td>5</td>\n",
       "      <td>5</td>\n",
       "      <td>3</td>\n",
       "      <td>17</td>\n",
       "    </tr>\n",
       "    <tr>\n",
       "      <th>8</th>\n",
       "      <td>41</td>\n",
       "      <td>Ballarat North</td>\n",
       "      <td>3350</td>\n",
       "      <td>300.0</td>\n",
       "      <td>6</td>\n",
       "      <td>0.0</td>\n",
       "      <td>1.5</td>\n",
       "      <td>12.5</td>\n",
       "      <td>7.0</td>\n",
       "      <td>17.295</td>\n",
       "      <td>47466</td>\n",
       "      <td>0.328656</td>\n",
       "      <td>1</td>\n",
       "      <td>2</td>\n",
       "      <td>5</td>\n",
       "      <td>5</td>\n",
       "      <td>4</td>\n",
       "      <td>17</td>\n",
       "    </tr>\n",
       "    <tr>\n",
       "      <th>7</th>\n",
       "      <td>663</td>\n",
       "      <td>Travancore</td>\n",
       "      <td>3032</td>\n",
       "      <td>405.0</td>\n",
       "      <td>6</td>\n",
       "      <td>3.0</td>\n",
       "      <td>3.0</td>\n",
       "      <td>3.0</td>\n",
       "      <td>7.0</td>\n",
       "      <td>2.295</td>\n",
       "      <td>54220</td>\n",
       "      <td>0.388418</td>\n",
       "      <td>3</td>\n",
       "      <td>4</td>\n",
       "      <td>2</td>\n",
       "      <td>5</td>\n",
       "      <td>3</td>\n",
       "      <td>17</td>\n",
       "    </tr>\n",
       "  </tbody>\n",
       "</table>\n",
       "</div>"
      ],
      "text/plain": [
       "    Unnamed: 0        SAL_NAME21  POSTCODE  cost_text  no_prop_scraped  \\\n",
       "0          311   Hawthorn (Vic.)      3122      450.0              143   \n",
       "1          312     Hawthorn East      3123      490.0               91   \n",
       "2          286  Glen Iris (Vic.)      3123      430.0               81   \n",
       "3          264     Fitzroy North      3068      550.0               46   \n",
       "4          609       South Yarra      3141      530.0              211   \n",
       "9           36  Balaclava (Vic.)      3183      537.5               38   \n",
       "11         618     St Kilda East      3183      490.0               82   \n",
       "10         688          Watsonia      3088      475.0                9   \n",
       "8           41    Ballarat North      3350      300.0                6   \n",
       "7          663        Travancore      3032      405.0                6   \n",
       "\n",
       "    train_prox_2km  school_prox_2_min  recre_prox_2_min  shopping_prox_2_min  \\\n",
       "0              3.0                4.0               7.0                  7.0   \n",
       "1              3.0                3.0               9.0                  7.0   \n",
       "2              2.0                4.0               6.0                  7.0   \n",
       "3              3.0                2.0               8.0                  7.0   \n",
       "4              3.0                2.0               8.0                  7.0   \n",
       "9              3.0                3.5               3.0                  7.0   \n",
       "11             2.0                4.5               5.0                  7.0   \n",
       "10             1.0                2.0              11.0                  7.0   \n",
       "8              0.0                1.5              12.5                  7.0   \n",
       "7              3.0                3.0               3.0                  7.0   \n",
       "\n",
       "    hosp_closest  median income  affordability  train_score  school_score  \\\n",
       "0          4.250          61024       0.383456            3             5   \n",
       "1          5.420          61518       0.414188            3             4   \n",
       "2          4.830          61518       0.363471            2             5   \n",
       "3          3.355          63406       0.451061            3             3   \n",
       "4          3.340          65707       0.419438            3             3   \n",
       "9          3.295          56561       0.494157            3             4   \n",
       "11         3.185          56561       0.450487            2             5   \n",
       "10         7.630          54240       0.455383            1             3   \n",
       "8         17.295          47466       0.328656            1             2   \n",
       "7          2.295          54220       0.388418            3             4   \n",
       "\n",
       "    recre_score  hosp_score  afford_score  Total_Score  \n",
       "0             3           5             3           19  \n",
       "1             4           5             3           19  \n",
       "2             3           5             3           18  \n",
       "3             4           5             3           18  \n",
       "4             4           5             3           18  \n",
       "9             2           5             3           17  \n",
       "11            2           5             3           17  \n",
       "10            5           5             3           17  \n",
       "8             5           5             4           17  \n",
       "7             2           5             3           17  "
      ]
     },
     "execution_count": 25,
     "metadata": {},
     "output_type": "execute_result"
    }
   ],
   "source": [
    "ranked_suburbs.sort_values('Total_Score',ascending = False).head(10)"
   ]
  },
  {
   "cell_type": "markdown",
   "metadata": {},
   "source": [
    "- A limitation to both livability and affordability is that as seen in the number of properties scraped for the suburbs (no_prop_scraped), there are not that many samples of properties for each suburb. \n",
    "- This could lead to inaccuracies and incorrect rankings, however, the alternative datasets available for rent by suburb had poor data quality and mismatching suburb names when compared to the shapefiles provided by the government and also had significantly less suburbs, hence why we still continued with the scraped data.\n",
    "- In the end top livability ranking suburb still had minimum around 50 samples "
   ]
  },
  {
   "cell_type": "markdown",
   "metadata": {},
   "source": [
    "# Finding the highest growth suburbs"
   ]
  },
  {
   "cell_type": "markdown",
   "metadata": {},
   "source": [
    "We also thought population would predict the highest growth suburbs and received these results by calculating the population increase ratio from 2010 to 2021"
   ]
  },
  {
   "cell_type": "markdown",
   "metadata": {},
   "source": [
    "- Moorabbin Airport\n",
    "- 'Essendon Airport'\n",
    "- 'Clyde North - South'\n",
    "- 'Clyde North \n",
    "- North' 'Wollert' \n",
    "- 'Craigieburn - North West'\n",
    "- 'Cobblebank - Strathtulloh' \n",
    "- 'Tarneit (West) - Mount Cottrell'\n",
    "- 'Tarneit - North' \n",
    "- 'Port Melbourne Industrial'"
   ]
  },
  {
   "cell_type": "markdown",
   "metadata": {},
   "source": [
    "### Assumptions, Limitations and Difficulties"
   ]
  },
  {
   "cell_type": "markdown",
   "metadata": {},
   "source": [
    "- Hard time finding income by suburbs so had to assume that income within postcodes was largley the same\n",
    "- Although on-premise ORS give unlimited calculations per day, we were still limited by the processing power of our computers\n",
    "- Datasets having the incorrect geolocations was quite common and even though we excluded ones we could find, there were possibly more, this affects proximity and hence other analysis\n",
    "- Assumed that majority of the data outside of these errors was trustable."
   ]
  }
 ],
 "metadata": {
  "kernelspec": {
   "display_name": "Python 3.8.10 64-bit",
   "language": "python",
   "name": "python3"
  },
  "language_info": {
   "codemirror_mode": {
    "name": "ipython",
    "version": 3
   },
   "file_extension": ".py",
   "mimetype": "text/x-python",
   "name": "python",
   "nbconvert_exporter": "python",
   "pygments_lexer": "ipython3",
   "version": "3.8.10"
  },
  "orig_nbformat": 4,
  "vscode": {
   "interpreter": {
    "hash": "916dbcbb3f70747c44a77c7bcd40155683ae19c65e1c03b4aa3499c5328201f1"
   }
  }
 },
 "nbformat": 4,
 "nbformat_minor": 2
}
