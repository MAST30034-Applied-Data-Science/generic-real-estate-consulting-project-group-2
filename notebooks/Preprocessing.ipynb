{
 "cells": [
  {
   "cell_type": "code",
   "execution_count": 1,
   "id": "d4aae36b",
   "metadata": {},
   "outputs": [
    {
     "name": "stdout",
     "output_type": "stream",
     "text": [
      "22/10/10 01:53:58 WARN Utils: Your hostname, LAPTOP-RUK4TAOJ resolves to a loopback address: 127.0.1.1; using 172.25.209.181 instead (on interface eth0)\n",
      "22/10/10 01:53:58 WARN Utils: Set SPARK_LOCAL_IP if you need to bind to another address\n"
     ]
    },
    {
     "name": "stderr",
     "output_type": "stream",
     "text": [
      "Setting default log level to \"WARN\".\n",
      "To adjust logging level use sc.setLogLevel(newLevel). For SparkR, use setLogLevel(newLevel).\n"
     ]
    },
    {
     "name": "stdout",
     "output_type": "stream",
     "text": [
      "22/10/10 01:54:00 WARN NativeCodeLoader: Unable to load native-hadoop library for your platform... using builtin-java classes where applicable\n"
     ]
    }
   ],
   "source": [
    "from pyspark.sql import SparkSession\n",
    "\n",
    "# Creating a spark session \n",
    "spark = (\n",
    "    SparkSession.builder.appName(\"PreProcessing\")\n",
    "    .config(\"spark.sql.repl.eagerEval.enabled\", True) \n",
    "    .config(\"spark.sql.parquet.cacheMetadata\", \"true\")\n",
    "    .config(\"spark.sql.session.timeZone\", \"Etc/UTC\")\n",
    "    .getOrCreate()\n",
    ")\n",
    "\n",
    "from pyspark.sql import functions as F"
   ]
  },
  {
   "cell_type": "code",
   "execution_count": 3,
   "id": "633269f1",
   "metadata": {},
   "outputs": [
    {
     "data": {
      "text/html": [
       "<table border='1'>\n",
       "<tr><th>X</th><th>Y</th><th>School_Name</th></tr>\n",
       "<tr><td>146.666601</td><td>-38.617713</td><td>Alberton Primary ...</td></tr>\n",
       "<tr><td>142.590393</td><td>-38.386281</td><td>Allansford and Di...</td></tr>\n",
       "<tr><td>143.475649</td><td>-37.084502</td><td>Avoca Primary School</td></tr>\n",
       "<tr><td>145.234722</td><td>-36.901368</td><td>Avenel Primary Sc...</td></tr>\n",
       "<tr><td>145.21398</td><td>-37.742675</td><td>Warrandyte Primar...</td></tr>\n",
       "<tr><td>144.342099</td><td>-38.170672</td><td>Belmont Primary S...</td></tr>\n",
       "<tr><td>144.4431207</td><td>-37.67302961</td><td>Bacchus Marsh Pri...</td></tr>\n",
       "<tr><td>143.853936</td><td>-37.56401278</td><td>Ballarat Primary ...</td></tr>\n",
       "<tr><td>146.88982</td><td>-36.129214</td><td>Wodonga Primary S...</td></tr>\n",
       "<tr><td>145.354417</td><td>-38.044094</td><td>Berwick Primary S...</td></tr>\n",
       "<tr><td>143.3817175</td><td>-37.43852098</td><td>Beaufort Primary ...</td></tr>\n",
       "<tr><td>145.054635</td><td>-37.968608</td><td>Cheltenham Primar...</td></tr>\n",
       "<tr><td>142.650844</td><td>-38.347938</td><td>Cudgee Primary Sc...</td></tr>\n",
       "<tr><td>144.878345</td><td>-37.838424</td><td>Newport Lakes Pri...</td></tr>\n",
       "<tr><td>142.039893</td><td>-37.53087</td><td>Cavendish Primary...</td></tr>\n",
       "<tr><td>143.598336</td><td>-38.337224</td><td>Colac Primary School</td></tr>\n",
       "<tr><td>144.222329</td><td>-37.066595</td><td>Castlemaine Prima...</td></tr>\n",
       "<tr><td>144.204662</td><td>-37.092935</td><td>Campbells Creek P...</td></tr>\n",
       "<tr><td>143.8915581</td><td>-37.42411355</td><td>Creswick Primary ...</td></tr>\n",
       "<tr><td>144.249857</td><td>-36.733207</td><td>California Gully ...</td></tr>\n",
       "</table>\n",
       "only showing top 20 rows\n"
      ],
      "text/plain": [
       "+-----------+------------+--------------------+\n",
       "|          X|           Y|         School_Name|\n",
       "+-----------+------------+--------------------+\n",
       "| 146.666601|  -38.617713|Alberton Primary ...|\n",
       "| 142.590393|  -38.386281|Allansford and Di...|\n",
       "| 143.475649|  -37.084502|Avoca Primary School|\n",
       "| 145.234722|  -36.901368|Avenel Primary Sc...|\n",
       "|  145.21398|  -37.742675|Warrandyte Primar...|\n",
       "| 144.342099|  -38.170672|Belmont Primary S...|\n",
       "|144.4431207|-37.67302961|Bacchus Marsh Pri...|\n",
       "| 143.853936|-37.56401278|Ballarat Primary ...|\n",
       "|  146.88982|  -36.129214|Wodonga Primary S...|\n",
       "| 145.354417|  -38.044094|Berwick Primary S...|\n",
       "|143.3817175|-37.43852098|Beaufort Primary ...|\n",
       "| 145.054635|  -37.968608|Cheltenham Primar...|\n",
       "| 142.650844|  -38.347938|Cudgee Primary Sc...|\n",
       "| 144.878345|  -37.838424|Newport Lakes Pri...|\n",
       "| 142.039893|   -37.53087|Cavendish Primary...|\n",
       "| 143.598336|  -38.337224|Colac Primary School|\n",
       "| 144.222329|  -37.066595|Castlemaine Prima...|\n",
       "| 144.204662|  -37.092935|Campbells Creek P...|\n",
       "|143.8915581|-37.42411355|Creswick Primary ...|\n",
       "| 144.249857|  -36.733207|California Gully ...|\n",
       "+-----------+------------+--------------------+\n",
       "only showing top 20 rows"
      ]
     },
     "execution_count": 3,
     "metadata": {},
     "output_type": "execute_result"
    }
   ],
   "source": [
    "# School location dataset \n",
    "school_df = spark.read.option(\"header\", \"true\").csv('../data/raw/school.csv')\n",
    "school_df\n",
    "df = school_df.where((F.col('Address_State') == \"VIC\"))\n",
    "df = df.select('X', 'Y','School_Name',)\n",
    "df"
   ]
  },
  {
   "cell_type": "code",
   "execution_count": 4,
   "id": "ea12189d",
   "metadata": {},
   "outputs": [
    {
     "data": {
      "text/html": [
       "<table border='1'>\n",
       "<tr><th>OBS_VALUE</th><th>TIME_PERIOD: Time Period</th></tr>\n",
       "<tr><td>1296.1</td><td>2020-Q2</td></tr>\n",
       "<tr><td>1283.4</td><td>2020-Q4</td></tr>\n",
       "<tr><td>1260.9</td><td>2021-Q2</td></tr>\n",
       "<tr><td>1294.7</td><td>2021-Q4</td></tr>\n",
       "<tr><td>1295.1</td><td>2022-Q2</td></tr>\n",
       "<tr><td>1296.1</td><td>2020-Q2</td></tr>\n",
       "<tr><td>1283.4</td><td>2020-Q4</td></tr>\n",
       "<tr><td>1260.9</td><td>2021-Q2</td></tr>\n",
       "<tr><td>1294.7</td><td>2021-Q4</td></tr>\n",
       "<tr><td>1295.1</td><td>2022-Q2</td></tr>\n",
       "</table>\n"
      ],
      "text/plain": [
       "+---------+------------------------+\n",
       "|OBS_VALUE|TIME_PERIOD: Time Period|\n",
       "+---------+------------------------+\n",
       "|   1296.1|                 2020-Q2|\n",
       "|   1283.4|                 2020-Q4|\n",
       "|   1260.9|                 2021-Q2|\n",
       "|   1294.7|                 2021-Q4|\n",
       "|   1295.1|                 2022-Q2|\n",
       "|   1296.1|                 2020-Q2|\n",
       "|   1283.4|                 2020-Q4|\n",
       "|   1260.9|                 2021-Q2|\n",
       "|   1294.7|                 2021-Q4|\n",
       "|   1295.1|                 2022-Q2|\n",
       "+---------+------------------------+"
      ]
     },
     "execution_count": 4,
     "metadata": {},
     "output_type": "execute_result"
    }
   ],
   "source": [
    "# The income of Victoria OBS value for each quarter of time period\n",
    "income_df = spark.read.option(\"header\", \"true\").csv('../data/raw/income.csv')\n",
    "df = income_df.where((F.col('REGION: Region')[0:1] == \"2\"))\n",
    "df = df.select('OBS_VALUE', 'TIME_PERIOD: Time Period')\n",
    "df"
   ]
  },
  {
   "cell_type": "code",
   "execution_count": 7,
   "id": "e43ceb37",
   "metadata": {},
   "outputs": [
    {
     "data": {
      "text/html": [
       "<table border='1'>\n",
       "<tr><th>OBS_VALUE</th><th>TIME_PERIOD: Time Period</th></tr>\n",
       "<tr><td>6530852</td><td>2019-Q2</td></tr>\n",
       "<tr><td>6561572</td><td>2019-Q3</td></tr>\n",
       "<tr><td>6583405</td><td>2019-Q4</td></tr>\n",
       "<tr><td>6609129</td><td>2020-Q1</td></tr>\n",
       "<tr><td>6606149</td><td>2020-Q2</td></tr>\n",
       "<tr><td>6584353</td><td>2020-Q3</td></tr>\n",
       "<tr><td>6563465</td><td>2020-Q4</td></tr>\n",
       "<tr><td>6551771</td><td>2021-Q1</td></tr>\n",
       "<tr><td>6548040</td><td>2021-Q2</td></tr>\n",
       "<tr><td>6546470</td><td>2021-Q3</td></tr>\n",
       "<tr><td>6559941</td><td>2021-Q4</td></tr>\n",
       "</table>\n"
      ],
      "text/plain": [
       "+---------+------------------------+\n",
       "|OBS_VALUE|TIME_PERIOD: Time Period|\n",
       "+---------+------------------------+\n",
       "|  6530852|                 2019-Q2|\n",
       "|  6561572|                 2019-Q3|\n",
       "|  6583405|                 2019-Q4|\n",
       "|  6609129|                 2020-Q1|\n",
       "|  6606149|                 2020-Q2|\n",
       "|  6584353|                 2020-Q3|\n",
       "|  6563465|                 2020-Q4|\n",
       "|  6551771|                 2021-Q1|\n",
       "|  6548040|                 2021-Q2|\n",
       "|  6546470|                 2021-Q3|\n",
       "|  6559941|                 2021-Q4|\n",
       "+---------+------------------------+"
      ]
     },
     "execution_count": 7,
     "metadata": {},
     "output_type": "execute_result"
    }
   ],
   "source": [
    "# Population of Victoria OBS value for each quarter of time period\n",
    "population_df = spark.read.option(\"header\", \"true\").csv('../data/raw/population.csv')\n",
    "df = population_df.where((F.col('REGION: Region')[0:1] == \"2\"))\n",
    "df = df.select('OBS_VALUE', 'TIME_PERIOD: Time Period')\n",
    "df"
   ]
  },
  {
   "cell_type": "code",
   "execution_count": 5,
   "id": "5ef7f127",
   "metadata": {},
   "outputs": [
    {
     "data": {
      "text/html": [
       "<table border='1'>\n",
       "<tr><th>HIND: Total household income (weekly)</th><th>TIME_PERIOD: Time Period</th><th>OBS_VALUE</th></tr>\n",
       "<tr><td>17: $4,000 or more</td><td>2021</td><td>93846</td></tr>\n",
       "<tr><td>6: $500-$649</td><td>2021</td><td>259347</td></tr>\n",
       "<tr><td>15: $3,000-$3,499</td><td>2021</td><td>582333</td></tr>\n",
       "<tr><td>1: Negative/Nil i...</td><td>2021</td><td>71343</td></tr>\n",
       "<tr><td>12: $1,750-$1,999</td><td>2021</td><td>374670</td></tr>\n",
       "<tr><td>4: $300-$399</td><td>2021</td><td>202363</td></tr>\n",
       "<tr><td>7: $650-$799</td><td>2021</td><td>535302</td></tr>\n",
       "<tr><td>3: $150-$299</td><td>2021</td><td>82521</td></tr>\n",
       "<tr><td>17: $4,000 or more</td><td>2021</td><td>1058778</td></tr>\n",
       "<tr><td>1: Negative/Nil i...</td><td>2021</td><td>95101</td></tr>\n",
       "<tr><td>15: $3,000-$3,499</td><td>2021</td><td>523915</td></tr>\n",
       "<tr><td>10: $1,250-$1,499</td><td>2021</td><td>656141</td></tr>\n",
       "<tr><td>12: $1,750-$1,999</td><td>2021</td><td>505348</td></tr>\n",
       "<tr><td>_N: All incomes n...</td><td>2021</td><td>86874</td></tr>\n",
       "<tr><td>4: $300-$399</td><td>2021</td><td>168747</td></tr>\n",
       "<tr><td>13: $2,000-$2,499</td><td>2021</td><td>1043721</td></tr>\n",
       "<tr><td>_T: Total</td><td>2021</td><td>2732570</td></tr>\n",
       "<tr><td>17: $4,000 or more</td><td>2021</td><td>1152627</td></tr>\n",
       "<tr><td>6: $500-$649</td><td>2021</td><td>118319</td></tr>\n",
       "<tr><td>7: $650-$799</td><td>2021</td><td>358514</td></tr>\n",
       "</table>\n",
       "only showing top 20 rows\n"
      ],
      "text/plain": [
       "+-------------------------------------+------------------------+---------+\n",
       "|HIND: Total household income (weekly)|TIME_PERIOD: Time Period|OBS_VALUE|\n",
       "+-------------------------------------+------------------------+---------+\n",
       "|                   17: $4,000 or more|                    2021|    93846|\n",
       "|                         6: $500-$649|                    2021|   259347|\n",
       "|                    15: $3,000-$3,499|                    2021|   582333|\n",
       "|                 1: Negative/Nil i...|                    2021|    71343|\n",
       "|                    12: $1,750-$1,999|                    2021|   374670|\n",
       "|                         4: $300-$399|                    2021|   202363|\n",
       "|                         7: $650-$799|                    2021|   535302|\n",
       "|                         3: $150-$299|                    2021|    82521|\n",
       "|                   17: $4,000 or more|                    2021|  1058778|\n",
       "|                 1: Negative/Nil i...|                    2021|    95101|\n",
       "|                    15: $3,000-$3,499|                    2021|   523915|\n",
       "|                    10: $1,250-$1,499|                    2021|   656141|\n",
       "|                    12: $1,750-$1,999|                    2021|   505348|\n",
       "|                 _N: All incomes n...|                    2021|    86874|\n",
       "|                         4: $300-$399|                    2021|   168747|\n",
       "|                    13: $2,000-$2,499|                    2021|  1043721|\n",
       "|                            _T: Total|                    2021|  2732570|\n",
       "|                   17: $4,000 or more|                    2021|  1152627|\n",
       "|                         6: $500-$649|                    2021|   118319|\n",
       "|                         7: $650-$799|                    2021|   358514|\n",
       "+-------------------------------------+------------------------+---------+\n",
       "only showing top 20 rows"
      ]
     },
     "execution_count": 5,
     "metadata": {},
     "output_type": "execute_result"
    }
   ],
   "source": [
    "# The household income of Victoria OBS value for each quarter of time period\n",
    "household_df = spark.read.option(\"header\", \"true\").csv('../data/raw/household.csv')\n",
    "df = household_df.select('HIND: Total household income (weekly)', 'TIME_PERIOD: Time Period', 'OBS_VALUE')\n",
    "df"
   ]
  }
 ],
 "metadata": {
  "kernelspec": {
   "display_name": "Python 3 (ipykernel)",
   "language": "python",
   "name": "python3"
  },
  "language_info": {
   "codemirror_mode": {
    "name": "ipython",
    "version": 3
   },
   "file_extension": ".py",
   "mimetype": "text/x-python",
   "name": "python",
   "nbconvert_exporter": "python",
   "pygments_lexer": "ipython3",
   "version": "3.8.10"
  }
 },
 "nbformat": 4,
 "nbformat_minor": 5
}
