{
 "cells": [
  {
   "cell_type": "code",
   "execution_count": 3,
   "id": "d4aae36b",
   "metadata": {},
   "outputs": [
    {
     "name": "stdout",
     "output_type": "stream",
     "text": [
      "22/09/20 18:01:54 WARN Utils: Your hostname, LAPTOP-RUK4TAOJ resolves to a loopback address: 127.0.1.1; using 172.17.39.25 instead (on interface eth0)\n",
      "22/09/20 18:01:54 WARN Utils: Set SPARK_LOCAL_IP if you need to bind to another address\n"
     ]
    },
    {
     "name": "stderr",
     "output_type": "stream",
     "text": [
      "Setting default log level to \"WARN\".\n",
      "To adjust logging level use sc.setLogLevel(newLevel). For SparkR, use setLogLevel(newLevel).\n"
     ]
    },
    {
     "name": "stdout",
     "output_type": "stream",
     "text": [
      "22/09/20 18:01:56 WARN NativeCodeLoader: Unable to load native-hadoop library for your platform... using builtin-java classes where applicable\n"
     ]
    }
   ],
   "source": [
    "from pyspark.sql import SparkSession\n",
    "\n",
    "# Creating a spark session \n",
    "spark = (\n",
    "    SparkSession.builder.appName(\"MAST30034 Project 1\")\n",
    "    .config(\"spark.sql.repl.eagerEval.enabled\", True) \n",
    "    .config(\"spark.sql.parquet.cacheMetadata\", \"true\")\n",
    "    .config(\"spark.sql.session.timeZone\", \"Etc/UTC\")\n",
    "    .getOrCreate()\n",
    ")\n",
    "\n",
    "from pyspark.sql import functions as F"
   ]
  },
  {
   "cell_type": "code",
   "execution_count": 7,
   "id": "633269f1",
   "metadata": {},
   "outputs": [
    {
     "data": {
      "text/html": [
       "<table border='1'>\n",
       "<tr><th>Education_Sector</th><th>Entity_Type</th><th>SCHOOL_NO</th><th>School_Name</th><th>School_Type</th><th>School_Status</th><th>Address_Line_1</th><th>Address_Line_2</th><th>Address_Town</th><th>Address_State</th><th>Address_Postcode</th><th>Postal_Address_Line_1</th><th>Postal_Address_Line_2</th><th>Postal_Town</th><th>Postal_State</th><th>Postal_Postcode</th><th>Full_Phone_No</th><th>LGA_ID</th><th>LGA_Name</th><th>X</th><th>Y</th></tr>\n",
       "<tr><td>Government</td><td>1</td><td>1</td><td>Alberton Primary ...</td><td>Primary</td><td>O</td><td>21 Thomson Street</td><td>null</td><td>Alberton</td><td>VIC</td><td>3971</td><td>21 Thomson Street</td><td>null</td><td>ALBERTON</td><td>VIC</td><td>3971</td><td>03 5183 2412</td><td>681</td><td>Wellington (S)</td><td>146.666601</td><td>-38.617713</td></tr>\n",
       "<tr><td>Government</td><td>1</td><td>3</td><td>Allansford and Di...</td><td>Primary</td><td>O</td><td>Frank Street</td><td>null</td><td>Allansford</td><td>VIC</td><td>3277</td><td>Frank Street</td><td>null</td><td>ALLANSFORD</td><td>VIC</td><td>3277</td><td>03 5565 1382</td><td>673</td><td>Warrnambool (C)</td><td>142.590393</td><td>-38.386281</td></tr>\n",
       "<tr><td>Government</td><td>1</td><td>4</td><td>Avoca Primary School</td><td>Primary</td><td>O</td><td>118 Barnett Street</td><td>null</td><td>Avoca</td><td>VIC</td><td>3467</td><td>P O Box 12</td><td>null</td><td>AVOCA</td><td>VIC</td><td>3467</td><td>03 5465 3176</td><td>599</td><td>Pyrenees (S)</td><td>143.475649</td><td>-37.084502</td></tr>\n",
       "<tr><td>Government</td><td>1</td><td>8</td><td>Avenel Primary Sc...</td><td>Primary</td><td>O</td><td>40 Anderson Street</td><td>null</td><td>Avenel</td><td>VIC</td><td>3664</td><td>40 Anderson Street</td><td>null</td><td>AVENEL</td><td>VIC</td><td>3664</td><td>03 5796 2264</td><td>643</td><td>Strathbogie (S)</td><td>145.234722</td><td>-36.901368</td></tr>\n",
       "<tr><td>Government</td><td>1</td><td>12</td><td>Warrandyte Primar...</td><td>Primary</td><td>O</td><td>5-11 Forbes Street</td><td>null</td><td>Warrandyte</td><td>VIC</td><td>3113</td><td>5-11 Forbes Street</td><td>null</td><td>WARRANDYTE</td><td>VIC</td><td>3113</td><td>03 9844 3537</td><td>421</td><td>Manningham (C)</td><td>145.21398</td><td>-37.742675</td></tr>\n",
       "<tr><td>Government</td><td>1</td><td>26</td><td>Belmont Primary S...</td><td>Primary</td><td>O</td><td>51 Mt Pleasant Road</td><td>null</td><td>Belmont</td><td>VIC</td><td>3216</td><td>P O Box 471</td><td>null</td><td>BELMONT</td><td>VIC</td><td>3216</td><td>03 5243 2972</td><td>275</td><td>Greater Geelong (C)</td><td>144.342099</td><td>-38.170672</td></tr>\n",
       "<tr><td>Government</td><td>1</td><td>28</td><td>Bacchus Marsh Pri...</td><td>Primary</td><td>O</td><td>56-62 Lerderderg ...</td><td>null</td><td>Bacchus Marsh</td><td>VIC</td><td>3340</td><td>P O Box 334</td><td>null</td><td>Bacchus Marsh</td><td>VIC</td><td>3340</td><td>03 5367 2745</td><td>515</td><td>Moorabool (S)</td><td>144.4431207</td><td>-37.67302961</td></tr>\n",
       "<tr><td>Government</td><td>1</td><td>33</td><td>Ballarat Primary ...</td><td>Primary</td><td>O</td><td>401 Dana Street</td><td>null</td><td>Ballarat</td><td>VIC</td><td>3350</td><td>401 Dana Street</td><td>null</td><td>BALLARAT</td><td>VIC</td><td>3350</td><td>03 5332 1301</td><td>57</td><td>Ballarat (C)</td><td>143.853936</td><td>-37.56401278</td></tr>\n",
       "<tr><td>Government</td><td>1</td><td>37</td><td>Wodonga Primary S...</td><td>Primary</td><td>O</td><td>Brockley Street</td><td>null</td><td>Wodonga</td><td>VIC</td><td>3690</td><td>PO Box 329</td><td>null</td><td>WODONGA</td><td>VIC</td><td>3689</td><td>02 6048 0300</td><td>717</td><td>Wodonga (C)</td><td>146.88982</td><td>-36.129214</td></tr>\n",
       "<tr><td>Government</td><td>1</td><td>40</td><td>Berwick Primary S...</td><td>Primary</td><td>O</td><td>37 Fairholme Boul...</td><td>null</td><td>Berwick</td><td>VIC</td><td>3806</td><td>37 Fairholme Boul...</td><td>null</td><td>Berwick</td><td>VIC</td><td>3806</td><td>03 9707 1026</td><td>161</td><td>Casey (C)</td><td>145.354417</td><td>-38.044094</td></tr>\n",
       "<tr><td>Government</td><td>1</td><td>60</td><td>Beaufort Primary ...</td><td>Primary</td><td>O</td><td>2/37 Park Road</td><td>null</td><td>Beaufort</td><td>VIC</td><td>3373</td><td>P O Box 18</td><td>null</td><td>BEAUFORT</td><td>VIC</td><td>3373</td><td>03 5349 2490</td><td>599</td><td>Pyrenees (S)</td><td>143.3817175</td><td>-37.43852098</td></tr>\n",
       "<tr><td>Government</td><td>1</td><td>84</td><td>Cheltenham Primar...</td><td>Primary</td><td>O</td><td>231 Charman Road</td><td>null</td><td>Cheltenham</td><td>VIC</td><td>3192</td><td>231 Charman Road</td><td>null</td><td>CHELTENHAM</td><td>VIC</td><td>3192</td><td>03 8585 3200</td><td>91</td><td>Bayside (C)</td><td>145.054635</td><td>-37.968608</td></tr>\n",
       "<tr><td>Government</td><td>1</td><td>105</td><td>Cudgee Primary Sc...</td><td>Primary</td><td>O</td><td>3 Hallowells Road</td><td>null</td><td>Cudgee</td><td>VIC</td><td>3265</td><td>3 Hallowells Road</td><td>null</td><td>CUDGEE</td><td>VIC</td><td>3265</td><td>03 5567 6346</td><td>549</td><td>Moyne (S)</td><td>142.650844</td><td>-38.347938</td></tr>\n",
       "<tr><td>Government</td><td>1</td><td>113</td><td>Newport Lakes Pri...</td><td>Primary</td><td>O</td><td>Elizabeth Street</td><td>null</td><td>Newport</td><td>VIC</td><td>3015</td><td>Elizabeth Street</td><td>null</td><td>NEWPORT</td><td>VIC</td><td>3015</td><td>03 9391 8942</td><td>311</td><td>Hobsons Bay (C)</td><td>144.878345</td><td>-37.838424</td></tr>\n",
       "<tr><td>Government</td><td>1</td><td>116</td><td>Cavendish Primary...</td><td>Primary</td><td>O</td><td>8-10 Barker Street</td><td>null</td><td>Cavendish</td><td>VIC</td><td>3314</td><td>P O Box 28</td><td>null</td><td>CAVENDISH</td><td>VIC</td><td>3314</td><td>03 5574 2282</td><td>626</td><td>Southern Grampian...</td><td>142.039893</td><td>-37.53087</td></tr>\n",
       "<tr><td>Government</td><td>1</td><td>117</td><td>Colac Primary School</td><td>Primary</td><td>O</td><td>53-65 Murray Stre...</td><td>null</td><td>Colac</td><td>VIC</td><td>3250</td><td>P O Box 325</td><td>null</td><td>COLAC</td><td>VIC</td><td>3250</td><td>03 5231 2560</td><td>175</td><td>Colac-Otway (S)</td><td>143.598336</td><td>-38.337224</td></tr>\n",
       "<tr><td>Government</td><td>1</td><td>119</td><td>Castlemaine Prima...</td><td>Primary</td><td>O</td><td>Cnr Mostyn &amp; Urqu...</td><td>null</td><td>Castlemaine</td><td>VIC</td><td>3450</td><td>P O Box 448</td><td>null</td><td>CASTLEMAINE</td><td>VIC</td><td>3450</td><td>03 5472 1452</td><td>543</td><td>Mount Alexander (S)</td><td>144.222329</td><td>-37.066595</td></tr>\n",
       "<tr><td>Government</td><td>1</td><td>120</td><td>Campbells Creek P...</td><td>Primary</td><td>O</td><td>Main Road</td><td>null</td><td>Campbells Creek</td><td>VIC</td><td>3451</td><td>Main Road</td><td>null</td><td>CAMPBELLS CREEK</td><td>VIC</td><td>3451</td><td>03 5472 2180</td><td>543</td><td>Mount Alexander (S)</td><td>144.204662</td><td>-37.092935</td></tr>\n",
       "<tr><td>Government</td><td>1</td><td>122</td><td>Creswick Primary ...</td><td>Primary</td><td>O</td><td>67 Napier Street</td><td>null</td><td>Creswick</td><td>VIC</td><td>3363</td><td>P O Box 67</td><td>null</td><td>CRESWICK</td><td>VIC</td><td>3363</td><td>03 5345 2044</td><td>291</td><td>Hepburn (S)</td><td>143.8915581</td><td>-37.42411355</td></tr>\n",
       "<tr><td>Government</td><td>1</td><td>123</td><td>California Gully ...</td><td>Primary</td><td>O</td><td>4-14 Staley Street</td><td>null</td><td>California Gully</td><td>VIC</td><td>3556</td><td>P O Box 88</td><td>null</td><td>CALIFORNIA GULLY</td><td>VIC</td><td>3556</td><td>03 5446 8393</td><td>262</td><td>Greater Bendigo (C)</td><td>144.249857</td><td>-36.733207</td></tr>\n",
       "</table>\n",
       "only showing top 20 rows\n"
      ],
      "text/plain": [
       "+----------------+-----------+---------+--------------------+-----------+-------------+--------------------+--------------+----------------+-------------+----------------+---------------------+---------------------+----------------+------------+---------------+-------------+------+--------------------+-----------+------------+\n",
       "|Education_Sector|Entity_Type|SCHOOL_NO|         School_Name|School_Type|School_Status|      Address_Line_1|Address_Line_2|    Address_Town|Address_State|Address_Postcode|Postal_Address_Line_1|Postal_Address_Line_2|     Postal_Town|Postal_State|Postal_Postcode|Full_Phone_No|LGA_ID|            LGA_Name|          X|           Y|\n",
       "+----------------+-----------+---------+--------------------+-----------+-------------+--------------------+--------------+----------------+-------------+----------------+---------------------+---------------------+----------------+------------+---------------+-------------+------+--------------------+-----------+------------+\n",
       "|      Government|          1|        1|Alberton Primary ...|    Primary|            O|   21 Thomson Street|          null|        Alberton|          VIC|            3971|    21 Thomson Street|                 null|        ALBERTON|         VIC|           3971| 03 5183 2412|   681|      Wellington (S)| 146.666601|  -38.617713|\n",
       "|      Government|          1|        3|Allansford and Di...|    Primary|            O|        Frank Street|          null|      Allansford|          VIC|            3277|         Frank Street|                 null|      ALLANSFORD|         VIC|           3277| 03 5565 1382|   673|     Warrnambool (C)| 142.590393|  -38.386281|\n",
       "|      Government|          1|        4|Avoca Primary School|    Primary|            O|  118 Barnett Street|          null|           Avoca|          VIC|            3467|           P O Box 12|                 null|           AVOCA|         VIC|           3467| 03 5465 3176|   599|        Pyrenees (S)| 143.475649|  -37.084502|\n",
       "|      Government|          1|        8|Avenel Primary Sc...|    Primary|            O|  40 Anderson Street|          null|          Avenel|          VIC|            3664|   40 Anderson Street|                 null|          AVENEL|         VIC|           3664| 03 5796 2264|   643|     Strathbogie (S)| 145.234722|  -36.901368|\n",
       "|      Government|          1|       12|Warrandyte Primar...|    Primary|            O|  5-11 Forbes Street|          null|      Warrandyte|          VIC|            3113|   5-11 Forbes Street|                 null|      WARRANDYTE|         VIC|           3113| 03 9844 3537|   421|      Manningham (C)|  145.21398|  -37.742675|\n",
       "|      Government|          1|       26|Belmont Primary S...|    Primary|            O| 51 Mt Pleasant Road|          null|         Belmont|          VIC|            3216|          P O Box 471|                 null|         BELMONT|         VIC|           3216| 03 5243 2972|   275| Greater Geelong (C)| 144.342099|  -38.170672|\n",
       "|      Government|          1|       28|Bacchus Marsh Pri...|    Primary|            O|56-62 Lerderderg ...|          null|   Bacchus Marsh|          VIC|            3340|          P O Box 334|                 null|   Bacchus Marsh|         VIC|           3340| 03 5367 2745|   515|       Moorabool (S)|144.4431207|-37.67302961|\n",
       "|      Government|          1|       33|Ballarat Primary ...|    Primary|            O|     401 Dana Street|          null|        Ballarat|          VIC|            3350|      401 Dana Street|                 null|        BALLARAT|         VIC|           3350| 03 5332 1301|    57|        Ballarat (C)| 143.853936|-37.56401278|\n",
       "|      Government|          1|       37|Wodonga Primary S...|    Primary|            O|     Brockley Street|          null|         Wodonga|          VIC|            3690|           PO Box 329|                 null|         WODONGA|         VIC|           3689| 02 6048 0300|   717|         Wodonga (C)|  146.88982|  -36.129214|\n",
       "|      Government|          1|       40|Berwick Primary S...|    Primary|            O|37 Fairholme Boul...|          null|         Berwick|          VIC|            3806| 37 Fairholme Boul...|                 null|         Berwick|         VIC|           3806| 03 9707 1026|   161|           Casey (C)| 145.354417|  -38.044094|\n",
       "|      Government|          1|       60|Beaufort Primary ...|    Primary|            O|      2/37 Park Road|          null|        Beaufort|          VIC|            3373|           P O Box 18|                 null|        BEAUFORT|         VIC|           3373| 03 5349 2490|   599|        Pyrenees (S)|143.3817175|-37.43852098|\n",
       "|      Government|          1|       84|Cheltenham Primar...|    Primary|            O|    231 Charman Road|          null|      Cheltenham|          VIC|            3192|     231 Charman Road|                 null|      CHELTENHAM|         VIC|           3192| 03 8585 3200|    91|         Bayside (C)| 145.054635|  -37.968608|\n",
       "|      Government|          1|      105|Cudgee Primary Sc...|    Primary|            O|   3 Hallowells Road|          null|          Cudgee|          VIC|            3265|    3 Hallowells Road|                 null|          CUDGEE|         VIC|           3265| 03 5567 6346|   549|           Moyne (S)| 142.650844|  -38.347938|\n",
       "|      Government|          1|      113|Newport Lakes Pri...|    Primary|            O|    Elizabeth Street|          null|         Newport|          VIC|            3015|     Elizabeth Street|                 null|         NEWPORT|         VIC|           3015| 03 9391 8942|   311|     Hobsons Bay (C)| 144.878345|  -37.838424|\n",
       "|      Government|          1|      116|Cavendish Primary...|    Primary|            O|  8-10 Barker Street|          null|       Cavendish|          VIC|            3314|           P O Box 28|                 null|       CAVENDISH|         VIC|           3314| 03 5574 2282|   626|Southern Grampian...| 142.039893|   -37.53087|\n",
       "|      Government|          1|      117|Colac Primary School|    Primary|            O|53-65 Murray Stre...|          null|           Colac|          VIC|            3250|          P O Box 325|                 null|           COLAC|         VIC|           3250| 03 5231 2560|   175|     Colac-Otway (S)| 143.598336|  -38.337224|\n",
       "|      Government|          1|      119|Castlemaine Prima...|    Primary|            O|Cnr Mostyn & Urqu...|          null|     Castlemaine|          VIC|            3450|          P O Box 448|                 null|     CASTLEMAINE|         VIC|           3450| 03 5472 1452|   543| Mount Alexander (S)| 144.222329|  -37.066595|\n",
       "|      Government|          1|      120|Campbells Creek P...|    Primary|            O|           Main Road|          null| Campbells Creek|          VIC|            3451|            Main Road|                 null| CAMPBELLS CREEK|         VIC|           3451| 03 5472 2180|   543| Mount Alexander (S)| 144.204662|  -37.092935|\n",
       "|      Government|          1|      122|Creswick Primary ...|    Primary|            O|    67 Napier Street|          null|        Creswick|          VIC|            3363|           P O Box 67|                 null|        CRESWICK|         VIC|           3363| 03 5345 2044|   291|         Hepburn (S)|143.8915581|-37.42411355|\n",
       "|      Government|          1|      123|California Gully ...|    Primary|            O|  4-14 Staley Street|          null|California Gully|          VIC|            3556|           P O Box 88|                 null|CALIFORNIA GULLY|         VIC|           3556| 03 5446 8393|   262| Greater Bendigo (C)| 144.249857|  -36.733207|\n",
       "+----------------+-----------+---------+--------------------+-----------+-------------+--------------------+--------------+----------------+-------------+----------------+---------------------+---------------------+----------------+------------+---------------+-------------+------+--------------------+-----------+------------+\n",
       "only showing top 20 rows"
      ]
     },
     "execution_count": 7,
     "metadata": {},
     "output_type": "execute_result"
    }
   ],
   "source": [
    "school_df = spark.read.option(\"header\", \"true\").csv('../data/raw/school.csv')\n",
    "school_df\n",
    "cd = school_df.where((F.col('Address_State') == \"VIC\"))\n",
    "cd = cd.select('X', 'Y','School_Name',)\n",
    "cd.count()"
   ]
  },
  {
   "cell_type": "code",
   "execution_count": 8,
   "id": "ea12189d",
   "metadata": {},
   "outputs": [
    {
     "data": {
      "text/html": [
       "<table border='1'>\n",
       "<tr><th>OBS_VALUE</th><th>TIME_PERIOD: Time Period</th></tr>\n",
       "<tr><td>1296.1</td><td>2020-Q2</td></tr>\n",
       "<tr><td>1283.4</td><td>2020-Q4</td></tr>\n",
       "<tr><td>1260.9</td><td>2021-Q2</td></tr>\n",
       "<tr><td>1294.7</td><td>2021-Q4</td></tr>\n",
       "<tr><td>1295.1</td><td>2022-Q2</td></tr>\n",
       "<tr><td>1296.1</td><td>2020-Q2</td></tr>\n",
       "<tr><td>1283.4</td><td>2020-Q4</td></tr>\n",
       "<tr><td>1260.9</td><td>2021-Q2</td></tr>\n",
       "<tr><td>1294.7</td><td>2021-Q4</td></tr>\n",
       "<tr><td>1295.1</td><td>2022-Q2</td></tr>\n",
       "</table>\n"
      ],
      "text/plain": [
       "+---------+------------------------+\n",
       "|OBS_VALUE|TIME_PERIOD: Time Period|\n",
       "+---------+------------------------+\n",
       "|   1296.1|                 2020-Q2|\n",
       "|   1283.4|                 2020-Q4|\n",
       "|   1260.9|                 2021-Q2|\n",
       "|   1294.7|                 2021-Q4|\n",
       "|   1295.1|                 2022-Q2|\n",
       "|   1296.1|                 2020-Q2|\n",
       "|   1283.4|                 2020-Q4|\n",
       "|   1260.9|                 2021-Q2|\n",
       "|   1294.7|                 2021-Q4|\n",
       "|   1295.1|                 2022-Q2|\n",
       "+---------+------------------------+"
      ]
     },
     "execution_count": 8,
     "metadata": {},
     "output_type": "execute_result"
    }
   ],
   "source": [
    "income_df = spark.read.option(\"header\", \"true\").csv('../data/raw/income.csv')\n",
    "cd = income_df.where((F.col('REGION: Region')[0:1] == \"2\"))\n",
    "cd = cd.select('OBS_VALUE', 'TIME_PERIOD: Time Period')\n",
    "cd"
   ]
  },
  {
   "cell_type": "code",
   "execution_count": 11,
   "id": "e43ceb37",
   "metadata": {},
   "outputs": [
    {
     "data": {
      "text/html": [
       "<table border='1'>\n",
       "<tr><th>OBS_VALUE</th><th>TIME_PERIOD: Time Period</th></tr>\n",
       "<tr><td>6530852</td><td>2019-Q2</td></tr>\n",
       "<tr><td>6561572</td><td>2019-Q3</td></tr>\n",
       "<tr><td>6583405</td><td>2019-Q4</td></tr>\n",
       "<tr><td>6609129</td><td>2020-Q1</td></tr>\n",
       "<tr><td>6606149</td><td>2020-Q2</td></tr>\n",
       "<tr><td>6584353</td><td>2020-Q3</td></tr>\n",
       "<tr><td>6563465</td><td>2020-Q4</td></tr>\n",
       "<tr><td>6551771</td><td>2021-Q1</td></tr>\n",
       "<tr><td>6548040</td><td>2021-Q2</td></tr>\n",
       "<tr><td>6546470</td><td>2021-Q3</td></tr>\n",
       "<tr><td>6559941</td><td>2021-Q4</td></tr>\n",
       "</table>\n"
      ],
      "text/plain": [
       "+---------+------------------------+\n",
       "|OBS_VALUE|TIME_PERIOD: Time Period|\n",
       "+---------+------------------------+\n",
       "|  6530852|                 2019-Q2|\n",
       "|  6561572|                 2019-Q3|\n",
       "|  6583405|                 2019-Q4|\n",
       "|  6609129|                 2020-Q1|\n",
       "|  6606149|                 2020-Q2|\n",
       "|  6584353|                 2020-Q3|\n",
       "|  6563465|                 2020-Q4|\n",
       "|  6551771|                 2021-Q1|\n",
       "|  6548040|                 2021-Q2|\n",
       "|  6546470|                 2021-Q3|\n",
       "|  6559941|                 2021-Q4|\n",
       "+---------+------------------------+"
      ]
     },
     "execution_count": 11,
     "metadata": {},
     "output_type": "execute_result"
    }
   ],
   "source": [
    "population_df = spark.read.option(\"header\", \"true\").csv('../data/raw/population.csv')\n",
    "cd = population_df.where((F.col('REGION: Region')[0:1] == \"2\"))\n",
    "cd = cd.select('OBS_VALUE', 'TIME_PERIOD: Time Period')\n",
    "cd"
   ]
  },
  {
   "cell_type": "code",
   "execution_count": 17,
   "id": "386e7f44",
   "metadata": {},
   "outputs": [
    {
     "data": {
      "text/html": [
       "<table border='1'>\n",
       "<tr><th>OBS_VALUE</th><th>TIME_PERIOD: Time Period</th></tr>\n",
       "<tr><td>608</td><td>2020-Q3</td></tr>\n",
       "<tr><td>953</td><td>2020-Q4</td></tr>\n",
       "<tr><td>784</td><td>2021-Q1</td></tr>\n",
       "<tr><td>1137</td><td>2021-Q2</td></tr>\n",
       "<tr><td>965</td><td>2021-Q3</td></tr>\n",
       "<tr><td>984</td><td>2021-Q4</td></tr>\n",
       "<tr><td>1495</td><td>2020-Q3</td></tr>\n",
       "<tr><td>2132</td><td>2020-Q4</td></tr>\n",
       "<tr><td>2141</td><td>2021-Q1</td></tr>\n",
       "<tr><td>2499</td><td>2021-Q2</td></tr>\n",
       "<tr><td>3099</td><td>2021-Q3</td></tr>\n",
       "<tr><td>2626</td><td>2021-Q4</td></tr>\n",
       "<tr><td>660</td><td>2020-Q3</td></tr>\n",
       "<tr><td>756</td><td>2020-Q4</td></tr>\n",
       "<tr><td>690</td><td>2021-Q1</td></tr>\n",
       "<tr><td>851</td><td>2021-Q2</td></tr>\n",
       "<tr><td>1284</td><td>2021-Q3</td></tr>\n",
       "<tr><td>1072</td><td>2021-Q4</td></tr>\n",
       "<tr><td>1768</td><td>2020-Q3</td></tr>\n",
       "<tr><td>2416</td><td>2020-Q4</td></tr>\n",
       "</table>\n",
       "only showing top 20 rows\n"
      ],
      "text/plain": [
       "+---------+------------------------+\n",
       "|OBS_VALUE|TIME_PERIOD: Time Period|\n",
       "+---------+------------------------+\n",
       "|      608|                 2020-Q3|\n",
       "|      953|                 2020-Q4|\n",
       "|      784|                 2021-Q1|\n",
       "|     1137|                 2021-Q2|\n",
       "|      965|                 2021-Q3|\n",
       "|      984|                 2021-Q4|\n",
       "|     1495|                 2020-Q3|\n",
       "|     2132|                 2020-Q4|\n",
       "|     2141|                 2021-Q1|\n",
       "|     2499|                 2021-Q2|\n",
       "|     3099|                 2021-Q3|\n",
       "|     2626|                 2021-Q4|\n",
       "|      660|                 2020-Q3|\n",
       "|      756|                 2020-Q4|\n",
       "|      690|                 2021-Q1|\n",
       "|      851|                 2021-Q2|\n",
       "|     1284|                 2021-Q3|\n",
       "|     1072|                 2021-Q4|\n",
       "|     1768|                 2020-Q3|\n",
       "|     2416|                 2020-Q4|\n",
       "+---------+------------------------+\n",
       "only showing top 20 rows"
      ]
     },
     "execution_count": 17,
     "metadata": {},
     "output_type": "execute_result"
    }
   ],
   "source": [
    "immi_df = spark.read.option(\"header\", \"true\").csv('../data/raw/immi.csv')\n",
    "cd = immi_df.where((F.col('STATE_DEP: State of Departure')[0:1] == \"2\"))\n",
    "cd = cd.select('OBS_VALUE', 'TIME_PERIOD: Time Period')\n",
    "cd"
   ]
  },
  {
   "cell_type": "code",
   "execution_count": 22,
   "id": "5ef7f127",
   "metadata": {},
   "outputs": [
    {
     "data": {
      "text/html": [
       "<table border='1'>\n",
       "<tr><th>HIND: Total household income (weekly)</th><th>TIME_PERIOD: Time Period</th><th>OBS_VALUE</th></tr>\n",
       "<tr><td>17: $4,000 or more</td><td>2021</td><td>93846</td></tr>\n",
       "<tr><td>6: $500-$649</td><td>2021</td><td>259347</td></tr>\n",
       "<tr><td>15: $3,000-$3,499</td><td>2021</td><td>582333</td></tr>\n",
       "<tr><td>1: Negative/Nil i...</td><td>2021</td><td>71343</td></tr>\n",
       "<tr><td>12: $1,750-$1,999</td><td>2021</td><td>374670</td></tr>\n",
       "<tr><td>4: $300-$399</td><td>2021</td><td>202363</td></tr>\n",
       "<tr><td>7: $650-$799</td><td>2021</td><td>535302</td></tr>\n",
       "<tr><td>3: $150-$299</td><td>2021</td><td>82521</td></tr>\n",
       "<tr><td>17: $4,000 or more</td><td>2021</td><td>1058778</td></tr>\n",
       "<tr><td>1: Negative/Nil i...</td><td>2021</td><td>95101</td></tr>\n",
       "<tr><td>15: $3,000-$3,499</td><td>2021</td><td>523915</td></tr>\n",
       "<tr><td>10: $1,250-$1,499</td><td>2021</td><td>656141</td></tr>\n",
       "<tr><td>12: $1,750-$1,999</td><td>2021</td><td>505348</td></tr>\n",
       "<tr><td>_N: All incomes n...</td><td>2021</td><td>86874</td></tr>\n",
       "<tr><td>4: $300-$399</td><td>2021</td><td>168747</td></tr>\n",
       "<tr><td>13: $2,000-$2,499</td><td>2021</td><td>1043721</td></tr>\n",
       "<tr><td>_T: Total</td><td>2021</td><td>2732570</td></tr>\n",
       "<tr><td>17: $4,000 or more</td><td>2021</td><td>1152627</td></tr>\n",
       "<tr><td>6: $500-$649</td><td>2021</td><td>118319</td></tr>\n",
       "<tr><td>7: $650-$799</td><td>2021</td><td>358514</td></tr>\n",
       "</table>\n",
       "only showing top 20 rows\n"
      ],
      "text/plain": [
       "+-------------------------------------+------------------------+---------+\n",
       "|HIND: Total household income (weekly)|TIME_PERIOD: Time Period|OBS_VALUE|\n",
       "+-------------------------------------+------------------------+---------+\n",
       "|                   17: $4,000 or more|                    2021|    93846|\n",
       "|                         6: $500-$649|                    2021|   259347|\n",
       "|                    15: $3,000-$3,499|                    2021|   582333|\n",
       "|                 1: Negative/Nil i...|                    2021|    71343|\n",
       "|                    12: $1,750-$1,999|                    2021|   374670|\n",
       "|                         4: $300-$399|                    2021|   202363|\n",
       "|                         7: $650-$799|                    2021|   535302|\n",
       "|                         3: $150-$299|                    2021|    82521|\n",
       "|                   17: $4,000 or more|                    2021|  1058778|\n",
       "|                 1: Negative/Nil i...|                    2021|    95101|\n",
       "|                    15: $3,000-$3,499|                    2021|   523915|\n",
       "|                    10: $1,250-$1,499|                    2021|   656141|\n",
       "|                    12: $1,750-$1,999|                    2021|   505348|\n",
       "|                 _N: All incomes n...|                    2021|    86874|\n",
       "|                         4: $300-$399|                    2021|   168747|\n",
       "|                    13: $2,000-$2,499|                    2021|  1043721|\n",
       "|                            _T: Total|                    2021|  2732570|\n",
       "|                   17: $4,000 or more|                    2021|  1152627|\n",
       "|                         6: $500-$649|                    2021|   118319|\n",
       "|                         7: $650-$799|                    2021|   358514|\n",
       "+-------------------------------------+------------------------+---------+\n",
       "only showing top 20 rows"
      ]
     },
     "execution_count": 22,
     "metadata": {},
     "output_type": "execute_result"
    }
   ],
   "source": [
    "household_df = spark.read.option(\"header\", \"true\").csv('../data/raw/household.csv')\n",
    "cd = household_df.select('HIND: Total household income (weekly)', 'TIME_PERIOD: Time Period', 'OBS_VALUE')\n",
    "cd"
   ]
  }
 ],
 "metadata": {
  "kernelspec": {
   "display_name": "Python 3 (ipykernel)",
   "language": "python",
   "name": "python3"
  },
  "language_info": {
   "codemirror_mode": {
    "name": "ipython",
    "version": 3
   },
   "file_extension": ".py",
   "mimetype": "text/x-python",
   "name": "python",
   "nbconvert_exporter": "python",
   "pygments_lexer": "ipython3",
   "version": "3.8.10"
  }
 },
 "nbformat": 4,
 "nbformat_minor": 5
}
