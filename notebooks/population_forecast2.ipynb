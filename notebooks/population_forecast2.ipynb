{
 "cells": [
  {
   "cell_type": "code",
   "execution_count": 1,
   "metadata": {
    "collapsed": true
   },
   "outputs": [],
   "source": [
    "import pandas as pd\n",
    "import matplotlib.pyplot as plt\n",
    "import seaborn as sns\n",
    "import statsmodels.api as sm"
   ]
  },
  {
   "cell_type": "code",
   "execution_count": 2,
   "metadata": {
    "pycharm": {
     "name": "#%%\n"
    }
   },
   "outputs": [
    {
     "name": "stdout",
     "output_type": "stream",
     "text": [
      "[22031750 22340024 22733465 23128129 23475686 23815995 24190907 24594202\n",
      " 24966643 25340217 25655289 25688079]\n"
     ]
    },
    {
     "data": {
      "text/plain": [
       "Text(0.5, 1.0, 'population number in  2010 ~ 2021 in SA2 area')"
      ]
     },
     "execution_count": 2,
     "metadata": {},
     "output_type": "execute_result"
    },
    {
     "data": {
      "image/png": "[encoded data removed]",
      "text/plain": [
       "<Figure size 432x288 with 1 Axes>"
      ]
     },
     "metadata": {
      "needs_background": "light"
     },
     "output_type": "display_data"
    }
   ],
   "source": [
    "# read data from SA2.CSV\n",
    "population_data = pd.read_csv('../data/curated/SA2.csv')\n",
    "region_population = population_data.groupby('TIME_PERIOD: Time Period')['OBS_VALUE'].sum()\n",
    "print(region_population.values)\n",
    "plt.xlabel('year')\n",
    "plt.ylabel('number of population')\n",
    "plt.plot(region_population.index, region_population.values,  color='b')  \n",
    "plt.title(\"population number in  2010 ~ 2021 in SA2 area\")"
   ]
  },
  {
   "cell_type": "code",
   "execution_count": 115,
   "metadata": {},
   "outputs": [
    {
     "data": {
      "text/plain": [
       "array([[7144292, 7218529, 7304244, 7404032, 7508353, 7616168, 7732858,\n",
       "        7850871, 7945580, 8034305, 8094317, 8093815],\n",
       "       [   3055,    3117,    3033,    2962,    2896,    2851,    4608,\n",
       "           4665,    4716,    4759,    4791,    4848],\n",
       "       [ 508847,  511483,  511724,  512231,  513621,  515117,  517514,\n",
       "         528324,  540112,  552310,  563507,  567909],\n",
       "       [4404744, 4476778, 4568687, 4652824, 4719653, 4777692, 4845152,\n",
       "        4928374, 5010502, 5094718, 5175003, 5217653],\n",
       "       [2290845, 2353409, 2425507, 2486944, 2517608, 2540672, 2555978,\n",
       "        2587577, 2621052, 2663795, 2718400, 2749864],\n",
       "       [1627322, 1639614, 1656725, 1671488, 1686945, 1700668, 1712843,\n",
       "        1729608, 1748010, 1770048, 1793547, 1803192],\n",
       "       [ 229778,  231292,  235915,  241722,  242894,  244692,  245678,\n",
       "         248161,  248363,  248153,  248943,  249200],\n",
       "       [ 361766,  367985,  376539,  383257,  388799,  395813,  403104,\n",
       "         416824,  430140,  441277,  450632,  453558],\n",
       "       [5461101, 5537817, 5651091, 5772669, 5894917, 6022322, 6173172,\n",
       "        6299798, 6418168, 6530852, 6606149, 6548040]], dtype=int64)"
      ]
     },
     "execution_count": 115,
     "metadata": {},
     "output_type": "execute_result"
    }
   ],
   "source": [
    "import numpy as np\n",
    "data =  [population_data['OBS_VALUE'][:12], population_data['OBS_VALUE'][12:24], population_data['OBS_VALUE'][24:36], population_data['OBS_VALUE'][36:48], population_data['OBS_VALUE'][48:60],population_data['OBS_VALUE'][60:72],population_data['OBS_VALUE'][72:84], population_data['OBS_VALUE'][84:96], population_data['OBS_VALUE'][96:108]]\n",
    "data\n",
    "arr=np.array(data)\n",
    "arr\n"
   ]
  },
  {
   "cell_type": "code",
   "execution_count": 131,
   "metadata": {},
   "outputs": [],
   "source": [
    "columns = ['2010','2011','2012','2013','2014','2015','2016','2017','2018','2019','2020','2021']\n",
    "rows = ['1: New South Wales', '9: Other Territories', '6: Tasmania',  '3: Queensland', '5: Western Australia', '4: South Australia', '7: Northern Territory',  '8: Australian Capital Territory',\n",
    "'2: Victoria']\n",
    "df = pd.DataFrame(columns = columns,data = arr, index = rows) "
   ]
  },
  {
   "cell_type": "code",
   "execution_count": 132,
   "metadata": {},
   "outputs": [
    {
     "data": {
      "text/html": [
       "<div>\n",
       "<style scoped>\n",
       "    .dataframe tbody tr th:only-of-type {\n",
       "        vertical-align: middle;\n",
       "    }\n",
       "\n",
       "    .dataframe tbody tr th {\n",
       "        vertical-align: top;\n",
       "    }\n",
       "\n",
       "    .dataframe thead th {\n",
       "        text-align: right;\n",
       "    }\n",
       "</style>\n",
       "<table border=\"1\" class=\"dataframe\">\n",
       "  <thead>\n",
       "    <tr style=\"text-align: right;\">\n",
       "      <th></th>\n",
       "      <th>2010</th>\n",
       "      <th>2011</th>\n",
       "      <th>2012</th>\n",
       "      <th>2013</th>\n",
       "      <th>2014</th>\n",
       "      <th>2015</th>\n",
       "      <th>2016</th>\n",
       "      <th>2017</th>\n",
       "      <th>2018</th>\n",
       "      <th>2019</th>\n",
       "      <th>2020</th>\n",
       "      <th>2021</th>\n",
       "    </tr>\n",
       "  </thead>\n",
       "  <tbody>\n",
       "    <tr>\n",
       "      <th>1: New South Wales</th>\n",
       "      <td>7144292</td>\n",
       "      <td>7218529</td>\n",
       "      <td>7304244</td>\n",
       "      <td>7404032</td>\n",
       "      <td>7508353</td>\n",
       "      <td>7616168</td>\n",
       "      <td>7732858</td>\n",
       "      <td>7850871</td>\n",
       "      <td>7945580</td>\n",
       "      <td>8034305</td>\n",
       "      <td>8094317</td>\n",
       "      <td>8093815</td>\n",
       "    </tr>\n",
       "    <tr>\n",
       "      <th>9: Other Territories</th>\n",
       "      <td>3055</td>\n",
       "      <td>3117</td>\n",
       "      <td>3033</td>\n",
       "      <td>2962</td>\n",
       "      <td>2896</td>\n",
       "      <td>2851</td>\n",
       "      <td>4608</td>\n",
       "      <td>4665</td>\n",
       "      <td>4716</td>\n",
       "      <td>4759</td>\n",
       "      <td>4791</td>\n",
       "      <td>4848</td>\n",
       "    </tr>\n",
       "    <tr>\n",
       "      <th>6: Tasmania</th>\n",
       "      <td>508847</td>\n",
       "      <td>511483</td>\n",
       "      <td>511724</td>\n",
       "      <td>512231</td>\n",
       "      <td>513621</td>\n",
       "      <td>515117</td>\n",
       "      <td>517514</td>\n",
       "      <td>528324</td>\n",
       "      <td>540112</td>\n",
       "      <td>552310</td>\n",
       "      <td>563507</td>\n",
       "      <td>567909</td>\n",
       "    </tr>\n",
       "    <tr>\n",
       "      <th>3: Queensland</th>\n",
       "      <td>4404744</td>\n",
       "      <td>4476778</td>\n",
       "      <td>4568687</td>\n",
       "      <td>4652824</td>\n",
       "      <td>4719653</td>\n",
       "      <td>4777692</td>\n",
       "      <td>4845152</td>\n",
       "      <td>4928374</td>\n",
       "      <td>5010502</td>\n",
       "      <td>5094718</td>\n",
       "      <td>5175003</td>\n",
       "      <td>5217653</td>\n",
       "    </tr>\n",
       "    <tr>\n",
       "      <th>5: Western Australia</th>\n",
       "      <td>2290845</td>\n",
       "      <td>2353409</td>\n",
       "      <td>2425507</td>\n",
       "      <td>2486944</td>\n",
       "      <td>2517608</td>\n",
       "      <td>2540672</td>\n",
       "      <td>2555978</td>\n",
       "      <td>2587577</td>\n",
       "      <td>2621052</td>\n",
       "      <td>2663795</td>\n",
       "      <td>2718400</td>\n",
       "      <td>2749864</td>\n",
       "    </tr>\n",
       "    <tr>\n",
       "      <th>4: South Australia</th>\n",
       "      <td>1627322</td>\n",
       "      <td>1639614</td>\n",
       "      <td>1656725</td>\n",
       "      <td>1671488</td>\n",
       "      <td>1686945</td>\n",
       "      <td>1700668</td>\n",
       "      <td>1712843</td>\n",
       "      <td>1729608</td>\n",
       "      <td>1748010</td>\n",
       "      <td>1770048</td>\n",
       "      <td>1793547</td>\n",
       "      <td>1803192</td>\n",
       "    </tr>\n",
       "    <tr>\n",
       "      <th>7: Northern Territory</th>\n",
       "      <td>229778</td>\n",
       "      <td>231292</td>\n",
       "      <td>235915</td>\n",
       "      <td>241722</td>\n",
       "      <td>242894</td>\n",
       "      <td>244692</td>\n",
       "      <td>245678</td>\n",
       "      <td>248161</td>\n",
       "      <td>248363</td>\n",
       "      <td>248153</td>\n",
       "      <td>248943</td>\n",
       "      <td>249200</td>\n",
       "    </tr>\n",
       "    <tr>\n",
       "      <th>8: Australian Capital Territory</th>\n",
       "      <td>361766</td>\n",
       "      <td>367985</td>\n",
       "      <td>376539</td>\n",
       "      <td>383257</td>\n",
       "      <td>388799</td>\n",
       "      <td>395813</td>\n",
       "      <td>403104</td>\n",
       "      <td>416824</td>\n",
       "      <td>430140</td>\n",
       "      <td>441277</td>\n",
       "      <td>450632</td>\n",
       "      <td>453558</td>\n",
       "    </tr>\n",
       "    <tr>\n",
       "      <th>2: Victoria</th>\n",
       "      <td>5461101</td>\n",
       "      <td>5537817</td>\n",
       "      <td>5651091</td>\n",
       "      <td>5772669</td>\n",
       "      <td>5894917</td>\n",
       "      <td>6022322</td>\n",
       "      <td>6173172</td>\n",
       "      <td>6299798</td>\n",
       "      <td>6418168</td>\n",
       "      <td>6530852</td>\n",
       "      <td>6606149</td>\n",
       "      <td>6548040</td>\n",
       "    </tr>\n",
       "  </tbody>\n",
       "</table>\n",
       "</div>"
      ],
      "text/plain": [
       "                                    2010     2011     2012     2013     2014  \\\n",
       "1: New South Wales               7144292  7218529  7304244  7404032  7508353   \n",
       "9: Other Territories                3055     3117     3033     2962     2896   \n",
       "6: Tasmania                       508847   511483   511724   512231   513621   \n",
       "3: Queensland                    4404744  4476778  4568687  4652824  4719653   \n",
       "5: Western Australia             2290845  2353409  2425507  2486944  2517608   \n",
       "4: South Australia               1627322  1639614  1656725  1671488  1686945   \n",
       "7: Northern Territory             229778   231292   235915   241722   242894   \n",
       "8: Australian Capital Territory   361766   367985   376539   383257   388799   \n",
       "2: Victoria                      5461101  5537817  5651091  5772669  5894917   \n",
       "\n",
       "                                    2015     2016     2017     2018     2019  \\\n",
       "1: New South Wales               7616168  7732858  7850871  7945580  8034305   \n",
       "9: Other Territories                2851     4608     4665     4716     4759   \n",
       "6: Tasmania                       515117   517514   528324   540112   552310   \n",
       "3: Queensland                    4777692  4845152  4928374  5010502  5094718   \n",
       "5: Western Australia             2540672  2555978  2587577  2621052  2663795   \n",
       "4: South Australia               1700668  1712843  1729608  1748010  1770048   \n",
       "7: Northern Territory             244692   245678   248161   248363   248153   \n",
       "8: Australian Capital Territory   395813   403104   416824   430140   441277   \n",
       "2: Victoria                      6022322  6173172  6299798  6418168  6530852   \n",
       "\n",
       "                                    2020     2021  \n",
       "1: New South Wales               8094317  8093815  \n",
       "9: Other Territories                4791     4848  \n",
       "6: Tasmania                       563507   567909  \n",
       "3: Queensland                    5175003  5217653  \n",
       "5: Western Australia             2718400  2749864  \n",
       "4: South Australia               1793547  1803192  \n",
       "7: Northern Territory             248943   249200  \n",
       "8: Australian Capital Territory   450632   453558  \n",
       "2: Victoria                      6606149  6548040  "
      ]
     },
     "execution_count": 132,
     "metadata": {},
     "output_type": "execute_result"
    }
   ],
   "source": [
    "df"
   ]
  },
  {
   "cell_type": "code",
   "execution_count": 193,
   "metadata": {},
   "outputs": [],
   "source": [
    "sum2021 = df['2021'][0]+df['2021'][1]+df['2021'][2]+df['2021'][3]+df['2021'][4]+df['2021'][5]+df['2021'][6]+df['2021'][7]+df['2021'][8]\n",
    "sum2010 = df['2010'][0]+df['2010'][1]+df['2010'][2]+df['2010'][3]+df['2010'][4]+df['2010'][5]+df['2010'][6]+df['2010'][7]+df['2010'][8]"
   ]
  },
  {
   "cell_type": "code",
   "execution_count": 209,
   "metadata": {},
   "outputs": [
    {
     "data": {
      "text/plain": [
       "0.013829772184839302"
      ]
     },
     "execution_count": 209,
     "metadata": {},
     "output_type": "execute_result"
    }
   ],
   "source": [
    "ratewhole = (sum2021-sum2010)/(sum2010)/12\n",
    "ratewhole"
   ]
  },
  {
   "cell_type": "code",
   "execution_count": 210,
   "metadata": {},
   "outputs": [
    {
     "data": {
      "text/plain": [
       "26043339.280436154"
      ]
     },
     "execution_count": 210,
     "metadata": {},
     "output_type": "execute_result"
    }
   ],
   "source": [
    "sum2022 = sum2021*(1+ratewhole)\n",
    "sum2022 "
   ]
  },
  {
   "cell_type": "code",
   "execution_count": 211,
   "metadata": {},
   "outputs": [
    {
     "data": {
      "text/plain": [
       "26403512.729617063"
      ]
     },
     "execution_count": 211,
     "metadata": {},
     "output_type": "execute_result"
    }
   ],
   "source": [
    "sum2023 =  sum2021*(1+ratewhole)*(1+ratewhole)\n",
    "sum2023"
   ]
  },
  {
   "cell_type": "code",
   "execution_count": 212,
   "metadata": {},
   "outputs": [
    {
     "data": {
      "text/plain": [
       "26403512.729617063"
      ]
     },
     "execution_count": 212,
     "metadata": {},
     "output_type": "execute_result"
    }
   ],
   "source": [
    "sum2023 = sum2022*(1+ratewhole)\n",
    "sum2023"
   ]
  },
  {
   "cell_type": "code",
   "execution_count": 196,
   "metadata": {},
   "outputs": [],
   "source": [
    "ratevic = (df['2021']['2: Victoria']-df['2010']['2: Victoria'])/5461101/12"
   ]
  },
  {
   "cell_type": "code",
   "execution_count": 197,
   "metadata": {},
   "outputs": [
    {
     "data": {
      "text/plain": [
       "6656646.305602112"
      ]
     },
     "execution_count": 197,
     "metadata": {},
     "output_type": "execute_result"
    }
   ],
   "source": [
    "vic2022 = 6548040*(1+ratevic)\n",
    "vic2022"
   ]
  },
  {
   "cell_type": "code",
   "execution_count": 188,
   "metadata": {
    "pycharm": {
     "name": "#%%\n"
    }
   },
   "outputs": [
    {
     "name": "stderr",
     "output_type": "stream",
     "text": [
      "k:\\Users\\ZHAI\\anaconda3\\lib\\site-packages\\seaborn\\_decorators.py:36: FutureWarning: Pass the following variables as keyword args: x, y. From version 0.12, the only valid positional argument will be `data`, and passing other arguments without an explicit keyword will result in an error or misinterpretation.\n",
      "  warnings.warn(\n"
     ]
    },
    {
     "name": "stdout",
     "output_type": "stream",
     "text": [
      "                             OLS Regression Results                             \n",
      "================================================================================\n",
      "Dep. Variable:     number of population   R-squared:                       0.995\n",
      "Model:                              OLS   Adj. R-squared:                  0.994\n",
      "Method:                   Least Squares   F-statistic:                     1831.\n",
      "Date:                  Wed, 21 Sep 2022   Prob (F-statistic):           1.17e-12\n",
      "Time:                          04:20:43   Log-Likelihood:                -153.96\n",
      "No. Observations:                    12   AIC:                             311.9\n",
      "Df Residuals:                        10   BIC:                             312.9\n",
      "Df Model:                             1                                         \n",
      "Covariance Type:              nonrobust                                         \n",
      "==============================================================================\n",
      "                 coef    std err          t      P>|t|      [0.025      0.975]\n",
      "------------------------------------------------------------------------------\n",
      "const      -6.894e+08   1.67e+07    -41.349      0.000   -7.27e+08   -6.52e+08\n",
      "year        3.539e+05   8271.984     42.788      0.000    3.36e+05    3.72e+05\n",
      "==============================================================================\n",
      "Omnibus:                       14.233   Durbin-Watson:                   1.163\n",
      "Prob(Omnibus):                  0.001   Jarque-Bera (JB):                8.843\n",
      "Skew:                          -1.649   Prob(JB):                       0.0120\n",
      "Kurtosis:                       5.611   Cond. No.                     1.18e+06\n",
      "==============================================================================\n",
      "\n",
      "Notes:\n",
      "[1] Standard Errors assume that the covariance matrix of the errors is correctly specified.\n",
      "[2] The condition number is large, 1.18e+06. This might indicate that there are\n",
      "strong multicollinearity or other numerical problems.\n",
      "const   -6.893726e+08\n",
      "year     3.539416e+05\n",
      "dtype: float64\n"
     ]
    },
    {
     "name": "stderr",
     "output_type": "stream",
     "text": [
      "k:\\Users\\ZHAI\\anaconda3\\lib\\site-packages\\statsmodels\\tsa\\tsatools.py:142: FutureWarning: In a future version of pandas all arguments of concat except for the argument 'objs' will be keyword-only\n",
      "  x = pd.concat(x[::order], 1)\n",
      "k:\\Users\\ZHAI\\anaconda3\\lib\\site-packages\\scipy\\stats\\stats.py:1541: UserWarning: kurtosistest only valid for n>=20 ... continuing anyway, n=12\n",
      "  warnings.warn(\"kurtosistest only valid for n>=20 ... continuing \"\n"
     ]
    },
    {
     "data": {
      "image/png": "[encoded data removed]",
      "text/plain": [
       "<Figure size 432x288 with 1 Axes>"
      ]
     },
     "metadata": {
      "needs_background": "light"
     },
     "output_type": "display_data"
    }
   ],
   "source": [
    "# line model fit\n",
    "merge_polulation_year = pd.DataFrame([ region_population.values, region_population.index], index=['number of population', 'year']).T\n",
    "sns.regplot('year', 'number of population', data=merge_polulation_year, order=1)\n",
    "plt.title('populationnumber in 2010 ~ 2021 in SA2 area scatter and fit')\n",
    "X = sm.add_constant(merge_polulation_year['year'])\n",
    "model = sm.OLS(merge_polulation_year['number of population'], X)\n",
    "fit = model.fit()\n",
    "print(fit.summary())\n",
    "print(fit.params)"
   ]
  },
  {
   "cell_type": "code",
   "execution_count": null,
   "metadata": {},
   "outputs": [],
   "source": []
  },
  {
   "cell_type": "code",
   "execution_count": 189,
   "metadata": {
    "pycharm": {
     "name": "#%%\n"
    }
   },
   "outputs": [],
   "source": [
    "## For prediction of population\n",
    "def predict(year):\n",
    "    return int (fit.params.year * year + fit.params.const)"
   ]
  },
  {
   "cell_type": "code",
   "execution_count": 213,
   "metadata": {
    "pycharm": {
     "name": "#%%\n"
    }
   },
   "outputs": [
    {
     "name": "stdout",
     "output_type": "stream",
     "text": [
      "26297319\n"
     ]
    }
   ],
   "source": [
    "# predict population in SA2 in 2022\n",
    "print(predict(2022))\n"
   ]
  }
 ],
 "metadata": {
  "kernelspec": {
   "display_name": "Python 3 (ipykernel)",
   "language": "python",
   "name": "python3"
  },
  "language_info": {
   "codemirror_mode": {
    "name": "ipython",
    "version": 3
   },
   "file_extension": ".py",
   "mimetype": "text/x-python",
   "name": "python",
   "nbconvert_exporter": "python",
   "pygments_lexer": "ipython3",
   "version": "3.8.10"
  },
  "vscode": {
   "interpreter": {
    "hash": "4e38fc49d137405e7e4b2b40235f3fb61c5305dd68d0a267b6643c0ea8660773"
   }
  }
 },
 "nbformat": 4,
 "nbformat_minor": 1
}
